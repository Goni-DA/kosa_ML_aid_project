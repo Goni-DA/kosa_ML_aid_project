{
 "cells": [
  {
   "cell_type": "markdown",
   "metadata": {},
   "source": [
    "#  1일차 - 데이터 수집 / 2019 년 데이터 정제"
   ]
  },
  {
   "cell_type": "markdown",
   "metadata": {},
   "source": [
    "## 패키지 임포트"
   ]
  },
  {
   "cell_type": "code",
   "execution_count": 1,
   "metadata": {
    "ExecuteTime": {
     "end_time": "2021-03-26T10:23:43.227441Z",
     "start_time": "2021-03-26T10:23:41.257570Z"
    },
    "scrolled": true
   },
   "outputs": [],
   "source": [
    "#데이터 전처리 패키지\n",
    "import numpy as np\n",
    "import pandas as pd\n",
    "import matplotlib.pyplot as plt\n",
    "import missingno\n",
    "\n",
    "#머신러닝 패키지\n",
    "from sklearn.model_selection import train_test_split\n",
    "from sklearn.linear_model import LinearRegression\n",
    "import statsmodels.formula.api as smf"
   ]
  },
  {
   "cell_type": "markdown",
   "metadata": {},
   "source": [
    "##  데이터프레임 및 전후반기 데이터 결합"
   ]
  },
  {
   "cell_type": "code",
   "execution_count": null,
   "metadata": {
    "ExecuteTime": {
     "end_time": "2021-03-26T06:35:29.078018Z",
     "start_time": "2021-03-26T06:35:28.989070Z"
    },
    "scrolled": true
   },
   "outputs": [],
   "source": [
    "# 데이터 불러오기\n",
    "df_2019 = pd.read_csv(\"구급활동현황(2019년).csv\", encoding ='cp949')"
   ]
  },
  {
   "cell_type": "code",
   "execution_count": null,
   "metadata": {
    "scrolled": true
   },
   "outputs": [],
   "source": [
    "# 미사용 데이터 제거\n",
    "df_2019.drop(['집계년도','접수경로','관할구분','질병외_교통사고','질병외_사고부상','질병외_비외상성손상','구급대원1_자격','구급대원2_자격','운전요원_자격'], axis=1)"
   ]
  },
  {
   "cell_type": "code",
   "execution_count": null,
   "metadata": {
    "ExecuteTime": {
     "end_time": "2021-03-24T09:03:57.412962Z",
     "start_time": "2021-03-24T09:03:47.775406Z"
    },
    "scrolled": true
   },
   "outputs": [],
   "source": [
    "# 기존 데이터의 전후반기 데이터 오류로 전반기 데이터 별도 출력 후 저장\n",
    "df_modified = df_2019.loc[0:392873,:]\n",
    "df_modified.to_csv(\"df_noname3.csv\", encoding=\"utf-8-sig\", index=False)\n",
    "\n",
    "df_modified2 = df_2019.loc[392874:,:]\n",
    "df_modified2.to_csv(\"df_noname4.csv\", encoding=\"utf-8-sig\", index=False)\n"
   ]
  },
  {
   "cell_type": "code",
   "execution_count": null,
   "metadata": {
    "ExecuteTime": {
     "end_time": "2021-03-24T09:09:29.354763Z",
     "start_time": "2021-03-24T09:09:26.096613Z"
    },
    "scrolled": true
   },
   "outputs": [],
   "source": [
    "df_1sthalf = pd.read_csv(\"df_noname3.csv\", encoding='utf-8')\n",
    "df_2ndhalf = pd.read_csv(\"df_noname4.csv\", encoding='utf-8')"
   ]
  },
  {
   "cell_type": "code",
   "execution_count": null,
   "metadata": {
    "ExecuteTime": {
     "end_time": "2021-03-24T09:09:43.739080Z",
     "start_time": "2021-03-24T09:09:36.296342Z"
    },
    "scrolled": true
   },
   "outputs": [],
   "source": [
    "# 데이터 결합\n",
    "df_2019_done = pd.concat([df_1sthalf,df_2ndhalf], axis=0)\n",
    "df_2019_done.to_csv(\"2019_done_final2.csv\", encoding=\"utf-8-sig\", index=False)"
   ]
  },
  {
   "cell_type": "code",
   "execution_count": null,
   "metadata": {
    "scrolled": true
   },
   "outputs": [],
   "source": [
    "df_done_2019 = pd.read_csv(\"2019_done.csv\", encoding=\"utf-8\")\n",
    "# 영어이름으로 컬럼변경\n",
    "df_done_2019.columns = [\"FIRESTTN_NM\",\"SAFE_CENTER_NM\",\"YMD\",\"STATMNT_TM\",\"ONSPOT_TM\",\"ONSPOT_DSTN\",\"LC_SIGNGU\",\"LC_EMD\",\"LC_LI\",\"CONSCS_STATE\"]"
   ]
  },
  {
   "cell_type": "code",
   "execution_count": null,
   "metadata": {
    "ExecuteTime": {
     "end_time": "2021-03-24T09:09:49.563503Z",
     "start_time": "2021-03-24T09:09:46.175430Z"
    },
    "scrolled": true
   },
   "outputs": [],
   "source": [
    "df_done_2019__ = pd.read_csv(\"2019_done_final2.csv\", encoding=\"utf-8\")\n"
   ]
  },
  {
   "cell_type": "code",
   "execution_count": null,
   "metadata": {
    "ExecuteTime": {
     "end_time": "2021-03-24T09:12:00.030991Z",
     "start_time": "2021-03-24T09:11:53.740583Z"
    },
    "scrolled": true
   },
   "outputs": [],
   "source": [
    "df_done_2019__.drop(['Unnamed: 33', 'Unnamed: 34', 'Unnamed: 35'], axis=1, inplace=True)\n",
    "df_done_2019__.to_csv(\"2019_done_final_귀소시간유지.csv\", encoding=\"utf-8-sig\", index=False)"
   ]
  },
  {
   "cell_type": "code",
   "execution_count": null,
   "metadata": {
    "scrolled": true
   },
   "outputs": [],
   "source": []
  },
  {
   "cell_type": "markdown",
   "metadata": {},
   "source": [
    "## 1일차 - 개인별 열정리완료 데이터 모음"
   ]
  },
  {
   "cell_type": "code",
   "execution_count": null,
   "metadata": {
    "ExecuteTime": {
     "end_time": "2021-03-24T02:19:00.424208Z",
     "start_time": "2021-03-24T02:19:00.225323Z"
    },
    "scrolled": true
   },
   "outputs": [],
   "source": [
    "import pandas as pd\n",
    "import numpy as np\n",
    "\n",
    "df_sso = pd.read_csv(\"2017년열삭제1.csv\", encoding=\"utf-8-sig\")\n",
    "df_ddoong = pd.read_csv(\"2018열삭제.csv\", encoding=\"utf-8-sig\")\n",
    "df_PSB = pd.read_csv(\"2020_done.csv\", encoding=\"utf-8-sig\")\n",
    "df_goni = pd.read_csv(\"2019_real_done.csv\", encoding=\"utf-8-sig\")\n",
    "df_lee = pd.read_csv(\"2016_done2.csv\", encoding=\"utf-8-sig\")\n"
   ]
  },
  {
   "cell_type": "code",
   "execution_count": null,
   "metadata": {
    "scrolled": true
   },
   "outputs": [],
   "source": [
    "# 최종 데이터프레임으로 결합\n",
    "df_complete = pd.concat([df_sso, df_goni, df_ddoong, df_PSB, df_lee], axis=0)"
   ]
  },
  {
   "cell_type": "code",
   "execution_count": null,
   "metadata": {
    "scrolled": true
   },
   "outputs": [],
   "source": [
    "# PK 값 삽입 후 최종 파일 저장\n",
    "df_pk = df_complete.copy() # 안전을 위해 복사후 처리\n",
    "df_pk.insert(0,\"PK\",np.arange(1,6345059))\n",
    "df_pk.to_csv(\"aid_03231522.csv\", encoding=\"utf-8-sig\", index=False)"
   ]
  },
  {
   "cell_type": "markdown",
   "metadata": {},
   "source": [
    "## 1일차 - 긴급Help 도전"
   ]
  },
  {
   "cell_type": "code",
   "execution_count": null,
   "metadata": {
    "scrolled": true
   },
   "outputs": [],
   "source": [
    "##영준 help\n",
    "df_0323 = pd.read_csv(\"aid_03231542.csv\", encoding=\"utf-8-sig\")"
   ]
  },
  {
   "cell_type": "code",
   "execution_count": null,
   "metadata": {
    "scrolled": true
   },
   "outputs": [],
   "source": [
    "df_check = df_0323.loc[:,\"ONSPOT_TM\"]\n",
    "df_dbcheck = df_0323.loc[:,\"STATMNT_TM\"]"
   ]
  },
  {
   "cell_type": "code",
   "execution_count": null,
   "metadata": {
    "scrolled": true
   },
   "outputs": [],
   "source": [
    "# 시간 : 분 에서 시간만 추출하기\n",
    "df_0323['STATMNT_TM'] = df_0323.STATMNT_TM.str.split(':').str[0]"
   ]
  },
  {
   "cell_type": "code",
   "execution_count": null,
   "metadata": {
    "scrolled": true
   },
   "outputs": [],
   "source": [
    "##성범이형 HELP\n",
    "\n",
    "if (len(for i in (df_0323['ONSPOT_TM'].tolist())) > 7) :\n",
    "    df_0323['dbc4'] = True\n",
    "else :\n",
    "    df_0323['dbc4'] = False\n",
    "\n",
    "# 숫자데이터 오류 발견 후 해결과정\n",
    "df_0323['ONSPOT_TM'] = df_0323['ONSPOT_TM'].replace(r'0.[0-9]+','삭제',regex= True)\n",
    "    "
   ]
  },
  {
   "cell_type": "markdown",
   "metadata": {},
   "source": [
    "## 전처리 - 소방서, 센터데이터 레이블 인코딩"
   ]
  },
  {
   "cell_type": "code",
   "execution_count": 3,
   "metadata": {
    "ExecuteTime": {
     "end_time": "2021-03-25T09:19:13.583568Z",
     "start_time": "2021-03-25T09:19:08.006760Z"
    },
    "scrolled": true
   },
   "outputs": [
    {
     "ename": "FileNotFoundError",
     "evalue": "[Errno 2] No such file or directory: 'aid_all.csv'",
     "output_type": "error",
     "traceback": [
      "\u001b[1;31m---------------------------------------------------------------------------\u001b[0m",
      "\u001b[1;31mFileNotFoundError\u001b[0m                         Traceback (most recent call last)",
      "\u001b[1;32m<ipython-input-3-a8c0a025558d>\u001b[0m in \u001b[0;36m<module>\u001b[1;34m\u001b[0m\n\u001b[0;32m      1\u001b[0m \u001b[1;31m# 결측치 처리 완료 코딩\u001b[0m\u001b[1;33m\u001b[0m\u001b[1;33m\u001b[0m\u001b[1;33m\u001b[0m\u001b[0m\n\u001b[1;32m----> 2\u001b[1;33m \u001b[0mdf_misdone\u001b[0m \u001b[1;33m=\u001b[0m \u001b[0mpd\u001b[0m\u001b[1;33m.\u001b[0m\u001b[0mread_csv\u001b[0m\u001b[1;33m(\u001b[0m\u001b[1;34m\"aid_all.csv\"\u001b[0m\u001b[1;33m,\u001b[0m \u001b[0mencoding\u001b[0m\u001b[1;33m=\u001b[0m\u001b[1;34m\"utf-8\"\u001b[0m\u001b[1;33m)\u001b[0m\u001b[1;33m\u001b[0m\u001b[1;33m\u001b[0m\u001b[0m\n\u001b[0m",
      "\u001b[1;32m~\\anaconda3\\lib\\site-packages\\pandas\\io\\parsers.py\u001b[0m in \u001b[0;36mread_csv\u001b[1;34m(filepath_or_buffer, sep, delimiter, header, names, index_col, usecols, squeeze, prefix, mangle_dupe_cols, dtype, engine, converters, true_values, false_values, skipinitialspace, skiprows, skipfooter, nrows, na_values, keep_default_na, na_filter, verbose, skip_blank_lines, parse_dates, infer_datetime_format, keep_date_col, date_parser, dayfirst, cache_dates, iterator, chunksize, compression, thousands, decimal, lineterminator, quotechar, quoting, doublequote, escapechar, comment, encoding, dialect, error_bad_lines, warn_bad_lines, delim_whitespace, low_memory, memory_map, float_precision)\u001b[0m\n\u001b[0;32m    684\u001b[0m     )\n\u001b[0;32m    685\u001b[0m \u001b[1;33m\u001b[0m\u001b[0m\n\u001b[1;32m--> 686\u001b[1;33m     \u001b[1;32mreturn\u001b[0m \u001b[0m_read\u001b[0m\u001b[1;33m(\u001b[0m\u001b[0mfilepath_or_buffer\u001b[0m\u001b[1;33m,\u001b[0m \u001b[0mkwds\u001b[0m\u001b[1;33m)\u001b[0m\u001b[1;33m\u001b[0m\u001b[1;33m\u001b[0m\u001b[0m\n\u001b[0m\u001b[0;32m    687\u001b[0m \u001b[1;33m\u001b[0m\u001b[0m\n\u001b[0;32m    688\u001b[0m \u001b[1;33m\u001b[0m\u001b[0m\n",
      "\u001b[1;32m~\\anaconda3\\lib\\site-packages\\pandas\\io\\parsers.py\u001b[0m in \u001b[0;36m_read\u001b[1;34m(filepath_or_buffer, kwds)\u001b[0m\n\u001b[0;32m    450\u001b[0m \u001b[1;33m\u001b[0m\u001b[0m\n\u001b[0;32m    451\u001b[0m     \u001b[1;31m# Create the parser.\u001b[0m\u001b[1;33m\u001b[0m\u001b[1;33m\u001b[0m\u001b[1;33m\u001b[0m\u001b[0m\n\u001b[1;32m--> 452\u001b[1;33m     \u001b[0mparser\u001b[0m \u001b[1;33m=\u001b[0m \u001b[0mTextFileReader\u001b[0m\u001b[1;33m(\u001b[0m\u001b[0mfp_or_buf\u001b[0m\u001b[1;33m,\u001b[0m \u001b[1;33m**\u001b[0m\u001b[0mkwds\u001b[0m\u001b[1;33m)\u001b[0m\u001b[1;33m\u001b[0m\u001b[1;33m\u001b[0m\u001b[0m\n\u001b[0m\u001b[0;32m    453\u001b[0m \u001b[1;33m\u001b[0m\u001b[0m\n\u001b[0;32m    454\u001b[0m     \u001b[1;32mif\u001b[0m \u001b[0mchunksize\u001b[0m \u001b[1;32mor\u001b[0m \u001b[0miterator\u001b[0m\u001b[1;33m:\u001b[0m\u001b[1;33m\u001b[0m\u001b[1;33m\u001b[0m\u001b[0m\n",
      "\u001b[1;32m~\\anaconda3\\lib\\site-packages\\pandas\\io\\parsers.py\u001b[0m in \u001b[0;36m__init__\u001b[1;34m(self, f, engine, **kwds)\u001b[0m\n\u001b[0;32m    944\u001b[0m             \u001b[0mself\u001b[0m\u001b[1;33m.\u001b[0m\u001b[0moptions\u001b[0m\u001b[1;33m[\u001b[0m\u001b[1;34m\"has_index_names\"\u001b[0m\u001b[1;33m]\u001b[0m \u001b[1;33m=\u001b[0m \u001b[0mkwds\u001b[0m\u001b[1;33m[\u001b[0m\u001b[1;34m\"has_index_names\"\u001b[0m\u001b[1;33m]\u001b[0m\u001b[1;33m\u001b[0m\u001b[1;33m\u001b[0m\u001b[0m\n\u001b[0;32m    945\u001b[0m \u001b[1;33m\u001b[0m\u001b[0m\n\u001b[1;32m--> 946\u001b[1;33m         \u001b[0mself\u001b[0m\u001b[1;33m.\u001b[0m\u001b[0m_make_engine\u001b[0m\u001b[1;33m(\u001b[0m\u001b[0mself\u001b[0m\u001b[1;33m.\u001b[0m\u001b[0mengine\u001b[0m\u001b[1;33m)\u001b[0m\u001b[1;33m\u001b[0m\u001b[1;33m\u001b[0m\u001b[0m\n\u001b[0m\u001b[0;32m    947\u001b[0m \u001b[1;33m\u001b[0m\u001b[0m\n\u001b[0;32m    948\u001b[0m     \u001b[1;32mdef\u001b[0m \u001b[0mclose\u001b[0m\u001b[1;33m(\u001b[0m\u001b[0mself\u001b[0m\u001b[1;33m)\u001b[0m\u001b[1;33m:\u001b[0m\u001b[1;33m\u001b[0m\u001b[1;33m\u001b[0m\u001b[0m\n",
      "\u001b[1;32m~\\anaconda3\\lib\\site-packages\\pandas\\io\\parsers.py\u001b[0m in \u001b[0;36m_make_engine\u001b[1;34m(self, engine)\u001b[0m\n\u001b[0;32m   1176\u001b[0m     \u001b[1;32mdef\u001b[0m \u001b[0m_make_engine\u001b[0m\u001b[1;33m(\u001b[0m\u001b[0mself\u001b[0m\u001b[1;33m,\u001b[0m \u001b[0mengine\u001b[0m\u001b[1;33m=\u001b[0m\u001b[1;34m\"c\"\u001b[0m\u001b[1;33m)\u001b[0m\u001b[1;33m:\u001b[0m\u001b[1;33m\u001b[0m\u001b[1;33m\u001b[0m\u001b[0m\n\u001b[0;32m   1177\u001b[0m         \u001b[1;32mif\u001b[0m \u001b[0mengine\u001b[0m \u001b[1;33m==\u001b[0m \u001b[1;34m\"c\"\u001b[0m\u001b[1;33m:\u001b[0m\u001b[1;33m\u001b[0m\u001b[1;33m\u001b[0m\u001b[0m\n\u001b[1;32m-> 1178\u001b[1;33m             \u001b[0mself\u001b[0m\u001b[1;33m.\u001b[0m\u001b[0m_engine\u001b[0m \u001b[1;33m=\u001b[0m \u001b[0mCParserWrapper\u001b[0m\u001b[1;33m(\u001b[0m\u001b[0mself\u001b[0m\u001b[1;33m.\u001b[0m\u001b[0mf\u001b[0m\u001b[1;33m,\u001b[0m \u001b[1;33m**\u001b[0m\u001b[0mself\u001b[0m\u001b[1;33m.\u001b[0m\u001b[0moptions\u001b[0m\u001b[1;33m)\u001b[0m\u001b[1;33m\u001b[0m\u001b[1;33m\u001b[0m\u001b[0m\n\u001b[0m\u001b[0;32m   1179\u001b[0m         \u001b[1;32melse\u001b[0m\u001b[1;33m:\u001b[0m\u001b[1;33m\u001b[0m\u001b[1;33m\u001b[0m\u001b[0m\n\u001b[0;32m   1180\u001b[0m             \u001b[1;32mif\u001b[0m \u001b[0mengine\u001b[0m \u001b[1;33m==\u001b[0m \u001b[1;34m\"python\"\u001b[0m\u001b[1;33m:\u001b[0m\u001b[1;33m\u001b[0m\u001b[1;33m\u001b[0m\u001b[0m\n",
      "\u001b[1;32m~\\anaconda3\\lib\\site-packages\\pandas\\io\\parsers.py\u001b[0m in \u001b[0;36m__init__\u001b[1;34m(self, src, **kwds)\u001b[0m\n\u001b[0;32m   1989\u001b[0m         \u001b[1;32mif\u001b[0m \u001b[0mkwds\u001b[0m\u001b[1;33m.\u001b[0m\u001b[0mget\u001b[0m\u001b[1;33m(\u001b[0m\u001b[1;34m\"compression\"\u001b[0m\u001b[1;33m)\u001b[0m \u001b[1;32mis\u001b[0m \u001b[1;32mNone\u001b[0m \u001b[1;32mand\u001b[0m \u001b[0mencoding\u001b[0m\u001b[1;33m:\u001b[0m\u001b[1;33m\u001b[0m\u001b[1;33m\u001b[0m\u001b[0m\n\u001b[0;32m   1990\u001b[0m             \u001b[1;32mif\u001b[0m \u001b[0misinstance\u001b[0m\u001b[1;33m(\u001b[0m\u001b[0msrc\u001b[0m\u001b[1;33m,\u001b[0m \u001b[0mstr\u001b[0m\u001b[1;33m)\u001b[0m\u001b[1;33m:\u001b[0m\u001b[1;33m\u001b[0m\u001b[1;33m\u001b[0m\u001b[0m\n\u001b[1;32m-> 1991\u001b[1;33m                 \u001b[0msrc\u001b[0m \u001b[1;33m=\u001b[0m \u001b[0mopen\u001b[0m\u001b[1;33m(\u001b[0m\u001b[0msrc\u001b[0m\u001b[1;33m,\u001b[0m \u001b[1;34m\"rb\"\u001b[0m\u001b[1;33m)\u001b[0m\u001b[1;33m\u001b[0m\u001b[1;33m\u001b[0m\u001b[0m\n\u001b[0m\u001b[0;32m   1992\u001b[0m                 \u001b[0mself\u001b[0m\u001b[1;33m.\u001b[0m\u001b[0mhandles\u001b[0m\u001b[1;33m.\u001b[0m\u001b[0mappend\u001b[0m\u001b[1;33m(\u001b[0m\u001b[0msrc\u001b[0m\u001b[1;33m)\u001b[0m\u001b[1;33m\u001b[0m\u001b[1;33m\u001b[0m\u001b[0m\n\u001b[0;32m   1993\u001b[0m \u001b[1;33m\u001b[0m\u001b[0m\n",
      "\u001b[1;31mFileNotFoundError\u001b[0m: [Errno 2] No such file or directory: 'aid_all.csv'"
     ]
    }
   ],
   "source": [
    "# 결측치 처리 완료 코딩\n",
    "df_misdone = pd.read_csv(\"aid_all.csv\", encoding=\"utf-8\")"
   ]
  },
  {
   "cell_type": "code",
   "execution_count": 1,
   "metadata": {
    "ExecuteTime": {
     "end_time": "2021-03-25T09:19:06.201243Z",
     "start_time": "2021-03-25T09:19:05.750471Z"
    },
    "scrolled": true
   },
   "outputs": [],
   "source": [
    "import pandas as pd\n",
    "import numpy as np"
   ]
  },
  {
   "cell_type": "code",
   "execution_count": null,
   "metadata": {
    "ExecuteTime": {
     "end_time": "2021-03-25T09:01:14.166292Z",
     "start_time": "2021-03-25T09:01:14.142305Z"
    },
    "scrolled": true
   },
   "outputs": [],
   "source": [
    "df_misdone"
   ]
  },
  {
   "cell_type": "code",
   "execution_count": null,
   "metadata": {
    "ExecuteTime": {
     "end_time": "2021-03-25T09:19:24.041633Z",
     "start_time": "2021-03-25T09:19:22.766353Z"
    },
    "scrolled": true
   },
   "outputs": [],
   "source": [
    "# 소방서, 안전센터명 레이블 인코딩\n",
    "\n",
    "from sklearn.preprocessing import LabelEncoder\n",
    "safe = LabelEncoder() #안전센터\n",
    "safe.fit(df_misdone.SAFE_CENTER_NM)\n",
    "\n",
    "fire = LabelEncoder() # 소방서\n",
    "fire.fit(df_misdone.FIRESTTN_NM) "
   ]
  },
  {
   "cell_type": "code",
   "execution_count": null,
   "metadata": {
    "ExecuteTime": {
     "end_time": "2021-03-25T06:54:18.851715Z",
     "start_time": "2021-03-25T06:54:18.822731Z"
    },
    "scrolled": true
   },
   "outputs": [],
   "source": [
    "#소방서, 안전센터명 종류 출력\n",
    "safe_series = pd.Series(safe.classes_)\n",
    "fire_series = pd.Series(fire.classes_)\n",
    "\n",
    "\n",
    "df_kind = pd.DataFrame([safe_series, fire_series])\n",
    "df_kind = df_kind.transpose()\n",
    "df_kind.columns = ['SAFE_CENTER_NM','FIRESTTN_NM']\n",
    "df_kind"
   ]
  },
  {
   "cell_type": "code",
   "execution_count": null,
   "metadata": {
    "ExecuteTime": {
     "end_time": "2021-03-25T06:54:19.127569Z",
     "start_time": "2021-03-25T06:54:19.116577Z"
    },
    "scrolled": true
   },
   "outputs": [],
   "source": [
    "df_kind.to_csv(\"check_119.csv\", encoding = 'utf-8-sig', index=False)"
   ]
  },
  {
   "cell_type": "code",
   "execution_count": null,
   "metadata": {
    "ExecuteTime": {
     "end_time": "2021-03-25T09:19:28.988266Z",
     "start_time": "2021-03-25T09:19:27.733994Z"
    },
    "scrolled": true
   },
   "outputs": [],
   "source": [
    "# 안전센터, 소방서 레이블 인코딩\n",
    "safe_encoded = safe.transform(df_misdone.SAFE_CENTER_NM)\n",
    "fire_encoded = fire.transform(df_misdone.FIRESTTN_NM)"
   ]
  },
  {
   "cell_type": "code",
   "execution_count": null,
   "metadata": {
    "ExecuteTime": {
     "end_time": "2021-03-25T09:19:37.502003Z",
     "start_time": "2021-03-25T09:19:37.174206Z"
    },
    "scrolled": true
   },
   "outputs": [],
   "source": [
    "# 기존 데이터 셋 인코딩 완료값으로 변경\n",
    "df_misdone.SAFE_CENTER_NM = safe_encoded\n",
    "df_misdone.FIRESTTN_NM = fire_encoded"
   ]
  },
  {
   "cell_type": "code",
   "execution_count": null,
   "metadata": {
    "ExecuteTime": {
     "end_time": "2021-03-25T09:21:13.512079Z",
     "start_time": "2021-03-25T09:21:06.725964Z"
    },
    "scrolled": true
   },
   "outputs": [],
   "source": [
    "# 이외의 열 삭제\n",
    "df_misdone.drop(['YMD','STATMNT_TM','ONSPOT_TM','ONSPOT_DSTN','HOMING_TM','CONSCS_STATE'], axis=1, inplace=True)\n",
    "df_misdone.to_csv(\"aid_total_1821.csv\", encoding=\"utf-8-sig\", index=False)"
   ]
  },
  {
   "cell_type": "code",
   "execution_count": null,
   "metadata": {
    "ExecuteTime": {
     "end_time": "2021-03-25T09:02:08.770374Z",
     "start_time": "2021-03-25T09:01:54.790372Z"
    },
    "scrolled": true
   },
   "outputs": [],
   "source": [
    "#파일로 저장\n",
    "df_misdone.to_csv(\"aid_goni_1800.csv\", encoding=\"utf-8-sig\", index=False)"
   ]
  },
  {
   "cell_type": "code",
   "execution_count": null,
   "metadata": {
    "ExecuteTime": {
     "end_time": "2021-03-25T09:02:11.936547Z",
     "start_time": "2021-03-25T09:02:08.771373Z"
    },
    "scrolled": false
   },
   "outputs": [],
   "source": [
    "dfdf = pd.read_csv(\"aid_goni_1800.csv\", encoding='utf-8-sig')\n",
    "dfdf"
   ]
  },
  {
   "cell_type": "code",
   "execution_count": null,
   "metadata": {
    "ExecuteTime": {
     "end_time": "2021-03-25T09:02:58.982180Z",
     "start_time": "2021-03-25T09:02:58.278592Z"
    },
    "scrolled": true
   },
   "outputs": [],
   "source": [
    "df_sso = pd.read_csv(\"soyoung_0325.csv\", encoding=\"utf-8-sig\")"
   ]
  },
  {
   "cell_type": "code",
   "execution_count": null,
   "metadata": {
    "ExecuteTime": {
     "end_time": "2021-03-25T09:04:05.839862Z",
     "start_time": "2021-03-25T09:04:03.694086Z"
    },
    "scrolled": true
   },
   "outputs": [],
   "source": [
    "df_aid_all = pd.merge(dfdf, df_sso, how='left', on='PK')\n",
    "df_aid_all"
   ]
  },
  {
   "cell_type": "code",
   "execution_count": null,
   "metadata": {
    "ExecuteTime": {
     "end_time": "2021-03-25T09:16:42.904597Z",
     "start_time": "2021-03-25T09:16:28.030085Z"
    },
    "scrolled": true
   },
   "outputs": [],
   "source": [
    "#파일로 저장\n",
    "df_aid_all.to_csv(\"aid_all_1816.csv\", encoding=\"utf-8-sig\", index=False)\n"
   ]
  },
  {
   "cell_type": "code",
   "execution_count": null,
   "metadata": {
    "ExecuteTime": {
     "end_time": "2021-03-25T09:16:17.766716Z",
     "start_time": "2021-03-25T09:16:17.374950Z"
    },
    "scrolled": true
   },
   "outputs": [],
   "source": [
    "df_aid_all.drop(['YMD','STATMNT_TM','ONSPOT_TM','ONSPOT_DSTN','HOMING_TM'], axis=1)"
   ]
  },
  {
   "cell_type": "markdown",
   "metadata": {},
   "source": [
    "# 2,3일차 데이터 전처리\n",
    "## 센터별 인력현황, 구급대원 현황 매칭 프로젝트\n",
    "### 제한사항 : 119구조대, 수난인력대 등 이상치 값들이 구분없이 반영되어있음"
   ]
  },
  {
   "cell_type": "code",
   "execution_count": null,
   "metadata": {
    "ExecuteTime": {
     "end_time": "2021-03-24T05:45:21.588931Z",
     "start_time": "2021-03-24T05:45:21.578942Z"
    },
    "scrolled": true
   },
   "outputs": [],
   "source": [
    "dfdf.to_csv(\"location_119.csv\", encoding = 'utf-8-sig', index=False)"
   ]
  },
  {
   "cell_type": "code",
   "execution_count": null,
   "metadata": {
    "ExecuteTime": {
     "end_time": "2021-03-25T09:00:37.371941Z",
     "start_time": "2021-03-25T09:00:36.910187Z"
    },
    "scrolled": true
   },
   "outputs": [],
   "source": [
    "import pandas as pd\n",
    "import numpy as np"
   ]
  },
  {
   "cell_type": "code",
   "execution_count": null,
   "metadata": {
    "ExecuteTime": {
     "end_time": "2021-03-24T03:31:17.279910Z",
     "start_time": "2021-03-24T03:31:06.723938Z"
    },
    "scrolled": true
   },
   "outputs": [],
   "source": [
    "# 데이터 불러오기\n",
    "df_people = pd.read_csv(\"경기도구급차및구급대원현황.csv\", encoding='cp949')\n",
    "df_aid = pd.read_csv(\"aid_03231522.csv\", encoding=\"utf-8-sig\")"
   ]
  },
  {
   "cell_type": "code",
   "execution_count": null,
   "metadata": {
    "ExecuteTime": {
     "end_time": "2021-03-24T03:31:17.285907Z",
     "start_time": "2021-03-24T03:31:17.281895Z"
    },
    "scrolled": true
   },
   "outputs": [],
   "source": [
    "#구급인력 데이터 열정리\n",
    "df_people.drop(['집계년도', '시군명', '구분명'], axis=1, inplace = True)\n",
    "df_people.columns = ['SAFE_CENTER_NM','AMB_CNT','PEO_CNT']"
   ]
  },
  {
   "cell_type": "code",
   "execution_count": null,
   "metadata": {
    "ExecuteTime": {
     "end_time": "2021-03-24T03:31:17.317876Z",
     "start_time": "2021-03-24T03:31:17.287891Z"
    },
    "scrolled": true
   },
   "outputs": [],
   "source": [
    "#구급인력 데이터 그룹화\n",
    "df_people_grouped = df_people.groupby(df_people.SAFE_CENTER_NM, as_index=False)\n",
    "df_people_grouped.head(10)"
   ]
  },
  {
   "cell_type": "code",
   "execution_count": null,
   "metadata": {
    "ExecuteTime": {
     "end_time": "2021-03-24T03:31:38.744880Z",
     "start_time": "2021-03-24T03:31:38.731886Z"
    },
    "scrolled": true
   },
   "outputs": [],
   "source": [
    "#그룹별 평균값 구하기\n",
    "df_people_mean = round(df_people_grouped.mean())\n",
    "df_people_mean.head()"
   ]
  },
  {
   "cell_type": "code",
   "execution_count": null,
   "metadata": {
    "ExecuteTime": {
     "end_time": "2021-03-24T03:32:15.844046Z",
     "start_time": "2021-03-24T03:32:13.114603Z"
    },
    "scrolled": true
   },
   "outputs": [],
   "source": [
    "# 구해진 평균값으로 최종 데이터에 결합\n",
    "df_merged = pd.merge(df_aid, df_people_mean, how='left', on='SAFE_CENTER_NM')\n",
    "df_merged.head()"
   ]
  },
  {
   "cell_type": "code",
   "execution_count": null,
   "metadata": {
    "ExecuteTime": {
     "end_time": "2021-03-24T03:32:20.967071Z",
     "start_time": "2021-03-24T03:32:17.523042Z"
    },
    "scrolled": true
   },
   "outputs": [],
   "source": [
    "import missingno\n",
    "missingno.bar(df_merged)"
   ]
  },
  {
   "cell_type": "markdown",
   "metadata": {},
   "source": [
    "### 안전센터가 포함된 값만 반영"
   ]
  },
  {
   "cell_type": "code",
   "execution_count": null,
   "metadata": {
    "ExecuteTime": {
     "end_time": "2021-03-25T05:18:43.251810Z",
     "start_time": "2021-03-25T05:18:32.477981Z"
    },
    "scrolled": true
   },
   "outputs": [],
   "source": [
    "import pandas as pd\n",
    "import numpy as np\n",
    "\n",
    "# ~안전센터로 끝나는 값들을 별도 데이터프레임으로 생성 후 매칭\n",
    "\n",
    "# 데이터 불러오기\n",
    "df_people = pd.read_csv(\"../경기도구급차및구급대원현황.csv\", encoding='cp949')\n",
    "df_aid = pd.read_csv(\"../aid_03231522.csv\", encoding=\"utf-8-sig\")\n",
    "\n",
    "#구급인력 데이터 열정리\n",
    "df_people.drop(['집계년도', '시군명', '구분명'], axis=1, inplace = True)\n",
    "df_people.columns = ['SAFE_CENTER_NM','AMB_CNT','PEO_CNT']"
   ]
  },
  {
   "cell_type": "code",
   "execution_count": null,
   "metadata": {
    "ExecuteTime": {
     "end_time": "2021-03-25T05:18:53.406215Z",
     "start_time": "2021-03-25T05:18:53.384228Z"
    },
    "scrolled": true
   },
   "outputs": [],
   "source": [
    "# '안전센터'가 포함되는 값만 살리기\n",
    "mask = df_people.SAFE_CENTER_NM.str.contains(\"안전센터\")\n",
    "df_safeonly2 = df_people[mask]\n",
    "df_safeonly2.count()"
   ]
  },
  {
   "cell_type": "code",
   "execution_count": null,
   "metadata": {
    "ExecuteTime": {
     "end_time": "2021-03-25T05:19:20.176102Z",
     "start_time": "2021-03-25T05:19:20.143125Z"
    },
    "scrolled": true
   },
   "outputs": [],
   "source": [
    "#구급인력 데이터 그룹화 (안전센터 만)\n",
    "df_safeonly_grouped2 = df_safeonly2.groupby(df_safeonly.SAFE_CENTER_NM, as_index=False)\n",
    "df_safeonly_grouped2.count()"
   ]
  },
  {
   "cell_type": "code",
   "execution_count": null,
   "metadata": {
    "ExecuteTime": {
     "end_time": "2021-03-24T03:33:49.145061Z",
     "start_time": "2021-03-24T03:33:49.123072Z"
    },
    "scrolled": true
   },
   "outputs": [],
   "source": [
    "#그룹별 평균값 구하기 (안전센터 만)\n",
    "df_safeonly_mean = round(df_safeonly_grouped.mean())\n",
    "df_safeonly_mean.head()"
   ]
  },
  {
   "cell_type": "code",
   "execution_count": null,
   "metadata": {
    "ExecuteTime": {
     "end_time": "2021-03-24T03:33:51.964455Z",
     "start_time": "2021-03-24T03:33:49.147058Z"
    },
    "scrolled": true
   },
   "outputs": [],
   "source": [
    "# 구해진 평균값으로 최종 데이터에 결합 (안전센터 만)\n",
    "df_merged = pd.merge(df_aid, df_safeonly_mean, how='left', on='SAFE_CENTER_NM')\n",
    "df_merged.head()"
   ]
  },
  {
   "cell_type": "code",
   "execution_count": null,
   "metadata": {
    "ExecuteTime": {
     "end_time": "2021-03-24T03:33:54.527977Z",
     "start_time": "2021-03-24T03:33:51.965444Z"
    },
    "scrolled": true
   },
   "outputs": [],
   "source": [
    "import missingno\n",
    "missingno.bar(df_merged)"
   ]
  },
  {
   "cell_type": "markdown",
   "metadata": {},
   "source": [
    "### 안전센터 제외된 값을 검토"
   ]
  },
  {
   "cell_type": "code",
   "execution_count": null,
   "metadata": {
    "scrolled": true
   },
   "outputs": [],
   "source": [
    "#  안전센터가 이름에 포함된 애들만 작성하기로 했음."
   ]
  },
  {
   "cell_type": "markdown",
   "metadata": {},
   "source": [
    "### 연도별 데이터가 존재한다면? 어떻게 접근할것인가?"
   ]
  },
  {
   "cell_type": "code",
   "execution_count": null,
   "metadata": {
    "ExecuteTime": {
     "end_time": "2021-03-25T06:37:34.593206Z",
     "start_time": "2021-03-25T06:37:28.429737Z"
    },
    "scrolled": true
   },
   "outputs": [],
   "source": [
    "#연도별 데이터를 부여하는 코드\n",
    "\n",
    "import pandas as pd\n",
    "import numpy as np\n",
    "\n",
    "# ~안전센터로 끝나는 값들을 별도 데이터프레임으로 생성 후 매칭\n",
    "\n",
    "# 데이터 불러오기\n",
    "df_people = pd.read_csv(\"../경기도구급차및구급대원현황.csv\", encoding='cp949')\n",
    "df_aid = pd.read_csv(\"../aid_all.csv\", encoding=\"utf-8-sig\")\n",
    "\n",
    "#구급인력 데이터 열정리\n",
    "df_people.drop(['시군명', '구분명'], axis=1, inplace = True)\n",
    "df_people.columns = ['YMD','SAFE_CENTER_NM','AMB_CNT','PEO_CNT']"
   ]
  },
  {
   "cell_type": "code",
   "execution_count": null,
   "metadata": {
    "ExecuteTime": {
     "end_time": "2021-03-25T06:37:38.730105Z",
     "start_time": "2021-03-25T06:37:36.299938Z"
    },
    "scrolled": true
   },
   "outputs": [],
   "source": [
    "# 전체데이터에서'안전센터'가 포함되는 값만 살리기\n",
    "mask2 = df_aid.SAFE_CENTER_NM.str.contains(\"안전센터\")\n",
    "df_aid_safeonly = df_aid[mask2]"
   ]
  },
  {
   "cell_type": "code",
   "execution_count": null,
   "metadata": {
    "ExecuteTime": {
     "end_time": "2021-03-25T06:40:03.035504Z",
     "start_time": "2021-03-25T06:40:03.027525Z"
    },
    "scrolled": true
   },
   "outputs": [],
   "source": [
    "# 구급인력에서'안전센터'가 포함되는 값만 살리기\n",
    "mask = df_people.SAFE_CENTER_NM.str.contains(\"안전센터\")\n",
    "df_peo_safeonly = df_people[mask]"
   ]
  },
  {
   "cell_type": "code",
   "execution_count": null,
   "metadata": {
    "ExecuteTime": {
     "end_time": "2021-03-25T06:40:48.367628Z",
     "start_time": "2021-03-25T06:40:45.524245Z"
    },
    "scrolled": true
   },
   "outputs": [],
   "source": [
    "#전체 데이터에서 2016, 2017 포함된 데이터만 살리기\n",
    "df_aid_16 = df_aid_safeonly[df_aid_safeonly['YMD'].str.contains(\"2016\")]\n",
    "df_aid_17 = df_aid_safeonly[df_aid_safeonly['YMD'].str.contains(\"2017\")]"
   ]
  },
  {
   "cell_type": "code",
   "execution_count": null,
   "metadata": {
    "ExecuteTime": {
     "end_time": "2021-03-25T06:42:34.345866Z",
     "start_time": "2021-03-25T06:42:34.317887Z"
    },
    "scrolled": true
   },
   "outputs": [],
   "source": [
    "#안전 데이터에서 2016, 2017 포함된 데이터만 살리기\n",
    "df_peo_16 = df_peo_safeonly[df_peo_safeonly['YMD'] == 2016]\n",
    "df_peo_17 = df_peo_safeonly[df_peo_safeonly['YMD'] == 2017]"
   ]
  },
  {
   "cell_type": "code",
   "execution_count": null,
   "metadata": {
    "ExecuteTime": {
     "end_time": "2021-03-25T06:46:43.874311Z",
     "start_time": "2021-03-25T06:46:43.533509Z"
    },
    "scrolled": true
   },
   "outputs": [],
   "source": [
    "df_16_done = pd.merge(df_aid_16, df_peo_16, how='left', on ='SAFE_CENTER_NM')\n",
    "df_17_done = pd.merge(df_aid_17, df_peo_17, how='left', on ='SAFE_CENTER_NM')"
   ]
  },
  {
   "cell_type": "code",
   "execution_count": null,
   "metadata": {
    "ExecuteTime": {
     "end_time": "2021-03-25T06:48:32.142770Z",
     "start_time": "2021-03-25T06:48:31.980870Z"
    },
    "scrolled": true
   },
   "outputs": [],
   "source": [
    "df_aid_1617_peo = pd.concat([df_16_done, df_17_done], axis = 0)"
   ]
  },
  {
   "cell_type": "code",
   "execution_count": null,
   "metadata": {
    "ExecuteTime": {
     "end_time": "2021-03-25T06:50:13.251521Z",
     "start_time": "2021-03-25T06:50:12.936685Z"
    },
    "scrolled": true
   },
   "outputs": [],
   "source": [
    "temp = df_aid_1617_peo.dropna()"
   ]
  },
  {
   "cell_type": "code",
   "execution_count": null,
   "metadata": {
    "ExecuteTime": {
     "end_time": "2021-03-25T06:50:18.589207Z",
     "start_time": "2021-03-25T06:50:17.775666Z"
    },
    "scrolled": true
   },
   "outputs": [],
   "source": [
    "import missingno\n",
    "missingno.bar(temp)"
   ]
  },
  {
   "cell_type": "markdown",
   "metadata": {},
   "source": [
    "### 최종 데이터 종합"
   ]
  },
  {
   "cell_type": "code",
   "execution_count": null,
   "metadata": {
    "ExecuteTime": {
     "end_time": "2021-03-25T09:22:19.031909Z",
     "start_time": "2021-03-25T09:22:15.054187Z"
    },
    "scrolled": true
   },
   "outputs": [],
   "source": [
    "df_sso = pd.read_csv(\"soyoung_0325.csv\", encoding=\"utf-8-sig\")\n",
    "df_PSB1 = pd.read_csv(\"aid(pk,move_tm).csv\", encoding=\"utf-8-sig\")\n",
    "df_PSB2 = pd.read_csv(\"aid(pk,onspot_dstn).csv\", encoding=\"utf-8-sig\")\n",
    "df_goni = pd.read_csv(\"aid_total_1821.csv\", encoding=\"utf-8-sig\")\n",
    "df_lee = pd.read_csv(\"aid(pk, onspot_tm).csv\", encoding=\"utf-8-sig\")"
   ]
  },
  {
   "cell_type": "code",
   "execution_count": null,
   "metadata": {
    "ExecuteTime": {
     "end_time": "2021-03-25T07:10:16.615713Z",
     "start_time": "2021-03-25T07:10:16.562740Z"
    },
    "scrolled": true
   },
   "outputs": [],
   "source": [
    "df_sso.CONSCS_STATE.unique()"
   ]
  },
  {
   "cell_type": "code",
   "execution_count": null,
   "metadata": {
    "ExecuteTime": {
     "end_time": "2021-03-25T09:22:22.983613Z",
     "start_time": "2021-03-25T09:22:21.470477Z"
    },
    "scrolled": true
   },
   "outputs": [],
   "source": [
    "df_final = pd.merge(df_goni, df_PSB1, how='left', on='PK')"
   ]
  },
  {
   "cell_type": "code",
   "execution_count": null,
   "metadata": {
    "ExecuteTime": {
     "end_time": "2021-03-25T09:22:28.890576Z",
     "start_time": "2021-03-25T09:22:27.261498Z"
    },
    "scrolled": true
   },
   "outputs": [],
   "source": [
    "df_final = pd.merge(df_final, df_PSB2, how='left', on='PK')"
   ]
  },
  {
   "cell_type": "code",
   "execution_count": null,
   "metadata": {
    "ExecuteTime": {
     "end_time": "2021-03-25T09:22:30.568620Z",
     "start_time": "2021-03-25T09:22:28.891564Z"
    },
    "scrolled": true
   },
   "outputs": [],
   "source": [
    "df_final = pd.merge(df_final, df_sso, how='left', on='PK')"
   ]
  },
  {
   "cell_type": "code",
   "execution_count": null,
   "metadata": {
    "ExecuteTime": {
     "end_time": "2021-03-25T09:22:32.292618Z",
     "start_time": "2021-03-25T09:22:30.569605Z"
    },
    "scrolled": true
   },
   "outputs": [],
   "source": [
    "df_final = pd.merge(df_final, df_lee, how='left', on='PK')"
   ]
  },
  {
   "cell_type": "code",
   "execution_count": null,
   "metadata": {
    "ExecuteTime": {
     "end_time": "2021-03-25T09:22:32.984642Z",
     "start_time": "2021-03-25T09:22:32.414968Z"
    },
    "scrolled": true
   },
   "outputs": [],
   "source": [
    "df_prepdone = df_final.dropna()"
   ]
  },
  {
   "cell_type": "code",
   "execution_count": null,
   "metadata": {
    "ExecuteTime": {
     "end_time": "2021-03-25T09:22:35.505363Z",
     "start_time": "2021-03-25T09:22:35.261502Z"
    },
    "scrolled": true
   },
   "outputs": [],
   "source": [
    "missingno.bar(df_prepdone)"
   ]
  },
  {
   "cell_type": "code",
   "execution_count": null,
   "metadata": {
    "ExecuteTime": {
     "end_time": "2021-03-25T09:22:54.658746Z",
     "start_time": "2021-03-25T09:22:40.341929Z"
    },
    "scrolled": true
   },
   "outputs": [],
   "source": [
    "df_prepdone.to_csv(\"aid_prep_0622.csv\", encoding=\"utf-8-sig\", index=False)"
   ]
  },
  {
   "cell_type": "code",
   "execution_count": null,
   "metadata": {
    "ExecuteTime": {
     "end_time": "2021-03-25T09:23:20.165945Z",
     "start_time": "2021-03-25T09:23:18.334003Z"
    },
    "scrolled": true
   },
   "outputs": [],
   "source": [
    "dfdf = pd.read_csv(\"aid_prep_0622.csv\", encoding='utf-8-sig')\n",
    "dfdf"
   ]
  },
  {
   "cell_type": "code",
   "execution_count": null,
   "metadata": {
    "ExecuteTime": {
     "end_time": "2021-03-25T09:17:27.737155Z",
     "start_time": "2021-03-25T09:17:27.713164Z"
    },
    "scrolled": true
   },
   "outputs": [],
   "source": [
    "df_prepdone"
   ]
  },
  {
   "cell_type": "markdown",
   "metadata": {},
   "source": [
    "# 데이터 전처리 추가작업 (구간화, 평균화)\n",
    "## 각 변수별 작업 예정"
   ]
  },
  {
   "cell_type": "markdown",
   "metadata": {},
   "source": [
    "### 소방서명, 안전센터명  : 골든타임 준수여부에 따른 평균값 인코딩기법 변경적용"
   ]
  },
  {
   "cell_type": "code",
   "execution_count": 4,
   "metadata": {
    "ExecuteTime": {
     "end_time": "2021-03-26T10:34:54.977085Z",
     "start_time": "2021-03-26T10:34:53.128129Z"
    },
    "scrolled": true
   },
   "outputs": [],
   "source": [
    "df_prep = pd.read_csv(\"aid_prep_0622.csv\", encoding='utf-8-sig')"
   ]
  },
  {
   "cell_type": "code",
   "execution_count": null,
   "metadata": {
    "ExecuteTime": {
     "end_time": "2021-03-26T02:56:36.685983Z",
     "start_time": "2021-03-26T02:56:36.652019Z"
    },
    "scrolled": true
   },
   "outputs": [],
   "source": [
    "df_prep.head(1)"
   ]
  },
  {
   "cell_type": "code",
   "execution_count": 5,
   "metadata": {
    "ExecuteTime": {
     "end_time": "2021-03-26T10:35:13.269743Z",
     "start_time": "2021-03-26T10:35:11.203918Z"
    },
    "scrolled": true
   },
   "outputs": [],
   "source": [
    "# 골든타임 5분 설정시 준수여부 열추가\n",
    "df_prep['GOLDEN'] = df_prep['MOVE_TM'].apply(lambda x : x<= 5)\n",
    "df_prep[\"GOLDEN\"] = df_prep['GOLDEN'].apply(lambda x : x*1)"
   ]
  },
  {
   "cell_type": "code",
   "execution_count": 6,
   "metadata": {
    "ExecuteTime": {
     "end_time": "2021-03-26T10:35:17.836960Z",
     "start_time": "2021-03-26T10:35:17.644082Z"
    },
    "scrolled": true
   },
   "outputs": [],
   "source": [
    "# 안전센터 준수별 평균값 인코딩\n",
    "df_form = df_prep.groupby(\"SAFE_CENTER_NM\")['GOLDEN'].mean()\n",
    "df_prep['SAFE_MEAN'] = df_prep['SAFE_CENTER_NM'].map(df_form)"
   ]
  },
  {
   "cell_type": "code",
   "execution_count": 7,
   "metadata": {
    "ExecuteTime": {
     "end_time": "2021-03-26T10:35:18.955467Z",
     "start_time": "2021-03-26T10:35:18.772558Z"
    },
    "scrolled": true
   },
   "outputs": [],
   "source": [
    "# 소방서 준수별 평균값 인코딩\n",
    "df_form2 = df_prep.groupby(\"FIRESTTN_NM\")['GOLDEN'].mean()\n",
    "df_prep['FIRE_MEAN'] = df_prep['FIRESTTN_NM'].map(df_form2)"
   ]
  },
  {
   "cell_type": "code",
   "execution_count": null,
   "metadata": {
    "ExecuteTime": {
     "end_time": "2021-03-26T03:24:18.455067Z",
     "start_time": "2021-03-26T03:24:18.440086Z"
    },
    "scrolled": true
   },
   "outputs": [],
   "source": [
    "df_prep.head(1)"
   ]
  },
  {
   "cell_type": "code",
   "execution_count": 8,
   "metadata": {
    "ExecuteTime": {
     "end_time": "2021-03-26T10:35:29.650605Z",
     "start_time": "2021-03-26T10:35:24.627490Z"
    },
    "scrolled": true
   },
   "outputs": [
    {
     "data": {
      "text/plain": [
       "array([[<AxesSubplot:title={'center':'0'}>,\n",
       "        <AxesSubplot:title={'center':'1'}>]], dtype=object)"
      ]
     },
     "execution_count": 8,
     "metadata": {},
     "output_type": "execute_result"
    },
    {
     "data": {
      "image/png": "[encoded data removed]",
      "text/plain": [
       "<Figure size 432x288 with 2 Axes>"
      ]
     },
     "metadata": {
      "needs_background": "light"
     },
     "output_type": "display_data"
    }
   ],
   "source": [
    "#값 확인\n",
    "df_prep[['SAFE_MEAN','SAFE_CENTER_NM']].head()\n",
    "df_pivot = df_prep.pivot_table(columns=\"GOLDEN\", index=df_prep.index, values=\"SAFE_MEAN\")\n",
    "df_pivot.hist()"
   ]
  },
  {
   "cell_type": "markdown",
   "metadata": {},
   "source": [
    "### 전처리 추가작업 필요 (관할구역 데이터)"
   ]
  },
  {
   "cell_type": "markdown",
   "metadata": {},
   "source": [
    "### 시간대 구간화(6시간씩, 쿼터별로 나눠서)"
   ]
  },
  {
   "cell_type": "markdown",
   "metadata": {},
   "source": [
    "### 골든타임 준수여부 열추가"
   ]
  },
  {
   "cell_type": "code",
   "execution_count": null,
   "metadata": {
    "ExecuteTime": {
     "end_time": "2021-03-26T02:42:09.936451Z",
     "start_time": "2021-03-26T02:42:08.032561Z"
    },
    "scrolled": true
   },
   "outputs": [],
   "source": [
    "df_prep = pd.read_csv(\"aid_prep_0622.csv\", encoding='utf-8-sig')"
   ]
  },
  {
   "cell_type": "code",
   "execution_count": null,
   "metadata": {
    "ExecuteTime": {
     "end_time": "2021-03-26T10:21:22.720779Z",
     "start_time": "2021-03-26T10:21:21.884247Z"
    },
    "scrolled": true
   },
   "outputs": [],
   "source": [
    "# 골든타임 5분 설정시 준수여부 열추가\n",
    "df_prep['GOLDEN'] = df_prep['MOVE_TM'].apply(lambda x : x<= 5)"
   ]
  },
  {
   "cell_type": "markdown",
   "metadata": {
    "ExecuteTime": {
     "end_time": "2021-03-26T02:42:10.863921Z",
     "start_time": "2021-03-26T02:42:10.857924Z"
    }
   },
   "source": [
    "## 훈련용 데이터셋 분할"
   ]
  },
  {
   "cell_type": "code",
   "execution_count": 9,
   "metadata": {
    "ExecuteTime": {
     "end_time": "2021-03-26T10:35:34.395256Z",
     "start_time": "2021-03-26T10:35:34.316311Z"
    },
    "scrolled": true
   },
   "outputs": [],
   "source": [
    "# 훈련용 데이터셋 분할\n",
    "\n",
    "from sklearn.model_selection import train_test_split\n",
    "\n",
    "x = df_prep[['ONSPOT_DSTN','CONSCS_STATE','ONSPOT_TM','SAFE_MEAN','FIRE_MEAN']]\n",
    "y = df_prep['MOVE_TM']"
   ]
  },
  {
   "cell_type": "code",
   "execution_count": 10,
   "metadata": {
    "ExecuteTime": {
     "end_time": "2021-03-26T10:35:37.512852Z",
     "start_time": "2021-03-26T10:35:36.684327Z"
    },
    "scrolled": true
   },
   "outputs": [],
   "source": [
    "train_x, test_x, train_y, test_y = train_test_split(x, y, test_size=0.2)"
   ]
  },
  {
   "cell_type": "markdown",
   "metadata": {},
   "source": [
    "## 회귀분석 시도"
   ]
  },
  {
   "cell_type": "code",
   "execution_count": 11,
   "metadata": {
    "ExecuteTime": {
     "end_time": "2021-03-26T10:35:40.637239Z",
     "start_time": "2021-03-26T10:35:40.155525Z"
    },
    "scrolled": true
   },
   "outputs": [
    {
     "data": {
      "text/plain": [
       "LinearRegression()"
      ]
     },
     "execution_count": 11,
     "metadata": {},
     "output_type": "execute_result"
    }
   ],
   "source": [
    "# 다중회귀분석 실시\n",
    "\n",
    "from sklearn.linear_model import LinearRegression\n",
    "model_LGH = LinearRegression()\n",
    "model_LGH.fit(train_x, train_y)"
   ]
  },
  {
   "cell_type": "code",
   "execution_count": 12,
   "metadata": {
    "ExecuteTime": {
     "end_time": "2021-03-26T10:35:43.256734Z",
     "start_time": "2021-03-26T10:35:43.019871Z"
    },
    "scrolled": true
   },
   "outputs": [
    {
     "data": {
      "text/plain": [
       "0.002866756548050131"
      ]
     },
     "execution_count": 12,
     "metadata": {},
     "output_type": "execute_result"
    }
   ],
   "source": [
    "model_LGH.score(train_x, train_y)"
   ]
  },
  {
   "cell_type": "code",
   "execution_count": null,
   "metadata": {
    "ExecuteTime": {
     "end_time": "2021-03-26T03:12:00.826289Z",
     "start_time": "2021-03-26T03:11:57.401258Z"
    },
    "scrolled": true
   },
   "outputs": [],
   "source": [
    "# cross_val_score 함수 활용\n",
    "\n",
    "from sklearn.model_selection import cross_val_score\n",
    "r2 = cross_val_score(model_LGH, train_x, train_y, cv=5)\n",
    "r2"
   ]
  },
  {
   "cell_type": "code",
   "execution_count": 13,
   "metadata": {
    "ExecuteTime": {
     "end_time": "2021-03-26T10:37:04.391466Z",
     "start_time": "2021-03-26T10:37:04.203574Z"
    },
    "scrolled": true
   },
   "outputs": [
    {
     "data": {
      "text/plain": [
       "126.16257411431303"
      ]
     },
     "execution_count": 13,
     "metadata": {},
     "output_type": "execute_result"
    }
   ],
   "source": [
    "import math\n",
    "from sklearn.metrics import mean_squared_error\n",
    "math.sqrt(mean_squared_error(train_y, model_LGH.predict(train_x)))"
   ]
  },
  {
   "cell_type": "code",
   "execution_count": null,
   "metadata": {
    "ExecuteTime": {
     "end_time": "2021-03-26T03:24:50.726518Z",
     "start_time": "2021-03-26T03:24:49.285344Z"
    },
    "scrolled": true
   },
   "outputs": [],
   "source": [
    "# stats_models 패키지 활용 모든 변수에 대한 모형 생성\n",
    "\n",
    "import statsmodels.formula.api as smf\n",
    "\n",
    "df_models_all = df_prep.drop(['PK','FIRESTTN_NM', 'SAFE_CENTER_NM'], axis=1)\n",
    "df_models_all[\"GOLDEN\"] = df_models_all['GOLDEN'].apply(lambda x : x*1)\n",
    "df_models_all.head()"
   ]
  },
  {
   "cell_type": "code",
   "execution_count": null,
   "metadata": {
    "ExecuteTime": {
     "end_time": "2021-03-26T05:10:04.253212Z",
     "start_time": "2021-03-26T05:10:04.108305Z"
    },
    "scrolled": true
   },
   "outputs": [],
   "source": [
    "df_models_all = df_prep.drop(['PK','FIRESTTN_NM', 'SAFE_CENTER_NM','GOLDEN', 'FIRE_MEAN','SAFE_MEAN'], axis=1)"
   ]
  },
  {
   "cell_type": "code",
   "execution_count": null,
   "metadata": {
    "ExecuteTime": {
     "end_time": "2021-03-26T05:10:05.999313Z",
     "start_time": "2021-03-26T05:10:04.566151Z"
    },
    "scrolled": true
   },
   "outputs": [],
   "source": [
    "formula = \"MOVE_TM~\" + \"+\".join(df_models_all.iloc[:,1:].columns)\n",
    "df_models_all = smf.ols(formula=formula, data=df_models_all).fit()"
   ]
  },
  {
   "cell_type": "code",
   "execution_count": null,
   "metadata": {
    "ExecuteTime": {
     "end_time": "2021-03-26T05:10:06.858822Z",
     "start_time": "2021-03-26T05:10:06.001313Z"
    },
    "scrolled": true
   },
   "outputs": [],
   "source": [
    "df_models_all.summary()"
   ]
  },
  {
   "cell_type": "code",
   "execution_count": null,
   "metadata": {
    "ExecuteTime": {
     "end_time": "2021-03-26T05:14:27.917755Z",
     "start_time": "2021-03-26T05:14:27.441980Z"
    },
    "scrolled": true
   },
   "outputs": [],
   "source": [
    "import statsmodels.api as sm;\n",
    "from statsmodels.stats.outliers_influence import variance_inflation_factor\n",
    "%matplotlib inline"
   ]
  },
  {
   "cell_type": "code",
   "execution_count": null,
   "metadata": {
    "ExecuteTime": {
     "end_time": "2021-03-26T05:17:27.366855Z",
     "start_time": "2021-03-26T05:17:25.275063Z"
    },
    "scrolled": true
   },
   "outputs": [],
   "source": [
    "lm = sm.OLS(df_prep['MOVE_TM'], df_prep[['ONSPOT_DSTN', 'FIRESTTN_NM', 'SAFE_CENTER_NM', 'CONSCS_STATE', 'ONSPOT_TM']])\n",
    "results = lm.fit()\n",
    "results.summary()"
   ]
  },
  {
   "cell_type": "markdown",
   "metadata": {},
   "source": [
    "### 단순회귀분석 시도"
   ]
  },
  {
   "cell_type": "code",
   "execution_count": null,
   "metadata": {
    "ExecuteTime": {
     "end_time": "2021-03-26T06:43:48.452170Z",
     "start_time": "2021-03-26T06:43:48.449172Z"
    },
    "scrolled": true
   },
   "outputs": [],
   "source": [
    "import statsmodels.formula.api as smf"
   ]
  },
  {
   "cell_type": "code",
   "execution_count": 14,
   "metadata": {
    "ExecuteTime": {
     "end_time": "2021-03-26T10:43:17.310763Z",
     "start_time": "2021-03-26T10:43:17.304775Z"
    },
    "scrolled": true
   },
   "outputs": [],
   "source": [
    "# 전체 센터별 단순회귀분석 결과(결정계수) 출력함수\n",
    "\n",
    "def center_R2(x) :\n",
    "    R_square = []\n",
    "    center = []\n",
    "    for i in range(x):\n",
    "        df_i = df_prep[df_prep['SAFE_CENTER_NM']==i]\n",
    "        model = smf.ols(formula = 'MOVE_TM ~ ONSPOT_DSTN', data = df_i)\n",
    "        result = model.fit()\n",
    "        \n",
    "        rsq_i = result.rsquared\n",
    "        \n",
    "        R_square.append(rsq_i)\n",
    "        center.append('center_'+str(i))\n",
    "        \n",
    "        result_s = pd.Series(R_square, index=center)\n",
    "    return result_s"
   ]
  },
  {
   "cell_type": "code",
   "execution_count": null,
   "metadata": {
    "ExecuteTime": {
     "end_time": "2021-03-26T07:28:33.884499Z",
     "start_time": "2021-03-26T07:28:32.146493Z"
    },
    "scrolled": true
   },
   "outputs": [],
   "source": [
    "try :\n",
    "    df_ck = centercheck(100).to_frame()\n",
    "    sns.scatterplot(x=\"\", y=\"\", data = df_ck)\n",
    "except : \n",
    "    pass"
   ]
  },
  {
   "cell_type": "code",
   "execution_count": 15,
   "metadata": {
    "ExecuteTime": {
     "end_time": "2021-03-26T10:43:30.255455Z",
     "start_time": "2021-03-26T10:43:29.963623Z"
    },
    "scrolled": true
   },
   "outputs": [
    {
     "data": {
      "text/plain": [
       "center_0    0.360152\n",
       "center_1    0.011099\n",
       "center_2    0.000095\n",
       "center_3    0.000653\n",
       "center_4    0.000048\n",
       "center_5    0.002700\n",
       "center_6    0.009960\n",
       "center_7    0.005225\n",
       "center_8    0.000903\n",
       "center_9    0.286187\n",
       "dtype: float64"
      ]
     },
     "execution_count": 15,
     "metadata": {},
     "output_type": "execute_result"
    }
   ],
   "source": [
    "center_R2(10)"
   ]
  },
  {
   "cell_type": "code",
   "execution_count": null,
   "metadata": {
    "ExecuteTime": {
     "end_time": "2021-03-26T10:20:23.311678Z",
     "start_time": "2021-03-26T10:20:22.914899Z"
    },
    "scrolled": true
   },
   "outputs": [],
   "source": [
    "df1 = df_prep[df_prep['SAFE_CENTER_NM']==1]"
   ]
  },
  {
   "cell_type": "code",
   "execution_count": 16,
   "metadata": {
    "ExecuteTime": {
     "end_time": "2021-03-26T10:53:37.795701Z",
     "start_time": "2021-03-26T10:53:37.783708Z"
    },
    "scrolled": true
   },
   "outputs": [
    {
     "data": {
      "text/html": [
       "<div>\n",
       "<style scoped>\n",
       "    .dataframe tbody tr th:only-of-type {\n",
       "        vertical-align: middle;\n",
       "    }\n",
       "\n",
       "    .dataframe tbody tr th {\n",
       "        vertical-align: top;\n",
       "    }\n",
       "\n",
       "    .dataframe thead th {\n",
       "        text-align: right;\n",
       "    }\n",
       "</style>\n",
       "<table border=\"1\" class=\"dataframe\">\n",
       "  <thead>\n",
       "    <tr style=\"text-align: right;\">\n",
       "      <th></th>\n",
       "      <th>PK</th>\n",
       "      <th>FIRESTTN_NM</th>\n",
       "      <th>SAFE_CENTER_NM</th>\n",
       "      <th>MOVE_TM</th>\n",
       "      <th>ONSPOT_DSTN</th>\n",
       "      <th>CONSCS_STATE</th>\n",
       "      <th>ONSPOT_TM</th>\n",
       "      <th>GOLDEN</th>\n",
       "      <th>SAFE_MEAN</th>\n",
       "      <th>FIRE_MEAN</th>\n",
       "    </tr>\n",
       "  </thead>\n",
       "  <tbody>\n",
       "    <tr>\n",
       "      <th>0</th>\n",
       "      <td>0</td>\n",
       "      <td>30</td>\n",
       "      <td>106</td>\n",
       "      <td>5.0</td>\n",
       "      <td>2.0</td>\n",
       "      <td>0</td>\n",
       "      <td>15</td>\n",
       "      <td>1</td>\n",
       "      <td>0.207011</td>\n",
       "      <td>0.18195</td>\n",
       "    </tr>\n",
       "  </tbody>\n",
       "</table>\n",
       "</div>"
      ],
      "text/plain": [
       "   PK  FIRESTTN_NM  SAFE_CENTER_NM  MOVE_TM  ONSPOT_DSTN  CONSCS_STATE  \\\n",
       "0   0           30             106      5.0          2.0             0   \n",
       "\n",
       "   ONSPOT_TM  GOLDEN  SAFE_MEAN  FIRE_MEAN  \n",
       "0         15       1   0.207011    0.18195  "
      ]
     },
     "execution_count": 16,
     "metadata": {},
     "output_type": "execute_result"
    }
   ],
   "source": [
    "df_prep.head(1)"
   ]
  },
  {
   "cell_type": "code",
   "execution_count": null,
   "metadata": {
    "ExecuteTime": {
     "end_time": "2021-03-26T07:15:53.829945Z",
     "start_time": "2021-03-26T07:15:53.816961Z"
    },
    "scrolled": true
   },
   "outputs": [],
   "source": [
    "model = smf.ols(formula = 'ONSPOT_DSTN ~ MOVE_TM', data = df)\n",
    "result = model.fit()\n",
    "result.rsquared"
   ]
  },
  {
   "cell_type": "markdown",
   "metadata": {},
   "source": [
    "### 다중회귀분석 시도"
   ]
  },
  {
   "cell_type": "code",
   "execution_count": 2,
   "metadata": {
    "ExecuteTime": {
     "end_time": "2021-03-26T10:23:46.460945Z",
     "start_time": "2021-03-26T10:23:44.548039Z"
    },
    "scrolled": true
   },
   "outputs": [],
   "source": [
    "df_prep = pd.read_csv(\"aid_prep_0622.csv\", encoding='utf-8-sig')"
   ]
  },
  {
   "cell_type": "code",
   "execution_count": 3,
   "metadata": {
    "ExecuteTime": {
     "end_time": "2021-03-26T10:23:48.980502Z",
     "start_time": "2021-03-26T10:23:46.462943Z"
    },
    "scrolled": true
   },
   "outputs": [],
   "source": [
    "# 골든타임 5분 설정시 준수여부 열추가\n",
    "df_prep['GOLDEN'] = df_prep['MOVE_TM'].apply(lambda x : x<= 5)\n",
    "df_prep[\"GOLDEN\"] = df_prep['GOLDEN'].apply(lambda x : x*1)\n",
    "\n",
    "# 안전센터 준수별 평균값 인코딩\n",
    "df_form = df_prep.groupby(\"SAFE_CENTER_NM\")['GOLDEN'].mean()\n",
    "df_prep['SAFE_MEAN'] = df_prep['SAFE_CENTER_NM'].map(df_form)\n",
    "\n",
    "# 소방서 준수별 평균값 인코딩\n",
    "df_form2 = df_prep.groupby(\"FIRESTTN_NM\")['GOLDEN'].mean()\n",
    "df_prep['FIRE_MEAN'] = df_prep['FIRESTTN_NM'].map(df_form2)"
   ]
  },
  {
   "cell_type": "code",
   "execution_count": null,
   "metadata": {
    "scrolled": true
   },
   "outputs": [],
   "source": []
  },
  {
   "cell_type": "code",
   "execution_count": null,
   "metadata": {},
   "outputs": [],
   "source": []
  },
  {
   "cell_type": "markdown",
   "metadata": {},
   "source": [
    "## 2주차 데이터 전처리 재실시\n",
    "### 레이블 인코딩 실시"
   ]
  },
  {
   "cell_type": "code",
   "execution_count": 2,
   "metadata": {},
   "outputs": [],
   "source": [
    "# 데이터 불러오기\n",
    "\n",
    "def setaidall():\n",
    "    aid_all_total = pd.DataFrame(columns=['SUM_YY', 'SIGUN_NM', 'GOUT_FIRESTTN_NM', 'GOUT_SAFE_CENTER_NM',\n",
    "       'STATMNT_YMD', 'STATMNT_TM', 'RECEPT_COURS', 'JURISD_DIV_NM',\n",
    "       'GOUT_YMD', 'GOUT_TM', 'ONSPOT_ARVL_YMD', 'ONSPOT_ARVL_TM',\n",
    "       'ONSPOT_DSTN', 'ONSPOT_DSTN_AOT1', 'ONSPOT_DSTN_AOT2', 'HOMING_YMD',\n",
    "       'HOMING_TM', 'PATNT_AGE', 'PATNT_SEX_DIV_NM', 'EMRLF_SIDO_NM',\n",
    "       'EMRLF_SIGNGU_NM', 'EMRLF_EMD_NM', 'EMRLF_LI_NM', 'FRGNR_YN',\n",
    "       'NATNLTY_NM', 'PATNT_JOB', 'RELIF_OCCURPLC_TYPE', 'PATNT_SYMPTMS_TYPE',\n",
    "       'PATNT_SYMPTMS_TYPE2', 'ACC_CAT1', 'ACC_CAT2', 'ACC_CAT3',\n",
    "       'RELIF_ACDNT_ASORTMT_UP_NM', 'RELIF_ACDNT_ASORTMT_LOW_NM',\n",
    "       'PATNT_OCCUR_TYPE', 'CONSCS_STATE_TYPE', 'AMBLNCWKR_QUALFCTN_RATG',\n",
    "       'AMBLNCWKR_RATG', 'RELIF_SECTCHEF_QUALFCTN_RATG', 'TROUBLE'])\n",
    "    for i in range(1,6):\n",
    "        title = \"aidall\"+str(i)+\"(u8s,eng,all,mt).csv\"\n",
    "        data = pd.read_csv(title,encoding='utf-8-sig')\n",
    "        aid_all_total = pd.concat([aid_all_total,data],axis=0)\n",
    "    aid_all_total.reset_index(drop=True,inplace=True)\n",
    "    aid_all_total.reset_index(drop=False,inplace=True)\n",
    "    aid_all_total.rename(columns ={'index':'PK'},inplace=True)\n",
    "    return aid_all_total"
   ]
  },
  {
   "cell_type": "code",
   "execution_count": 3,
   "metadata": {},
   "outputs": [
    {
     "name": "stderr",
     "output_type": "stream",
     "text": [
      "C:\\Users\\Goni L\\anaconda3\\lib\\site-packages\\IPython\\core\\interactiveshell.py:3338: DtypeWarning: Columns (39) have mixed types.Specify dtype option on import or set low_memory=False.\n",
      "  if (await self.run_code(code, result,  async_=asy)):\n",
      "C:\\Users\\Goni L\\anaconda3\\lib\\site-packages\\IPython\\core\\interactiveshell.py:3338: DtypeWarning: Columns (24) have mixed types.Specify dtype option on import or set low_memory=False.\n",
      "  if (await self.run_code(code, result,  async_=asy)):\n",
      "C:\\Users\\Goni L\\anaconda3\\lib\\site-packages\\IPython\\core\\interactiveshell.py:3338: DtypeWarning: Columns (1,25,28) have mixed types.Specify dtype option on import or set low_memory=False.\n",
      "  if (await self.run_code(code, result,  async_=asy)):\n",
      "C:\\Users\\Goni L\\anaconda3\\lib\\site-packages\\IPython\\core\\interactiveshell.py:3338: DtypeWarning: Columns (34) have mixed types.Specify dtype option on import or set low_memory=False.\n",
      "  if (await self.run_code(code, result,  async_=asy)):\n"
     ]
    },
    {
     "ename": "MemoryError",
     "evalue": "Unable to allocate 1.20 GiB for an array with shape (36, 4472841) and data type object",
     "output_type": "error",
     "traceback": [
      "\u001b[1;31m---------------------------------------------------------------------------\u001b[0m",
      "\u001b[1;31mMemoryError\u001b[0m                               Traceback (most recent call last)",
      "\u001b[1;32m<ipython-input-3-640b78ef3a43>\u001b[0m in \u001b[0;36m<module>\u001b[1;34m\u001b[0m\n\u001b[1;32m----> 1\u001b[1;33m \u001b[0maid_all_total\u001b[0m \u001b[1;33m=\u001b[0m \u001b[0msetaidall\u001b[0m\u001b[1;33m(\u001b[0m\u001b[1;33m)\u001b[0m\u001b[1;33m\u001b[0m\u001b[1;33m\u001b[0m\u001b[0m\n\u001b[0m",
      "\u001b[1;32m<ipython-input-2-c2a7503a2d13>\u001b[0m in \u001b[0;36msetaidall\u001b[1;34m()\u001b[0m\n\u001b[0;32m     16\u001b[0m         \u001b[0mtitle\u001b[0m \u001b[1;33m=\u001b[0m \u001b[1;34m\"aidall\"\u001b[0m\u001b[1;33m+\u001b[0m\u001b[0mstr\u001b[0m\u001b[1;33m(\u001b[0m\u001b[0mi\u001b[0m\u001b[1;33m)\u001b[0m\u001b[1;33m+\u001b[0m\u001b[1;34m\"(u8s,eng,all,mt).csv\"\u001b[0m\u001b[1;33m\u001b[0m\u001b[1;33m\u001b[0m\u001b[0m\n\u001b[0;32m     17\u001b[0m         \u001b[0mdata\u001b[0m \u001b[1;33m=\u001b[0m \u001b[0mpd\u001b[0m\u001b[1;33m.\u001b[0m\u001b[0mread_csv\u001b[0m\u001b[1;33m(\u001b[0m\u001b[0mtitle\u001b[0m\u001b[1;33m,\u001b[0m\u001b[0mencoding\u001b[0m\u001b[1;33m=\u001b[0m\u001b[1;34m'utf-8-sig'\u001b[0m\u001b[1;33m)\u001b[0m\u001b[1;33m\u001b[0m\u001b[1;33m\u001b[0m\u001b[0m\n\u001b[1;32m---> 18\u001b[1;33m         \u001b[0maid_all_total\u001b[0m \u001b[1;33m=\u001b[0m \u001b[0mpd\u001b[0m\u001b[1;33m.\u001b[0m\u001b[0mconcat\u001b[0m\u001b[1;33m(\u001b[0m\u001b[1;33m[\u001b[0m\u001b[0maid_all_total\u001b[0m\u001b[1;33m,\u001b[0m\u001b[0mdata\u001b[0m\u001b[1;33m]\u001b[0m\u001b[1;33m,\u001b[0m\u001b[0maxis\u001b[0m\u001b[1;33m=\u001b[0m\u001b[1;36m0\u001b[0m\u001b[1;33m)\u001b[0m\u001b[1;33m\u001b[0m\u001b[1;33m\u001b[0m\u001b[0m\n\u001b[0m\u001b[0;32m     19\u001b[0m     \u001b[0maid_all_total\u001b[0m\u001b[1;33m.\u001b[0m\u001b[0mreset_index\u001b[0m\u001b[1;33m(\u001b[0m\u001b[0mdrop\u001b[0m\u001b[1;33m=\u001b[0m\u001b[1;32mTrue\u001b[0m\u001b[1;33m,\u001b[0m\u001b[0minplace\u001b[0m\u001b[1;33m=\u001b[0m\u001b[1;32mTrue\u001b[0m\u001b[1;33m)\u001b[0m\u001b[1;33m\u001b[0m\u001b[1;33m\u001b[0m\u001b[0m\n\u001b[0;32m     20\u001b[0m     \u001b[0maid_all_total\u001b[0m\u001b[1;33m.\u001b[0m\u001b[0mreset_index\u001b[0m\u001b[1;33m(\u001b[0m\u001b[0mdrop\u001b[0m\u001b[1;33m=\u001b[0m\u001b[1;32mFalse\u001b[0m\u001b[1;33m,\u001b[0m\u001b[0minplace\u001b[0m\u001b[1;33m=\u001b[0m\u001b[1;32mTrue\u001b[0m\u001b[1;33m)\u001b[0m\u001b[1;33m\u001b[0m\u001b[1;33m\u001b[0m\u001b[0m\n",
      "\u001b[1;32m~\\anaconda3\\lib\\site-packages\\pandas\\core\\reshape\\concat.py\u001b[0m in \u001b[0;36mconcat\u001b[1;34m(objs, axis, join, ignore_index, keys, levels, names, verify_integrity, sort, copy)\u001b[0m\n\u001b[0;32m    272\u001b[0m     \u001b[0mValueError\u001b[0m\u001b[1;33m:\u001b[0m \u001b[0mIndexes\u001b[0m \u001b[0mhave\u001b[0m \u001b[0moverlapping\u001b[0m \u001b[0mvalues\u001b[0m\u001b[1;33m:\u001b[0m \u001b[1;33m[\u001b[0m\u001b[1;34m'a'\u001b[0m\u001b[1;33m]\u001b[0m\u001b[1;33m\u001b[0m\u001b[1;33m\u001b[0m\u001b[0m\n\u001b[0;32m    273\u001b[0m     \"\"\"\n\u001b[1;32m--> 274\u001b[1;33m     op = _Concatenator(\n\u001b[0m\u001b[0;32m    275\u001b[0m         \u001b[0mobjs\u001b[0m\u001b[1;33m,\u001b[0m\u001b[1;33m\u001b[0m\u001b[1;33m\u001b[0m\u001b[0m\n\u001b[0;32m    276\u001b[0m         \u001b[0maxis\u001b[0m\u001b[1;33m=\u001b[0m\u001b[0maxis\u001b[0m\u001b[1;33m,\u001b[0m\u001b[1;33m\u001b[0m\u001b[1;33m\u001b[0m\u001b[0m\n",
      "\u001b[1;32m~\\anaconda3\\lib\\site-packages\\pandas\\core\\reshape\\concat.py\u001b[0m in \u001b[0;36m__init__\u001b[1;34m(self, objs, axis, join, keys, levels, names, ignore_index, verify_integrity, copy, sort)\u001b[0m\n\u001b[0;32m    360\u001b[0m \u001b[1;33m\u001b[0m\u001b[0m\n\u001b[0;32m    361\u001b[0m             \u001b[1;31m# consolidate\u001b[0m\u001b[1;33m\u001b[0m\u001b[1;33m\u001b[0m\u001b[1;33m\u001b[0m\u001b[0m\n\u001b[1;32m--> 362\u001b[1;33m             \u001b[0mobj\u001b[0m\u001b[1;33m.\u001b[0m\u001b[0m_consolidate\u001b[0m\u001b[1;33m(\u001b[0m\u001b[0minplace\u001b[0m\u001b[1;33m=\u001b[0m\u001b[1;32mTrue\u001b[0m\u001b[1;33m)\u001b[0m\u001b[1;33m\u001b[0m\u001b[1;33m\u001b[0m\u001b[0m\n\u001b[0m\u001b[0;32m    363\u001b[0m             \u001b[0mndims\u001b[0m\u001b[1;33m.\u001b[0m\u001b[0madd\u001b[0m\u001b[1;33m(\u001b[0m\u001b[0mobj\u001b[0m\u001b[1;33m.\u001b[0m\u001b[0mndim\u001b[0m\u001b[1;33m)\u001b[0m\u001b[1;33m\u001b[0m\u001b[1;33m\u001b[0m\u001b[0m\n\u001b[0;32m    364\u001b[0m \u001b[1;33m\u001b[0m\u001b[0m\n",
      "\u001b[1;32m~\\anaconda3\\lib\\site-packages\\pandas\\core\\generic.py\u001b[0m in \u001b[0;36m_consolidate\u001b[1;34m(self, inplace)\u001b[0m\n\u001b[0;32m   5230\u001b[0m         \u001b[0minplace\u001b[0m \u001b[1;33m=\u001b[0m \u001b[0mvalidate_bool_kwarg\u001b[0m\u001b[1;33m(\u001b[0m\u001b[0minplace\u001b[0m\u001b[1;33m,\u001b[0m \u001b[1;34m\"inplace\"\u001b[0m\u001b[1;33m)\u001b[0m\u001b[1;33m\u001b[0m\u001b[1;33m\u001b[0m\u001b[0m\n\u001b[0;32m   5231\u001b[0m         \u001b[1;32mif\u001b[0m \u001b[0minplace\u001b[0m\u001b[1;33m:\u001b[0m\u001b[1;33m\u001b[0m\u001b[1;33m\u001b[0m\u001b[0m\n\u001b[1;32m-> 5232\u001b[1;33m             \u001b[0mself\u001b[0m\u001b[1;33m.\u001b[0m\u001b[0m_consolidate_inplace\u001b[0m\u001b[1;33m(\u001b[0m\u001b[1;33m)\u001b[0m\u001b[1;33m\u001b[0m\u001b[1;33m\u001b[0m\u001b[0m\n\u001b[0m\u001b[0;32m   5233\u001b[0m         \u001b[1;32melse\u001b[0m\u001b[1;33m:\u001b[0m\u001b[1;33m\u001b[0m\u001b[1;33m\u001b[0m\u001b[0m\n\u001b[0;32m   5234\u001b[0m             \u001b[0mf\u001b[0m \u001b[1;33m=\u001b[0m \u001b[1;32mlambda\u001b[0m\u001b[1;33m:\u001b[0m \u001b[0mself\u001b[0m\u001b[1;33m.\u001b[0m\u001b[0m_mgr\u001b[0m\u001b[1;33m.\u001b[0m\u001b[0mconsolidate\u001b[0m\u001b[1;33m(\u001b[0m\u001b[1;33m)\u001b[0m\u001b[1;33m\u001b[0m\u001b[1;33m\u001b[0m\u001b[0m\n",
      "\u001b[1;32m~\\anaconda3\\lib\\site-packages\\pandas\\core\\generic.py\u001b[0m in \u001b[0;36m_consolidate_inplace\u001b[1;34m(self)\u001b[0m\n\u001b[0;32m   5212\u001b[0m             \u001b[0mself\u001b[0m\u001b[1;33m.\u001b[0m\u001b[0m_mgr\u001b[0m \u001b[1;33m=\u001b[0m \u001b[0mself\u001b[0m\u001b[1;33m.\u001b[0m\u001b[0m_mgr\u001b[0m\u001b[1;33m.\u001b[0m\u001b[0mconsolidate\u001b[0m\u001b[1;33m(\u001b[0m\u001b[1;33m)\u001b[0m\u001b[1;33m\u001b[0m\u001b[1;33m\u001b[0m\u001b[0m\n\u001b[0;32m   5213\u001b[0m \u001b[1;33m\u001b[0m\u001b[0m\n\u001b[1;32m-> 5214\u001b[1;33m         \u001b[0mself\u001b[0m\u001b[1;33m.\u001b[0m\u001b[0m_protect_consolidate\u001b[0m\u001b[1;33m(\u001b[0m\u001b[0mf\u001b[0m\u001b[1;33m)\u001b[0m\u001b[1;33m\u001b[0m\u001b[1;33m\u001b[0m\u001b[0m\n\u001b[0m\u001b[0;32m   5215\u001b[0m \u001b[1;33m\u001b[0m\u001b[0m\n\u001b[0;32m   5216\u001b[0m     \u001b[1;32mdef\u001b[0m \u001b[0m_consolidate\u001b[0m\u001b[1;33m(\u001b[0m\u001b[0mself\u001b[0m\u001b[1;33m,\u001b[0m \u001b[0minplace\u001b[0m\u001b[1;33m:\u001b[0m \u001b[0mbool_t\u001b[0m \u001b[1;33m=\u001b[0m \u001b[1;32mFalse\u001b[0m\u001b[1;33m)\u001b[0m\u001b[1;33m:\u001b[0m\u001b[1;33m\u001b[0m\u001b[1;33m\u001b[0m\u001b[0m\n",
      "\u001b[1;32m~\\anaconda3\\lib\\site-packages\\pandas\\core\\generic.py\u001b[0m in \u001b[0;36m_protect_consolidate\u001b[1;34m(self, f)\u001b[0m\n\u001b[0;32m   5201\u001b[0m         \"\"\"\n\u001b[0;32m   5202\u001b[0m         \u001b[0mblocks_before\u001b[0m \u001b[1;33m=\u001b[0m \u001b[0mlen\u001b[0m\u001b[1;33m(\u001b[0m\u001b[0mself\u001b[0m\u001b[1;33m.\u001b[0m\u001b[0m_mgr\u001b[0m\u001b[1;33m.\u001b[0m\u001b[0mblocks\u001b[0m\u001b[1;33m)\u001b[0m\u001b[1;33m\u001b[0m\u001b[1;33m\u001b[0m\u001b[0m\n\u001b[1;32m-> 5203\u001b[1;33m         \u001b[0mresult\u001b[0m \u001b[1;33m=\u001b[0m \u001b[0mf\u001b[0m\u001b[1;33m(\u001b[0m\u001b[1;33m)\u001b[0m\u001b[1;33m\u001b[0m\u001b[1;33m\u001b[0m\u001b[0m\n\u001b[0m\u001b[0;32m   5204\u001b[0m         \u001b[1;32mif\u001b[0m \u001b[0mlen\u001b[0m\u001b[1;33m(\u001b[0m\u001b[0mself\u001b[0m\u001b[1;33m.\u001b[0m\u001b[0m_mgr\u001b[0m\u001b[1;33m.\u001b[0m\u001b[0mblocks\u001b[0m\u001b[1;33m)\u001b[0m \u001b[1;33m!=\u001b[0m \u001b[0mblocks_before\u001b[0m\u001b[1;33m:\u001b[0m\u001b[1;33m\u001b[0m\u001b[1;33m\u001b[0m\u001b[0m\n\u001b[0;32m   5205\u001b[0m             \u001b[0mself\u001b[0m\u001b[1;33m.\u001b[0m\u001b[0m_clear_item_cache\u001b[0m\u001b[1;33m(\u001b[0m\u001b[1;33m)\u001b[0m\u001b[1;33m\u001b[0m\u001b[1;33m\u001b[0m\u001b[0m\n",
      "\u001b[1;32m~\\anaconda3\\lib\\site-packages\\pandas\\core\\generic.py\u001b[0m in \u001b[0;36mf\u001b[1;34m()\u001b[0m\n\u001b[0;32m   5210\u001b[0m \u001b[1;33m\u001b[0m\u001b[0m\n\u001b[0;32m   5211\u001b[0m         \u001b[1;32mdef\u001b[0m \u001b[0mf\u001b[0m\u001b[1;33m(\u001b[0m\u001b[1;33m)\u001b[0m\u001b[1;33m:\u001b[0m\u001b[1;33m\u001b[0m\u001b[1;33m\u001b[0m\u001b[0m\n\u001b[1;32m-> 5212\u001b[1;33m             \u001b[0mself\u001b[0m\u001b[1;33m.\u001b[0m\u001b[0m_mgr\u001b[0m \u001b[1;33m=\u001b[0m \u001b[0mself\u001b[0m\u001b[1;33m.\u001b[0m\u001b[0m_mgr\u001b[0m\u001b[1;33m.\u001b[0m\u001b[0mconsolidate\u001b[0m\u001b[1;33m(\u001b[0m\u001b[1;33m)\u001b[0m\u001b[1;33m\u001b[0m\u001b[1;33m\u001b[0m\u001b[0m\n\u001b[0m\u001b[0;32m   5213\u001b[0m \u001b[1;33m\u001b[0m\u001b[0m\n\u001b[0;32m   5214\u001b[0m         \u001b[0mself\u001b[0m\u001b[1;33m.\u001b[0m\u001b[0m_protect_consolidate\u001b[0m\u001b[1;33m(\u001b[0m\u001b[0mf\u001b[0m\u001b[1;33m)\u001b[0m\u001b[1;33m\u001b[0m\u001b[1;33m\u001b[0m\u001b[0m\n",
      "\u001b[1;32m~\\anaconda3\\lib\\site-packages\\pandas\\core\\internals\\managers.py\u001b[0m in \u001b[0;36mconsolidate\u001b[1;34m(self)\u001b[0m\n\u001b[0;32m    972\u001b[0m         \u001b[0mbm\u001b[0m \u001b[1;33m=\u001b[0m \u001b[0mtype\u001b[0m\u001b[1;33m(\u001b[0m\u001b[0mself\u001b[0m\u001b[1;33m)\u001b[0m\u001b[1;33m(\u001b[0m\u001b[0mself\u001b[0m\u001b[1;33m.\u001b[0m\u001b[0mblocks\u001b[0m\u001b[1;33m,\u001b[0m \u001b[0mself\u001b[0m\u001b[1;33m.\u001b[0m\u001b[0maxes\u001b[0m\u001b[1;33m)\u001b[0m\u001b[1;33m\u001b[0m\u001b[1;33m\u001b[0m\u001b[0m\n\u001b[0;32m    973\u001b[0m         \u001b[0mbm\u001b[0m\u001b[1;33m.\u001b[0m\u001b[0m_is_consolidated\u001b[0m \u001b[1;33m=\u001b[0m \u001b[1;32mFalse\u001b[0m\u001b[1;33m\u001b[0m\u001b[1;33m\u001b[0m\u001b[0m\n\u001b[1;32m--> 974\u001b[1;33m         \u001b[0mbm\u001b[0m\u001b[1;33m.\u001b[0m\u001b[0m_consolidate_inplace\u001b[0m\u001b[1;33m(\u001b[0m\u001b[1;33m)\u001b[0m\u001b[1;33m\u001b[0m\u001b[1;33m\u001b[0m\u001b[0m\n\u001b[0m\u001b[0;32m    975\u001b[0m         \u001b[1;32mreturn\u001b[0m \u001b[0mbm\u001b[0m\u001b[1;33m\u001b[0m\u001b[1;33m\u001b[0m\u001b[0m\n\u001b[0;32m    976\u001b[0m \u001b[1;33m\u001b[0m\u001b[0m\n",
      "\u001b[1;32m~\\anaconda3\\lib\\site-packages\\pandas\\core\\internals\\managers.py\u001b[0m in \u001b[0;36m_consolidate_inplace\u001b[1;34m(self)\u001b[0m\n\u001b[0;32m    977\u001b[0m     \u001b[1;32mdef\u001b[0m \u001b[0m_consolidate_inplace\u001b[0m\u001b[1;33m(\u001b[0m\u001b[0mself\u001b[0m\u001b[1;33m)\u001b[0m \u001b[1;33m->\u001b[0m \u001b[1;32mNone\u001b[0m\u001b[1;33m:\u001b[0m\u001b[1;33m\u001b[0m\u001b[1;33m\u001b[0m\u001b[0m\n\u001b[0;32m    978\u001b[0m         \u001b[1;32mif\u001b[0m \u001b[1;32mnot\u001b[0m \u001b[0mself\u001b[0m\u001b[1;33m.\u001b[0m\u001b[0mis_consolidated\u001b[0m\u001b[1;33m(\u001b[0m\u001b[1;33m)\u001b[0m\u001b[1;33m:\u001b[0m\u001b[1;33m\u001b[0m\u001b[1;33m\u001b[0m\u001b[0m\n\u001b[1;32m--> 979\u001b[1;33m             \u001b[0mself\u001b[0m\u001b[1;33m.\u001b[0m\u001b[0mblocks\u001b[0m \u001b[1;33m=\u001b[0m \u001b[0mtuple\u001b[0m\u001b[1;33m(\u001b[0m\u001b[0m_consolidate\u001b[0m\u001b[1;33m(\u001b[0m\u001b[0mself\u001b[0m\u001b[1;33m.\u001b[0m\u001b[0mblocks\u001b[0m\u001b[1;33m)\u001b[0m\u001b[1;33m)\u001b[0m\u001b[1;33m\u001b[0m\u001b[1;33m\u001b[0m\u001b[0m\n\u001b[0m\u001b[0;32m    980\u001b[0m             \u001b[0mself\u001b[0m\u001b[1;33m.\u001b[0m\u001b[0m_is_consolidated\u001b[0m \u001b[1;33m=\u001b[0m \u001b[1;32mTrue\u001b[0m\u001b[1;33m\u001b[0m\u001b[1;33m\u001b[0m\u001b[0m\n\u001b[0;32m    981\u001b[0m             \u001b[0mself\u001b[0m\u001b[1;33m.\u001b[0m\u001b[0m_known_consolidated\u001b[0m \u001b[1;33m=\u001b[0m \u001b[1;32mTrue\u001b[0m\u001b[1;33m\u001b[0m\u001b[1;33m\u001b[0m\u001b[0m\n",
      "\u001b[1;32m~\\anaconda3\\lib\\site-packages\\pandas\\core\\internals\\managers.py\u001b[0m in \u001b[0;36m_consolidate\u001b[1;34m(blocks)\u001b[0m\n\u001b[0;32m   1897\u001b[0m     \u001b[0mnew_blocks\u001b[0m \u001b[1;33m=\u001b[0m \u001b[1;33m[\u001b[0m\u001b[1;33m]\u001b[0m\u001b[1;33m\u001b[0m\u001b[1;33m\u001b[0m\u001b[0m\n\u001b[0;32m   1898\u001b[0m     \u001b[1;32mfor\u001b[0m \u001b[1;33m(\u001b[0m\u001b[0m_can_consolidate\u001b[0m\u001b[1;33m,\u001b[0m \u001b[0mdtype\u001b[0m\u001b[1;33m)\u001b[0m\u001b[1;33m,\u001b[0m \u001b[0mgroup_blocks\u001b[0m \u001b[1;32min\u001b[0m \u001b[0mgrouper\u001b[0m\u001b[1;33m:\u001b[0m\u001b[1;33m\u001b[0m\u001b[1;33m\u001b[0m\u001b[0m\n\u001b[1;32m-> 1899\u001b[1;33m         merged_blocks = _merge_blocks(\n\u001b[0m\u001b[0;32m   1900\u001b[0m             \u001b[0mlist\u001b[0m\u001b[1;33m(\u001b[0m\u001b[0mgroup_blocks\u001b[0m\u001b[1;33m)\u001b[0m\u001b[1;33m,\u001b[0m \u001b[0mdtype\u001b[0m\u001b[1;33m=\u001b[0m\u001b[0mdtype\u001b[0m\u001b[1;33m,\u001b[0m \u001b[0mcan_consolidate\u001b[0m\u001b[1;33m=\u001b[0m\u001b[0m_can_consolidate\u001b[0m\u001b[1;33m\u001b[0m\u001b[1;33m\u001b[0m\u001b[0m\n\u001b[0;32m   1901\u001b[0m         )\n",
      "\u001b[1;32m~\\anaconda3\\lib\\site-packages\\pandas\\core\\internals\\managers.py\u001b[0m in \u001b[0;36m_merge_blocks\u001b[1;34m(blocks, dtype, can_consolidate)\u001b[0m\n\u001b[0;32m   1923\u001b[0m \u001b[1;33m\u001b[0m\u001b[0m\n\u001b[0;32m   1924\u001b[0m         \u001b[0margsort\u001b[0m \u001b[1;33m=\u001b[0m \u001b[0mnp\u001b[0m\u001b[1;33m.\u001b[0m\u001b[0margsort\u001b[0m\u001b[1;33m(\u001b[0m\u001b[0mnew_mgr_locs\u001b[0m\u001b[1;33m)\u001b[0m\u001b[1;33m\u001b[0m\u001b[1;33m\u001b[0m\u001b[0m\n\u001b[1;32m-> 1925\u001b[1;33m         \u001b[0mnew_values\u001b[0m \u001b[1;33m=\u001b[0m \u001b[0mnew_values\u001b[0m\u001b[1;33m[\u001b[0m\u001b[0margsort\u001b[0m\u001b[1;33m]\u001b[0m\u001b[1;33m\u001b[0m\u001b[1;33m\u001b[0m\u001b[0m\n\u001b[0m\u001b[0;32m   1926\u001b[0m         \u001b[0mnew_mgr_locs\u001b[0m \u001b[1;33m=\u001b[0m \u001b[0mnew_mgr_locs\u001b[0m\u001b[1;33m[\u001b[0m\u001b[0margsort\u001b[0m\u001b[1;33m]\u001b[0m\u001b[1;33m\u001b[0m\u001b[1;33m\u001b[0m\u001b[0m\n\u001b[0;32m   1927\u001b[0m \u001b[1;33m\u001b[0m\u001b[0m\n",
      "\u001b[1;31mMemoryError\u001b[0m: Unable to allocate 1.20 GiB for an array with shape (36, 4472841) and data type object"
     ]
    }
   ],
   "source": [
    "aid_all_total = setaidall()"
   ]
  },
  {
   "cell_type": "code",
   "execution_count": 4,
   "metadata": {},
   "outputs": [
    {
     "ename": "NameError",
     "evalue": "name 'df_misdone' is not defined",
     "output_type": "error",
     "traceback": [
      "\u001b[1;31m---------------------------------------------------------------------------\u001b[0m",
      "\u001b[1;31mNameError\u001b[0m                                 Traceback (most recent call last)",
      "\u001b[1;32m<ipython-input-4-fd10000cbe1b>\u001b[0m in \u001b[0;36m<module>\u001b[1;34m\u001b[0m\n\u001b[0;32m      1\u001b[0m \u001b[1;32mfrom\u001b[0m \u001b[0msklearn\u001b[0m\u001b[1;33m.\u001b[0m\u001b[0mpreprocessing\u001b[0m \u001b[1;32mimport\u001b[0m \u001b[0mLabelEncoder\u001b[0m\u001b[1;33m\u001b[0m\u001b[1;33m\u001b[0m\u001b[0m\n\u001b[0;32m      2\u001b[0m \u001b[0msafe\u001b[0m \u001b[1;33m=\u001b[0m \u001b[0mLabelEncoder\u001b[0m\u001b[1;33m(\u001b[0m\u001b[1;33m)\u001b[0m \u001b[1;31m#안전센터\u001b[0m\u001b[1;33m\u001b[0m\u001b[1;33m\u001b[0m\u001b[0m\n\u001b[1;32m----> 3\u001b[1;33m \u001b[0msafe\u001b[0m\u001b[1;33m.\u001b[0m\u001b[0mfit\u001b[0m\u001b[1;33m(\u001b[0m\u001b[0mdf_misdone\u001b[0m\u001b[1;33m.\u001b[0m\u001b[0mSAFE_CENTER_NM\u001b[0m\u001b[1;33m)\u001b[0m\u001b[1;33m\u001b[0m\u001b[1;33m\u001b[0m\u001b[0m\n\u001b[0m\u001b[0;32m      4\u001b[0m \u001b[1;33m\u001b[0m\u001b[0m\n\u001b[0;32m      5\u001b[0m \u001b[0mfire\u001b[0m \u001b[1;33m=\u001b[0m \u001b[0mLabelEncoder\u001b[0m\u001b[1;33m(\u001b[0m\u001b[1;33m)\u001b[0m \u001b[1;31m# 소방서\u001b[0m\u001b[1;33m\u001b[0m\u001b[1;33m\u001b[0m\u001b[0m\n",
      "\u001b[1;31mNameError\u001b[0m: name 'df_misdone' is not defined"
     ]
    }
   ],
   "source": [
    "from sklearn.preprocessing import LabelEncoder\n",
    "safe = LabelEncoder() #안전센터\n",
    "safe.fit(df_misdone.SAFE_CENTER_NM)\n",
    "\n",
    "fire = LabelEncoder() # 소방서\n",
    "fire.fit(df_misdone.FIRESTTN_NM) \n",
    "\n",
    "# 안전센터, 소방서 레이블 인코딩\n",
    "safe_encoded = safe.transform(df_misdone.SAFE_CENTER_NM)\n",
    "fire_encoded = fire.transform(df_misdone.FIRESTTN_NM)\n",
    "\n",
    "# 기존 데이터 셋 인코딩 완료값으로 변경\n",
    "df_misdone.SAFE_CENTER_NM = safe_encoded\n",
    "df_misdone.FIRESTTN_NM = fire_encoded"
   ]
  },
  {
   "cell_type": "code",
   "execution_count": null,
   "metadata": {},
   "outputs": [],
   "source": [
    "# 이외의 열 삭제\n",
    "df_misdone.drop(['YMD','STATMNT_TM','ONSPOT_TM','ONSPOT_DSTN','HOMING_TM','CONSCS_STATE'], axis=1, inplace=True)\n",
    "df_misdone.to_csv(\"aid_total_1821.csv\", encoding=\"utf-8-sig\", index=False)"
   ]
  }
 ],
 "metadata": {
  "kernelspec": {
   "display_name": "Python 3",
   "language": "python",
   "name": "python3"
  },
  "language_info": {
   "codemirror_mode": {
    "name": "ipython",
    "version": 3
   },
   "file_extension": ".py",
   "mimetype": "text/x-python",
   "name": "python",
   "nbconvert_exporter": "python",
   "pygments_lexer": "ipython3",
   "version": "3.8.5"
  },
  "toc": {
   "base_numbering": 1,
   "nav_menu": {},
   "number_sections": true,
   "sideBar": true,
   "skip_h1_title": false,
   "title_cell": "Table of Contents",
   "title_sidebar": "Contents",
   "toc_cell": false,
   "toc_position": {
    "height": "calc(100% - 180px)",
    "left": "10px",
    "top": "150px",
    "width": "568.097px"
   },
   "toc_section_display": true,
   "toc_window_display": true
  }
 },
 "nbformat": 4,
 "nbformat_minor": 4
}
