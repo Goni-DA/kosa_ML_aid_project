{
 "cells": [
  {
   "cell_type": "code",
   "execution_count": 1,
   "metadata": {
    "ExecuteTime": {
     "end_time": "2021-04-06T01:20:54.602982Z",
     "start_time": "2021-04-06T01:20:51.231460Z"
    }
   },
   "outputs": [],
   "source": [
    "import pandas as pd\n",
    "import matplotlib.pyplot as plt\n",
    "import numpy as np\n",
    "from patsy import dmatrices\n",
    "import statsmodels.api as sm\n",
    "from statsmodels.stats.outliers_influence import variance_inflation_factor\n",
    "%matplotlib inline\n",
    "import matplotlib.pyplot as plt\n",
    "import pandas as pd\n",
    "from sklearn.model_selection import train_test_split\n",
    "from sklearn.model_selection import cross_val_score\n",
    "import math\n",
    "from sklearn.metrics import mean_squared_error\n",
    "from sklearn.metrics import mean_absolute_error\n",
    "from sklearn.metrics import r2_score\n",
    "from sklearn.decomposition import PCA\n",
    "\n",
    "import pickle"
   ]
  },
  {
   "cell_type": "code",
   "execution_count": 4,
   "metadata": {
    "ExecuteTime": {
     "end_time": "2021-04-06T01:22:28.575265Z",
     "start_time": "2021-04-06T01:22:28.558287Z"
    }
   },
   "outputs": [],
   "source": [
    "def setaiddata():\n",
    "    dirtstr = 'C:/Users/COM/KOSA_python/Project/MachineLearning_Project/'\n",
    "    csvNames = ['aid(od)','aid(cent,fire_label)','aid(statmnt_tm)','aid(dong)','aid(jur)','aid(mt)'] # 확장자 제외하고 쓸것\n",
    "    pktitle = dirtstr+'PK.csv' # pk파일명 넣을것\n",
    "    aid_data = pd.read_csv(pktitle,encoding='utf-8-sig')\n",
    "    for csvName in csvNames:\n",
    "        title = dirtstr+ csvName +\".csv\"\n",
    "        print(title)\n",
    "        data = pd.read_csv(title,encoding='utf-8-sig')\n",
    "        aid_data = pd.merge(aid_data, data, on='PK')\n",
    "    print(aid_data.info())\n",
    "    return aid_data"
   ]
  },
  {
   "cell_type": "code",
   "execution_count": 5,
   "metadata": {
    "ExecuteTime": {
     "end_time": "2021-04-06T01:22:47.870414Z",
     "start_time": "2021-04-06T01:22:31.963499Z"
    }
   },
   "outputs": [
    {
     "name": "stdout",
     "output_type": "stream",
     "text": [
      "C:/Users/COM/KOSA_python/Project/MachineLearning_Project/aid(od).csv\n",
      "C:/Users/COM/KOSA_python/Project/MachineLearning_Project/aid(cent,fire_label).csv\n",
      "C:/Users/COM/KOSA_python/Project/MachineLearning_Project/aid(statmnt_tm).csv\n",
      "C:/Users/COM/KOSA_python/Project/MachineLearning_Project/aid(dong).csv\n",
      "C:/Users/COM/KOSA_python/Project/MachineLearning_Project/aid(jur).csv\n",
      "C:/Users/COM/KOSA_python/Project/MachineLearning_Project/aid(mt).csv\n",
      "<class 'pandas.core.frame.DataFrame'>\n",
      "Int64Index: 3765058 entries, 0 to 3765057\n",
      "Data columns (total 9 columns):\n",
      " #   Column               Dtype  \n",
      "---  ------               -----  \n",
      " 0   PK                   int64  \n",
      " 1   ONSPOT_DSTN          float64\n",
      " 2   GOUT_FIRESTTN_NM     int64  \n",
      " 3   GOUT_SAFE_CENTER_NM  int64  \n",
      " 4   STATMNT_TM           int64  \n",
      " 5   EMRLF_EMD_NM         int64  \n",
      " 6   JURISD_DIV_NM_CNT    int64  \n",
      " 7   JURISD_DIV_NM_OUT    int64  \n",
      " 8   MOVE_TM              float64\n",
      "dtypes: float64(2), int64(7)\n",
      "memory usage: 287.3 MB\n",
      "None\n"
     ]
    }
   ],
   "source": [
    "data = setaiddata()"
   ]
  },
  {
   "cell_type": "code",
   "execution_count": 6,
   "metadata": {
    "ExecuteTime": {
     "end_time": "2021-04-06T01:22:48.676952Z",
     "start_time": "2021-04-06T01:22:47.872412Z"
    }
   },
   "outputs": [],
   "source": [
    "data = data.drop(['PK'], axis=1)\n",
    "data = data.dropna()"
   ]
  },
  {
   "cell_type": "code",
   "execution_count": 7,
   "metadata": {
    "ExecuteTime": {
     "end_time": "2021-04-06T01:22:48.694941Z",
     "start_time": "2021-04-06T01:22:48.677952Z"
    }
   },
   "outputs": [
    {
     "data": {
      "text/html": [
       "<div>\n",
       "<style scoped>\n",
       "    .dataframe tbody tr th:only-of-type {\n",
       "        vertical-align: middle;\n",
       "    }\n",
       "\n",
       "    .dataframe tbody tr th {\n",
       "        vertical-align: top;\n",
       "    }\n",
       "\n",
       "    .dataframe thead th {\n",
       "        text-align: right;\n",
       "    }\n",
       "</style>\n",
       "<table border=\"1\" class=\"dataframe\">\n",
       "  <thead>\n",
       "    <tr style=\"text-align: right;\">\n",
       "      <th></th>\n",
       "      <th>ONSPOT_DSTN</th>\n",
       "      <th>GOUT_FIRESTTN_NM</th>\n",
       "      <th>GOUT_SAFE_CENTER_NM</th>\n",
       "      <th>STATMNT_TM</th>\n",
       "      <th>EMRLF_EMD_NM</th>\n",
       "      <th>JURISD_DIV_NM_CNT</th>\n",
       "      <th>JURISD_DIV_NM_OUT</th>\n",
       "      <th>MOVE_TM</th>\n",
       "    </tr>\n",
       "  </thead>\n",
       "  <tbody>\n",
       "    <tr>\n",
       "      <th>3765053</th>\n",
       "      <td>1.4</td>\n",
       "      <td>7</td>\n",
       "      <td>57</td>\n",
       "      <td>20</td>\n",
       "      <td>109</td>\n",
       "      <td>1</td>\n",
       "      <td>0</td>\n",
       "      <td>8.0</td>\n",
       "    </tr>\n",
       "    <tr>\n",
       "      <th>3765054</th>\n",
       "      <td>4.3</td>\n",
       "      <td>7</td>\n",
       "      <td>57</td>\n",
       "      <td>16</td>\n",
       "      <td>198</td>\n",
       "      <td>1</td>\n",
       "      <td>0</td>\n",
       "      <td>16.0</td>\n",
       "    </tr>\n",
       "    <tr>\n",
       "      <th>3765055</th>\n",
       "      <td>2.3</td>\n",
       "      <td>7</td>\n",
       "      <td>57</td>\n",
       "      <td>18</td>\n",
       "      <td>737</td>\n",
       "      <td>1</td>\n",
       "      <td>0</td>\n",
       "      <td>14.0</td>\n",
       "    </tr>\n",
       "    <tr>\n",
       "      <th>3765056</th>\n",
       "      <td>2.3</td>\n",
       "      <td>7</td>\n",
       "      <td>57</td>\n",
       "      <td>23</td>\n",
       "      <td>737</td>\n",
       "      <td>1</td>\n",
       "      <td>0</td>\n",
       "      <td>9.0</td>\n",
       "    </tr>\n",
       "    <tr>\n",
       "      <th>3765057</th>\n",
       "      <td>0.1</td>\n",
       "      <td>7</td>\n",
       "      <td>57</td>\n",
       "      <td>4</td>\n",
       "      <td>264</td>\n",
       "      <td>1</td>\n",
       "      <td>0</td>\n",
       "      <td>8.0</td>\n",
       "    </tr>\n",
       "  </tbody>\n",
       "</table>\n",
       "</div>"
      ],
      "text/plain": [
       "         ONSPOT_DSTN  GOUT_FIRESTTN_NM  GOUT_SAFE_CENTER_NM  STATMNT_TM  \\\n",
       "3765053          1.4                 7                   57          20   \n",
       "3765054          4.3                 7                   57          16   \n",
       "3765055          2.3                 7                   57          18   \n",
       "3765056          2.3                 7                   57          23   \n",
       "3765057          0.1                 7                   57           4   \n",
       "\n",
       "         EMRLF_EMD_NM  JURISD_DIV_NM_CNT  JURISD_DIV_NM_OUT  MOVE_TM  \n",
       "3765053           109                  1                  0      8.0  \n",
       "3765054           198                  1                  0     16.0  \n",
       "3765055           737                  1                  0     14.0  \n",
       "3765056           737                  1                  0      9.0  \n",
       "3765057           264                  1                  0      8.0  "
      ]
     },
     "execution_count": 7,
     "metadata": {},
     "output_type": "execute_result"
    }
   ],
   "source": [
    "data.tail()"
   ]
  },
  {
   "cell_type": "code",
   "execution_count": 13,
   "metadata": {
    "ExecuteTime": {
     "end_time": "2021-04-06T02:13:40.901181Z",
     "start_time": "2021-04-06T02:13:40.894183Z"
    }
   },
   "outputs": [
    {
     "name": "stdout",
     "output_type": "stream",
     "text": [
      "<class 'pandas.core.frame.DataFrame'>\n",
      "Int64Index: 3765058 entries, 0 to 3765057\n",
      "Data columns (total 8 columns):\n",
      " #   Column               Dtype  \n",
      "---  ------               -----  \n",
      " 0   ONSPOT_DSTN          float64\n",
      " 1   GOUT_FIRESTTN_NM     int64  \n",
      " 2   GOUT_SAFE_CENTER_NM  int64  \n",
      " 3   STATMNT_TM           int64  \n",
      " 4   EMRLF_EMD_NM         int64  \n",
      " 5   JURISD_DIV_NM_CNT    int64  \n",
      " 6   JURISD_DIV_NM_OUT    int64  \n",
      " 7   MOVE_TM              float64\n",
      "dtypes: float64(2), int64(6)\n",
      "memory usage: 258.5 MB\n"
     ]
    }
   ],
   "source": [
    "data.info()"
   ]
  },
  {
   "cell_type": "markdown",
   "metadata": {},
   "source": [
    "## ML FLASK import 도전"
   ]
  },
  {
   "cell_type": "code",
   "execution_count": 10,
   "metadata": {
    "ExecuteTime": {
     "end_time": "2021-04-06T01:27:53.411545Z",
     "start_time": "2021-04-06T01:27:52.419105Z"
    }
   },
   "outputs": [
    {
     "name": "stdout",
     "output_type": "stream",
     "text": [
      "사용한 독립변수들 :\n",
      " Index(['ONSPOT_DSTN', 'GOUT_FIRESTTN_NM', 'GOUT_SAFE_CENTER_NM', 'STATMNT_TM',\n",
      "       'EMRLF_EMD_NM', 'JURISD_DIV_NM_CNT', 'JURISD_DIV_NM_OUT'],\n",
      "      dtype='object')\n",
      "종속변수 :  MOVE_TM\n",
      "데이터 분리중...\n"
     ]
    }
   ],
   "source": [
    "X = data.iloc[:,0:-1]\n",
    "print('사용한 독립변수들 :\\n', X.columns)\n",
    "y = data.iloc[:,-1]\n",
    "print('종속변수 : ',y.name)\n",
    "\n",
    "# X,y의 학습데이터, 테스트데이터 분리\n",
    "print('데이터 분리중...')\n",
    "train_X, test_X, train_y, test_y = train_test_split(X,y,test_size=0.3)"
   ]
  },
  {
   "cell_type": "code",
   "execution_count": 11,
   "metadata": {
    "ExecuteTime": {
     "end_time": "2021-04-06T01:29:22.822417Z",
     "start_time": "2021-04-06T01:27:53.678736Z"
    }
   },
   "outputs": [],
   "source": [
    "from xgboost import XGBRegressor\n",
    "\n",
    "XG_model = XGBRegressor().fit(train_X, train_y)"
   ]
  },
  {
   "cell_type": "code",
   "execution_count": 12,
   "metadata": {
    "ExecuteTime": {
     "end_time": "2021-04-06T01:29:22.870390Z",
     "start_time": "2021-04-06T01:29:22.823417Z"
    }
   },
   "outputs": [],
   "source": [
    "pickle.dump(XG_model, open('psb.pkl','wb'))"
   ]
  },
  {
   "cell_type": "code",
   "execution_count": 19,
   "metadata": {
    "ExecuteTime": {
     "end_time": "2021-04-06T02:42:06.078150Z",
     "start_time": "2021-04-06T02:42:06.042187Z"
    }
   },
   "outputs": [
    {
     "name": "stdout",
     "output_type": "stream",
     "text": [
      "[5.433812]\n"
     ]
    }
   ],
   "source": [
    "df = pd.DataFrame(columns=['ONSPOT_DSTN', 'GOUT_FIRESTTN_NM', 'GOUT_SAFE_CENTER_NM', 'STATMNT_TM',\n",
    "       'EMRLF_EMD_NM', 'JURISD_DIV_NM_CNT', 'JURISD_DIV_NM_OUT'])\n",
    "df=df.append({'ONSPOT_DSTN' : 1 , 'GOUT_FIRESTTN_NM' : 13, 'GOUT_SAFE_CENTER_NM' : 2, 'STATMNT_TM' : 1,\n",
    "       'EMRLF_EMD_NM' : 1, 'JURISD_DIV_NM_CNT' : 1, 'JURISD_DIV_NM_OUT' : 0} , ignore_index=True)\n",
    "df2 = df.astype(np.int64)\n",
    "df3 = df2.ONSPOT_DSTN.astype(np.float64)\n",
    "df2 = df2.drop(columns='ONSPOT_DSTN')\n",
    "df4 = pd.concat((df3,df2), axis=1)\n",
    "\n",
    "print(XG_model.predict(df4))"
   ]
  },
  {
   "cell_type": "code",
   "execution_count": 18,
   "metadata": {
    "ExecuteTime": {
     "end_time": "2021-04-06T02:41:56.014864Z",
     "start_time": "2021-04-06T02:41:55.971892Z"
    }
   },
   "outputs": [
    {
     "data": {
      "text/html": [
       "<div>\n",
       "<style scoped>\n",
       "    .dataframe tbody tr th:only-of-type {\n",
       "        vertical-align: middle;\n",
       "    }\n",
       "\n",
       "    .dataframe tbody tr th {\n",
       "        vertical-align: top;\n",
       "    }\n",
       "\n",
       "    .dataframe thead th {\n",
       "        text-align: right;\n",
       "    }\n",
       "</style>\n",
       "<table border=\"1\" class=\"dataframe\">\n",
       "  <thead>\n",
       "    <tr style=\"text-align: right;\">\n",
       "      <th></th>\n",
       "      <th>ONSPOT_DSTN</th>\n",
       "      <th>GOUT_FIRESTTN_NM</th>\n",
       "      <th>GOUT_SAFE_CENTER_NM</th>\n",
       "      <th>STATMNT_TM</th>\n",
       "      <th>EMRLF_EMD_NM</th>\n",
       "      <th>JURISD_DIV_NM_CNT</th>\n",
       "      <th>JURISD_DIV_NM_OUT</th>\n",
       "    </tr>\n",
       "  </thead>\n",
       "  <tbody>\n",
       "    <tr>\n",
       "      <th>0</th>\n",
       "      <td>1</td>\n",
       "      <td>13</td>\n",
       "      <td>2</td>\n",
       "      <td>1</td>\n",
       "      <td>1</td>\n",
       "      <td>1</td>\n",
       "      <td>0</td>\n",
       "    </tr>\n",
       "  </tbody>\n",
       "</table>\n",
       "</div>"
      ],
      "text/plain": [
       "  ONSPOT_DSTN GOUT_FIRESTTN_NM GOUT_SAFE_CENTER_NM STATMNT_TM EMRLF_EMD_NM  \\\n",
       "0           1               13                   2          1            1   \n",
       "\n",
       "  JURISD_DIV_NM_CNT JURISD_DIV_NM_OUT  \n",
       "0                 1                 0  "
      ]
     },
     "execution_count": 18,
     "metadata": {},
     "output_type": "execute_result"
    }
   ],
   "source": [
    "df=df.append({'ONSPOT_DSTN' : 1 , 'GOUT_FIRESTTN_NM' : 13, 'GOUT_SAFE_CENTER_NM' : 2, 'STATMNT_TM' : 1,\n",
    "       'EMRLF_EMD_NM' : 1, 'JURISD_DIV_NM_CNT' : 1, 'JURISD_DIV_NM_OUT' : 0} , ignore_index=True)\n",
    "df"
   ]
  },
  {
   "cell_type": "code",
   "execution_count": 64,
   "metadata": {},
   "outputs": [
    {
     "data": {
      "text/html": [
       "<table class=\"simpletable\">\n",
       "<caption>OLS Regression Results</caption>\n",
       "<tr>\n",
       "  <th>Dep. Variable:</th>         <td>MOVE_TM</td>     <th>  R-squared (uncentered):</th>       <td>   0.870</td>  \n",
       "</tr>\n",
       "<tr>\n",
       "  <th>Model:</th>                   <td>OLS</td>       <th>  Adj. R-squared (uncentered):</th>  <td>   0.870</td>  \n",
       "</tr>\n",
       "<tr>\n",
       "  <th>Method:</th>             <td>Least Squares</td>  <th>  F-statistic:       </th>           <td>4.217e+06</td> \n",
       "</tr>\n",
       "<tr>\n",
       "  <th>Date:</th>             <td>Fri, 02 Apr 2021</td> <th>  Prob (F-statistic):</th>            <td>  0.00</td>   \n",
       "</tr>\n",
       "<tr>\n",
       "  <th>Time:</th>                 <td>15:18:58</td>     <th>  Log-Likelihood:    </th>          <td>-9.7843e+06</td>\n",
       "</tr>\n",
       "<tr>\n",
       "  <th>No. Observations:</th>      <td>3788553</td>     <th>  AIC:               </th>           <td>1.957e+07</td> \n",
       "</tr>\n",
       "<tr>\n",
       "  <th>Df Residuals:</th>          <td>3788547</td>     <th>  BIC:               </th>           <td>1.957e+07</td> \n",
       "</tr>\n",
       "<tr>\n",
       "  <th>Df Model:</th>              <td>     6</td>      <th>                     </th>               <td> </td>     \n",
       "</tr>\n",
       "<tr>\n",
       "  <th>Covariance Type:</th>      <td>nonrobust</td>    <th>                     </th>               <td> </td>     \n",
       "</tr>\n",
       "</table>\n",
       "<table class=\"simpletable\">\n",
       "<tr>\n",
       "           <td></td>              <th>coef</th>     <th>std err</th>      <th>t</th>      <th>P>|t|</th>  <th>[0.025</th>    <th>0.975]</th>  \n",
       "</tr>\n",
       "<tr>\n",
       "  <th>GOUT_FIRESTTN_NM</th>    <td>    0.0549</td> <td>    0.000</td> <td>  326.317</td> <td> 0.000</td> <td>    0.055</td> <td>    0.055</td>\n",
       "</tr>\n",
       "<tr>\n",
       "  <th>GOUT_SAFE_CENTER_NM</th> <td>    0.0052</td> <td> 2.98e-05</td> <td>  176.348</td> <td> 0.000</td> <td>    0.005</td> <td>    0.005</td>\n",
       "</tr>\n",
       "<tr>\n",
       "  <th>STATMNT_TM</th>          <td>    0.0787</td> <td>    0.000</td> <td>  346.873</td> <td> 0.000</td> <td>    0.078</td> <td>    0.079</td>\n",
       "</tr>\n",
       "<tr>\n",
       "  <th>EMRLF_EMD_NM</th>        <td>    0.0016</td> <td> 6.28e-06</td> <td>  248.805</td> <td> 0.000</td> <td>    0.002</td> <td>    0.002</td>\n",
       "</tr>\n",
       "<tr>\n",
       "  <th>JURISD_DIV_NM_CNT</th>   <td>    1.3081</td> <td>    0.004</td> <td>  322.978</td> <td> 0.000</td> <td>    1.300</td> <td>    1.316</td>\n",
       "</tr>\n",
       "<tr>\n",
       "  <th>ONSPOT_DSTN</th>         <td>    1.3843</td> <td>    0.001</td> <td> 1425.237</td> <td> 0.000</td> <td>    1.382</td> <td>    1.386</td>\n",
       "</tr>\n",
       "</table>\n",
       "<table class=\"simpletable\">\n",
       "<tr>\n",
       "  <th>Omnibus:</th>       <td>140131.571</td> <th>  Durbin-Watson:     </th>  <td>   1.492</td> \n",
       "</tr>\n",
       "<tr>\n",
       "  <th>Prob(Omnibus):</th>   <td> 0.000</td>   <th>  Jarque-Bera (JB):  </th> <td>165445.298</td>\n",
       "</tr>\n",
       "<tr>\n",
       "  <th>Skew:</th>            <td> 0.443</td>   <th>  Prob(JB):          </th>  <td>    0.00</td> \n",
       "</tr>\n",
       "<tr>\n",
       "  <th>Kurtosis:</th>        <td> 3.512</td>   <th>  Cond. No.          </th>  <td>1.46e+03</td> \n",
       "</tr>\n",
       "</table><br/><br/>Notes:<br/>[1] R² is computed without centering (uncentered) since the model does not contain a constant.<br/>[2] Standard Errors assume that the covariance matrix of the errors is correctly specified.<br/>[3] The condition number is large, 1.46e+03. This might indicate that there are<br/>strong multicollinearity or other numerical problems."
      ],
      "text/plain": [
       "<class 'statsmodels.iolib.summary.Summary'>\n",
       "\"\"\"\n",
       "                                 OLS Regression Results                                \n",
       "=======================================================================================\n",
       "Dep. Variable:                MOVE_TM   R-squared (uncentered):                   0.870\n",
       "Model:                            OLS   Adj. R-squared (uncentered):              0.870\n",
       "Method:                 Least Squares   F-statistic:                          4.217e+06\n",
       "Date:                Fri, 02 Apr 2021   Prob (F-statistic):                        0.00\n",
       "Time:                        15:18:58   Log-Likelihood:                     -9.7843e+06\n",
       "No. Observations:             3788553   AIC:                                  1.957e+07\n",
       "Df Residuals:                 3788547   BIC:                                  1.957e+07\n",
       "Df Model:                           6                                                  \n",
       "Covariance Type:            nonrobust                                                  \n",
       "=======================================================================================\n",
       "                          coef    std err          t      P>|t|      [0.025      0.975]\n",
       "---------------------------------------------------------------------------------------\n",
       "GOUT_FIRESTTN_NM        0.0549      0.000    326.317      0.000       0.055       0.055\n",
       "GOUT_SAFE_CENTER_NM     0.0052   2.98e-05    176.348      0.000       0.005       0.005\n",
       "STATMNT_TM              0.0787      0.000    346.873      0.000       0.078       0.079\n",
       "EMRLF_EMD_NM            0.0016   6.28e-06    248.805      0.000       0.002       0.002\n",
       "JURISD_DIV_NM_CNT       1.3081      0.004    322.978      0.000       1.300       1.316\n",
       "ONSPOT_DSTN             1.3843      0.001   1425.237      0.000       1.382       1.386\n",
       "==============================================================================\n",
       "Omnibus:                   140131.571   Durbin-Watson:                   1.492\n",
       "Prob(Omnibus):                  0.000   Jarque-Bera (JB):           165445.298\n",
       "Skew:                           0.443   Prob(JB):                         0.00\n",
       "Kurtosis:                       3.512   Cond. No.                     1.46e+03\n",
       "==============================================================================\n",
       "\n",
       "Notes:\n",
       "[1] R² is computed without centering (uncentered) since the model does not contain a constant.\n",
       "[2] Standard Errors assume that the covariance matrix of the errors is correctly specified.\n",
       "[3] The condition number is large, 1.46e+03. This might indicate that there are\n",
       "strong multicollinearity or other numerical problems.\n",
       "\"\"\""
      ]
     },
     "execution_count": 64,
     "metadata": {},
     "output_type": "execute_result"
    }
   ],
   "source": [
    "df = data\n",
    "lm2 = sm.OLS(df['MOVE_TM'], df[['GOUT_FIRESTTN_NM','GOUT_SAFE_CENTER_NM','STATMNT_TM',\n",
    "                               'EMRLF_EMD_NM', 'JURISD_DIV_NM_CNT','ONSPOT_DSTN']])\n",
    "results = lm.fit()\n",
    "results.summary()"
   ]
  },
  {
   "cell_type": "code",
   "execution_count": null,
   "metadata": {},
   "outputs": [],
   "source": [
    "pred_y = lm2.predict()"
   ]
  },
  {
   "cell_type": "code",
   "execution_count": 6,
   "metadata": {},
   "outputs": [],
   "source": [
    "def modelscore_PCA(model,df, com=5):\n",
    "    # df의 독립변수와 종속변수 분리    \n",
    "    X = df.iloc[:,0:-1]\n",
    "    print('사용한 독립변수들 :\\n', X.columns)\n",
    "    y = df.iloc[:,-1]\n",
    "    print('종속변수 : ',y.name)\n",
    "    \n",
    "    # X,y의 학습데이터, 테스트데이터 분리\n",
    "    print('데이터 분리중...')\n",
    "    train_X, test_X, train_y, test_y = train_test_split(X,y,test_size=0.3)\n",
    "    \n",
    "    # 주성분 분석\n",
    "    print('주성분 분석중...')\n",
    "    pca = PCA(n_components=com)\n",
    "    train_X_pca = pca.fit_transform(train_X)\n",
    "    test_X_pca = pca.fit_transform(test_X)    \n",
    "    \n",
    "    # 모델학습\n",
    "    print('모델 학습중...')\n",
    "    model.fit(train_X_pca,train_y)\n",
    "    \n",
    "    #예측하기\n",
    "    print('모델 예측중...')\n",
    "    pred_train_y = model.predict(train_X_pca)\n",
    "    pred_test_y = model.predict(test_X_pca)\n",
    "    \n",
    "    # 훈련데이터 셋을 이용한 평가\n",
    "    print('---훈련데이터 셋을 이용한 평가---')\n",
    "    print('결정계수 r2 : ',r2_score(train_y, pred_train_y))\n",
    "    print('RMSE : ', math.sqrt(mean_squared_error(train_y, pred_train_y)))\n",
    "    print('MAE : ', mean_absolute_error(train_y, pred_train_y))\n",
    "    Rsquared = 1 - (1-model.score(train_X_pca,train_y))*(len(train_y)-1)/(len(train_y)-train_X_pca.shape[1]-1)\n",
    "    print('수정된 결정계수(R-squared)를 위한 summary :\\n',Rsquared) \n",
    "    \n",
    "    # 테스트데이터 셋을 이용한 평가\n",
    "    print('---테스트데이터 셋을 이용한 평가---')\n",
    "    print('종속변수 예측평균 : ',pred_test_y.mean())\n",
    "    print('종속변수 실제평균 : ',test_y.mean())\n",
    "    print('결정계수 r2 : ',r2_score(test_y,pred_test_y))\n",
    "    print('RMSE : ', math.sqrt(mean_squared_error(test_y, pred_test_y)))\n",
    "    print('MAE : ',mean_absolute_error(test_y, pred_test_y))\n",
    "    Rsquared = 1 - (1-model.score(test_X_pca,test_y))*(len(test_y)-1)/(len(test_y)-test_X_pca.shape[1]-1)\n",
    "    print('수정된 결정계수(R-squared)를 위한 summary :\\n',Rsquared)\n",
    "    \n",
    "    # 잔차의 정규성 확인\n",
    "    print('띄워진 그래프는 잔차의 정규성을 확이하기 위한 그래프임.')\n",
    "    fig= plt.figure()\n",
    "    plt.scatter(test_y,pred_test_y)\n",
    "    plt.xlabel(\"Target y\")\n",
    "    plt.ylabel(\"Predicted y\")\n",
    "    plt.title(\"Prediction vs. Actual\")\n",
    "    plt.show()\n",
    "    return True"
   ]
  },
  {
   "cell_type": "code",
   "execution_count": 7,
   "metadata": {},
   "outputs": [],
   "source": [
    "def modelscore(model,df):\n",
    "    # df의 독립변수와 종속변수 분리    \n",
    "    X = df.iloc[:,0:-1]\n",
    "    print('사용한 독립변수들 :\\n', X.columns)\n",
    "    y = df.iloc[:,-1]\n",
    "    print('종속변수 : ',y.name)\n",
    "    \n",
    "    # X,y의 학습데이터, 테스트데이터 분리\n",
    "    print('데이터 분리중...')\n",
    "    train_X, test_X, train_y, test_y = train_test_split(X,y,test_size=0.3)\n",
    "    \n",
    "    # 모델학습\n",
    "    print('모델 학습중...')\n",
    "    model.fit(train_X,train_y)\n",
    "    \n",
    "    #예측하기\n",
    "    print('모델 예측중...')\n",
    "    pred_train_y = model.predict(train_X)\n",
    "    pred_test_y = model.predict(test_X)\n",
    "    \n",
    "    # 훈련데이터 셋을 이용한 평가\n",
    "    print('---훈련데이터 셋을 이용한 평가---')\n",
    "    print('결정계수 r2 : ',r2_score(train_y, pred_train_y))\n",
    "    print('RMSE : ', math.sqrt(mean_squared_error(train_y, pred_train_y)))\n",
    "    print('MAE : ', mean_absolute_error(train_y, pred_train_y))\n",
    "    Rsquared = 1 - (1-model.score(train_X,train_y))*(len(train_y)-1)/(len(train_y)-train_X.shape[1]-1)\n",
    "    print('수정된 결정계수(R-squared)를 위한 summary :\\n',Rsquared) \n",
    "    \n",
    "    # 테스트데이터 셋을 이용한 평가\n",
    "    print('---테스트데이터 셋을 이용한 평가---')\n",
    "    print('종속변수 예측평균 : ',pred_test_y.mean())\n",
    "    print('종속변수 실제평균 : ',test_y.mean())\n",
    "    print('결정계수 r2 : ',r2_score(test_y,pred_test_y))\n",
    "    print('RMSE : ', math.sqrt(mean_squared_error(test_y, pred_test_y)))\n",
    "    print('MAE : ',mean_absolute_error(test_y, pred_test_y))\n",
    "    Rsquared = 1 - (1-model.score(test_X,test_y))*(len(test_y)-1)/(len(test_y)-test_X.shape[1]-1)\n",
    "    print('수정된 결정계수(R-squared)를 위한 summary :\\n',Rsquared)\n",
    "    \n",
    "    # 잔차의 정규성 확인\n",
    "    print('띄워진 그래프는 잔차의 정규성을 확이하기 위한 그래프임.')\n",
    "    fig= plt.figure()\n",
    "    plt.scatter(test_y,pred_test_y)\n",
    "    plt.xlabel(\"Target y\")\n",
    "    plt.ylabel(\"Predicted y\")\n",
    "    plt.title(\"Prediction vs. Actual\")\n",
    "    plt.show()\n",
    "    return True"
   ]
  },
  {
   "cell_type": "code",
   "execution_count": 34,
   "metadata": {},
   "outputs": [
    {
     "data": {
      "text/plain": [
       "<AxesSubplot:>"
      ]
     },
     "execution_count": 34,
     "metadata": {},
     "output_type": "execute_result"
    },
    {
     "data": {
      "image/png": "[encoded data removed]",
      "text/plain": [
       "<Figure size 1728x720 with 3 Axes>"
      ]
     },
     "metadata": {
      "needs_background": "light"
     },
     "output_type": "display_data"
    }
   ],
   "source": [
    "import missingno\n",
    "missingno.bar(data)"
   ]
  },
  {
   "cell_type": "code",
   "execution_count": 12,
   "metadata": {},
   "outputs": [],
   "source": [
    "from xgboost import XGBRegressor\n",
    "\n",
    "my_model = XGBRegressor() "
   ]
  },
  {
   "cell_type": "code",
   "execution_count": 15,
   "metadata": {},
   "outputs": [
    {
     "name": "stdout",
     "output_type": "stream",
     "text": [
      "사용한 독립변수들 :\n",
      " Index(['ONSPOT_DSTN', 'GOUT_FIRESTTN_NM', 'GOUT_SAFE_CENTER_NM', 'STATMNT_TM',\n",
      "       'EMRLF_EMD_NM', 'JURISD_DIV_NM_CNT', 'JURISD_DIV_NM_OUT'],\n",
      "      dtype='object')\n",
      "종속변수 :  MOVE_TM\n",
      "데이터 분리중...\n",
      "주성분 분석중...\n",
      "모델 학습중...\n",
      "모델 예측중...\n",
      "---훈련데이터 셋을 이용한 평가---\n",
      "결정계수 r2 :  0.37526763075445857\n",
      "RMSE :  2.6640346773304877\n",
      "MAE :  2.056834562523285\n",
      "수정된 결정계수(R-squared)를 위한 summary :\n",
      " 0.375266452894645\n",
      "---테스트데이터 셋을 이용한 평가---\n",
      "종속변수 예측평균 :  8.228003\n",
      "종속변수 실제평균 :  8.2087551448838\n",
      "결정계수 r2 :  0.34769166371669613\n",
      "RMSE :  2.7237260609047027\n",
      "MAE :  2.1104635909793945\n",
      "수정된 결정계수(R-squared)를 위한 summary :\n",
      " 0.3476887940558938\n",
      "띄워진 그래프는 잔차의 정규성을 확이하기 위한 그래프임.\n"
     ]
    },
    {
     "data": {
      "image/png": "[encoded data removed]",
      "text/plain": [
       "<Figure size 432x288 with 1 Axes>"
      ]
     },
     "metadata": {
      "needs_background": "light"
     },
     "output_type": "display_data"
    },
    {
     "data": {
      "text/plain": [
       "True"
      ]
     },
     "execution_count": 15,
     "metadata": {},
     "output_type": "execute_result"
    }
   ],
   "source": [
    "modelscore_PCA(my_model,data, com=5)"
   ]
  },
  {
   "cell_type": "code",
   "execution_count": 11,
   "metadata": {},
   "outputs": [],
   "source": [
    "from sklearn import ensemble\n",
    "\n",
    "RF_Model = ensemble.RandomForestRegressor(n_estimators=50,\n",
    "                    max_depth=None, max_features=4,\n",
    "                    oob_score=False, random_state=1)"
   ]
  },
  {
   "cell_type": "code",
   "execution_count": 12,
   "metadata": {
    "scrolled": true
   },
   "outputs": [
    {
     "name": "stdout",
     "output_type": "stream",
     "text": [
      "사용한 독립변수들 :\n",
      " Index(['ONSPOT_DSTN', 'GOUT_FIRESTTN_NM', 'GOUT_SAFE_CENTER_NM', 'STATMNT_TM',\n",
      "       'EMRLF_EMD_NM', 'JURISD_DIV_NM_CNT', 'JURISD_DIV_NM_OUT'],\n",
      "      dtype='object')\n",
      "종속변수 :  MOVE_TM\n",
      "데이터 분리중...\n",
      "주성분 분석중...\n",
      "모델 학습중...\n",
      "모델 예측중...\n",
      "---훈련데이터 셋을 이용한 평가---\n",
      "결정계수 r2 :  0.5293388289982914\n",
      "RMSE :  2.3126235419933323\n",
      "MAE :  1.732955506874281\n",
      "수정된 결정계수(R-squared)를 위한 summary :\n",
      " 0.5293379416217021\n",
      "---테스트데이터 셋을 이용한 평가---\n",
      "종속변수 예측평균 :  8.230457611536254\n",
      "종속변수 실제평균 :  8.211242461942378\n",
      "결정계수 r2 :  0.3687268194516454\n",
      "RMSE :  2.6786142986285024\n",
      "MAE :  2.061826513184591\n",
      "수정된 결정계수(R-squared)를 위한 summary :\n",
      " 0.3687240423295377\n",
      "띄워진 그래프는 잔차의 정규성을 확이하기 위한 그래프임.\n"
     ]
    },
    {
     "data": {
      "image/png": "[encoded data removed]",
      "text/plain": [
       "<Figure size 432x288 with 1 Axes>"
      ]
     },
     "metadata": {
      "needs_background": "light"
     },
     "output_type": "display_data"
    },
    {
     "data": {
      "text/plain": [
       "True"
      ]
     },
     "execution_count": 12,
     "metadata": {},
     "output_type": "execute_result"
    }
   ],
   "source": [
    "modelscore_PCA(RF_Model,data, com=5)"
   ]
  },
  {
   "cell_type": "code",
   "execution_count": 62,
   "metadata": {},
   "outputs": [
    {
     "data": {
      "text/html": [
       "<table class=\"simpletable\">\n",
       "<caption>OLS Regression Results</caption>\n",
       "<tr>\n",
       "  <th>Dep. Variable:</th>         <td>MOVE_TM</td>     <th>  R-squared:         </th>  <td>   0.270</td>  \n",
       "</tr>\n",
       "<tr>\n",
       "  <th>Model:</th>                   <td>OLS</td>       <th>  Adj. R-squared:    </th>  <td>   0.270</td>  \n",
       "</tr>\n",
       "<tr>\n",
       "  <th>Method:</th>             <td>Least Squares</td>  <th>  F-statistic:       </th>  <td>2.335e+05</td> \n",
       "</tr>\n",
       "<tr>\n",
       "  <th>Date:</th>             <td>Fri, 02 Apr 2021</td> <th>  Prob (F-statistic):</th>   <td>  0.00</td>   \n",
       "</tr>\n",
       "<tr>\n",
       "  <th>Time:</th>                 <td>15:14:21</td>     <th>  Log-Likelihood:    </th> <td>-9.3835e+06</td>\n",
       "</tr>\n",
       "<tr>\n",
       "  <th>No. Observations:</th>      <td>3788553</td>     <th>  AIC:               </th>  <td>1.877e+07</td> \n",
       "</tr>\n",
       "<tr>\n",
       "  <th>Df Residuals:</th>          <td>3788546</td>     <th>  BIC:               </th>  <td>1.877e+07</td> \n",
       "</tr>\n",
       "<tr>\n",
       "  <th>Df Model:</th>              <td>     6</td>      <th>                     </th>      <td> </td>     \n",
       "</tr>\n",
       "<tr>\n",
       "  <th>Covariance Type:</th>      <td>nonrobust</td>    <th>                     </th>      <td> </td>     \n",
       "</tr>\n",
       "</table>\n",
       "<table class=\"simpletable\">\n",
       "<tr>\n",
       "           <td></td>              <th>coef</th>     <th>std err</th>      <th>t</th>      <th>P>|t|</th>  <th>[0.025</th>    <th>0.975]</th>  \n",
       "</tr>\n",
       "<tr>\n",
       "  <th>const</th>               <td>    7.0492</td> <td>    0.007</td> <td>  944.843</td> <td> 0.000</td> <td>    7.035</td> <td>    7.064</td>\n",
       "</tr>\n",
       "<tr>\n",
       "  <th>ONSPOT_DSTN</th>         <td>    0.9939</td> <td>    0.001</td> <td> 1028.327</td> <td> 0.000</td> <td>    0.992</td> <td>    0.996</td>\n",
       "</tr>\n",
       "<tr>\n",
       "  <th>GOUT_FIRESTTN_NM</th>    <td>    0.0019</td> <td>    0.000</td> <td>   11.465</td> <td> 0.000</td> <td>    0.002</td> <td>    0.002</td>\n",
       "</tr>\n",
       "<tr>\n",
       "  <th>GOUT_SAFE_CENTER_NM</th> <td>   -0.0013</td> <td> 2.76e-05</td> <td>  -45.327</td> <td> 0.000</td> <td>   -0.001</td> <td>   -0.001</td>\n",
       "</tr>\n",
       "<tr>\n",
       "  <th>STATMNT_TM</th>          <td>    0.0005</td> <td>    0.000</td> <td>    2.227</td> <td> 0.026</td> <td> 5.87e-05</td> <td>    0.001</td>\n",
       "</tr>\n",
       "<tr>\n",
       "  <th>EMRLF_EMD_NM</th>        <td>   -0.0002</td> <td> 5.94e-06</td> <td>  -26.450</td> <td> 0.000</td> <td>   -0.000</td> <td>   -0.000</td>\n",
       "</tr>\n",
       "<tr>\n",
       "  <th>JURISD_DIV_NM_CNT</th>   <td>   -1.3466</td> <td>    0.005</td> <td> -292.665</td> <td> 0.000</td> <td>   -1.356</td> <td>   -1.338</td>\n",
       "</tr>\n",
       "</table>\n",
       "<table class=\"simpletable\">\n",
       "<tr>\n",
       "  <th>Omnibus:</th>       <td>256972.705</td> <th>  Durbin-Watson:     </th>  <td>   1.632</td> \n",
       "</tr>\n",
       "<tr>\n",
       "  <th>Prob(Omnibus):</th>   <td> 0.000</td>   <th>  Jarque-Bera (JB):  </th> <td>325330.714</td>\n",
       "</tr>\n",
       "<tr>\n",
       "  <th>Skew:</th>            <td> 0.640</td>   <th>  Prob(JB):          </th>  <td>    0.00</td> \n",
       "</tr>\n",
       "<tr>\n",
       "  <th>Kurtosis:</th>        <td> 3.651</td>   <th>  Cond. No.          </th>  <td>3.25e+03</td> \n",
       "</tr>\n",
       "</table><br/><br/>Notes:<br/>[1] Standard Errors assume that the covariance matrix of the errors is correctly specified.<br/>[2] The condition number is large, 3.25e+03. This might indicate that there are<br/>strong multicollinearity or other numerical problems."
      ],
      "text/plain": [
       "<class 'statsmodels.iolib.summary.Summary'>\n",
       "\"\"\"\n",
       "                            OLS Regression Results                            \n",
       "==============================================================================\n",
       "Dep. Variable:                MOVE_TM   R-squared:                       0.270\n",
       "Model:                            OLS   Adj. R-squared:                  0.270\n",
       "Method:                 Least Squares   F-statistic:                 2.335e+05\n",
       "Date:                Fri, 02 Apr 2021   Prob (F-statistic):               0.00\n",
       "Time:                        15:14:21   Log-Likelihood:            -9.3835e+06\n",
       "No. Observations:             3788553   AIC:                         1.877e+07\n",
       "Df Residuals:                 3788546   BIC:                         1.877e+07\n",
       "Df Model:                           6                                         \n",
       "Covariance Type:            nonrobust                                         \n",
       "=======================================================================================\n",
       "                          coef    std err          t      P>|t|      [0.025      0.975]\n",
       "---------------------------------------------------------------------------------------\n",
       "const                   7.0492      0.007    944.843      0.000       7.035       7.064\n",
       "ONSPOT_DSTN             0.9939      0.001   1028.327      0.000       0.992       0.996\n",
       "GOUT_FIRESTTN_NM        0.0019      0.000     11.465      0.000       0.002       0.002\n",
       "GOUT_SAFE_CENTER_NM    -0.0013   2.76e-05    -45.327      0.000      -0.001      -0.001\n",
       "STATMNT_TM              0.0005      0.000      2.227      0.026    5.87e-05       0.001\n",
       "EMRLF_EMD_NM           -0.0002   5.94e-06    -26.450      0.000      -0.000      -0.000\n",
       "JURISD_DIV_NM_CNT      -1.3466      0.005   -292.665      0.000      -1.356      -1.338\n",
       "==============================================================================\n",
       "Omnibus:                   256972.705   Durbin-Watson:                   1.632\n",
       "Prob(Omnibus):                  0.000   Jarque-Bera (JB):           325330.714\n",
       "Skew:                           0.640   Prob(JB):                         0.00\n",
       "Kurtosis:                       3.651   Cond. No.                     3.25e+03\n",
       "==============================================================================\n",
       "\n",
       "Notes:\n",
       "[1] Standard Errors assume that the covariance matrix of the errors is correctly specified.\n",
       "[2] The condition number is large, 3.25e+03. This might indicate that there are\n",
       "strong multicollinearity or other numerical problems.\n",
       "\"\"\""
      ]
     },
     "execution_count": 62,
     "metadata": {},
     "output_type": "execute_result"
    }
   ],
   "source": [
    "X = sm.add_constant(X)\n",
    "\n",
    "results = sm.OLS(y, X).fit()\n",
    "results.summary()"
   ]
  },
  {
   "cell_type": "code",
   "execution_count": 59,
   "metadata": {},
   "outputs": [
    {
     "name": "stdout",
     "output_type": "stream",
     "text": [
      "사용한 독립변수들 :\n",
      " Index(['ONSPOT_DSTN', 'GOUT_FIRESTTN_NM', 'GOUT_SAFE_CENTER_NM', 'STATMNT_TM',\n",
      "       'EMRLF_EMD_NM', 'JURISD_DIV_NM_CNT'],\n",
      "      dtype='object')\n",
      "종속변수 :  MOVE_TM\n",
      "데이터 분리중...\n"
     ]
    }
   ],
   "source": [
    "X = data.iloc[:,1:-2]\n",
    "print('사용한 독립변수들 :\\n', X.columns)\n",
    "y = data.iloc[:,-1]\n",
    "print('종속변수 : ',y.name)\n",
    "\n",
    "# X,y의 학습데이터, 테스트데이터 분리\n",
    "print('데이터 분리중...')\n",
    "train_X, test_X, train_y, test_y = train_test_split(X,y,test_size=0.3)"
   ]
  },
  {
   "cell_type": "code",
   "execution_count": 53,
   "metadata": {},
   "outputs": [],
   "source": [
    "results2 = sm.OLS.from_formula(\"MOVE_TM ~ GOUT_SAFE_CENTER_NM + ONSPOT_DSTN + EMRLF_EMD_NM\", data=data)"
   ]
  },
  {
   "cell_type": "code",
   "execution_count": 54,
   "metadata": {},
   "outputs": [
    {
     "data": {
      "text/html": [
       "<table class=\"simpletable\">\n",
       "<caption>OLS Regression Results</caption>\n",
       "<tr>\n",
       "  <th>Dep. Variable:</th>         <td>MOVE_TM</td>     <th>  R-squared:         </th>  <td>   0.253</td>  \n",
       "</tr>\n",
       "<tr>\n",
       "  <th>Model:</th>                   <td>OLS</td>       <th>  Adj. R-squared:    </th>  <td>   0.253</td>  \n",
       "</tr>\n",
       "<tr>\n",
       "  <th>Method:</th>             <td>Least Squares</td>  <th>  F-statistic:       </th>  <td>4.288e+05</td> \n",
       "</tr>\n",
       "<tr>\n",
       "  <th>Date:</th>             <td>Fri, 02 Apr 2021</td> <th>  Prob (F-statistic):</th>   <td>  0.00</td>   \n",
       "</tr>\n",
       "<tr>\n",
       "  <th>Time:</th>                 <td>14:56:40</td>     <th>  Log-Likelihood:    </th> <td>-9.4259e+06</td>\n",
       "</tr>\n",
       "<tr>\n",
       "  <th>No. Observations:</th>      <td>3788553</td>     <th>  AIC:               </th>  <td>1.885e+07</td> \n",
       "</tr>\n",
       "<tr>\n",
       "  <th>Df Residuals:</th>          <td>3788549</td>     <th>  BIC:               </th>  <td>1.885e+07</td> \n",
       "</tr>\n",
       "<tr>\n",
       "  <th>Df Model:</th>              <td>     3</td>      <th>                     </th>      <td> </td>     \n",
       "</tr>\n",
       "<tr>\n",
       "  <th>Covariance Type:</th>      <td>nonrobust</td>    <th>                     </th>      <td> </td>     \n",
       "</tr>\n",
       "</table>\n",
       "<table class=\"simpletable\">\n",
       "<tr>\n",
       "           <td></td>              <th>coef</th>     <th>std err</th>      <th>t</th>      <th>P>|t|</th>  <th>[0.025</th>    <th>0.975]</th>  \n",
       "</tr>\n",
       "<tr>\n",
       "  <th>Intercept</th>           <td>    5.7269</td> <td>    0.004</td> <td> 1281.797</td> <td> 0.000</td> <td>    5.718</td> <td>    5.736</td>\n",
       "</tr>\n",
       "<tr>\n",
       "  <th>GOUT_SAFE_CENTER_NM</th> <td>   -0.0013</td> <td> 2.79e-05</td> <td>  -47.129</td> <td> 0.000</td> <td>   -0.001</td> <td>   -0.001</td>\n",
       "</tr>\n",
       "<tr>\n",
       "  <th>ONSPOT_DSTN</th>         <td>    1.0651</td> <td>    0.001</td> <td> 1130.615</td> <td> 0.000</td> <td>    1.063</td> <td>    1.067</td>\n",
       "</tr>\n",
       "<tr>\n",
       "  <th>EMRLF_EMD_NM</th>        <td>   -0.0001</td> <td> 5.98e-06</td> <td>  -22.558</td> <td> 0.000</td> <td>   -0.000</td> <td>   -0.000</td>\n",
       "</tr>\n",
       "</table>\n",
       "<table class=\"simpletable\">\n",
       "<tr>\n",
       "  <th>Omnibus:</th>       <td>251930.050</td> <th>  Durbin-Watson:     </th>  <td>   1.611</td> \n",
       "</tr>\n",
       "<tr>\n",
       "  <th>Prob(Omnibus):</th>   <td> 0.000</td>   <th>  Jarque-Bera (JB):  </th> <td>314734.331</td>\n",
       "</tr>\n",
       "<tr>\n",
       "  <th>Skew:</th>            <td> 0.639</td>   <th>  Prob(JB):          </th>  <td>    0.00</td> \n",
       "</tr>\n",
       "<tr>\n",
       "  <th>Kurtosis:</th>        <td> 3.601</td>   <th>  Cond. No.          </th>  <td>1.78e+03</td> \n",
       "</tr>\n",
       "</table><br/><br/>Notes:<br/>[1] Standard Errors assume that the covariance matrix of the errors is correctly specified.<br/>[2] The condition number is large, 1.78e+03. This might indicate that there are<br/>strong multicollinearity or other numerical problems."
      ],
      "text/plain": [
       "<class 'statsmodels.iolib.summary.Summary'>\n",
       "\"\"\"\n",
       "                            OLS Regression Results                            \n",
       "==============================================================================\n",
       "Dep. Variable:                MOVE_TM   R-squared:                       0.253\n",
       "Model:                            OLS   Adj. R-squared:                  0.253\n",
       "Method:                 Least Squares   F-statistic:                 4.288e+05\n",
       "Date:                Fri, 02 Apr 2021   Prob (F-statistic):               0.00\n",
       "Time:                        14:56:40   Log-Likelihood:            -9.4259e+06\n",
       "No. Observations:             3788553   AIC:                         1.885e+07\n",
       "Df Residuals:                 3788549   BIC:                         1.885e+07\n",
       "Df Model:                           3                                         \n",
       "Covariance Type:            nonrobust                                         \n",
       "=======================================================================================\n",
       "                          coef    std err          t      P>|t|      [0.025      0.975]\n",
       "---------------------------------------------------------------------------------------\n",
       "Intercept               5.7269      0.004   1281.797      0.000       5.718       5.736\n",
       "GOUT_SAFE_CENTER_NM    -0.0013   2.79e-05    -47.129      0.000      -0.001      -0.001\n",
       "ONSPOT_DSTN             1.0651      0.001   1130.615      0.000       1.063       1.067\n",
       "EMRLF_EMD_NM           -0.0001   5.98e-06    -22.558      0.000      -0.000      -0.000\n",
       "==============================================================================\n",
       "Omnibus:                   251930.050   Durbin-Watson:                   1.611\n",
       "Prob(Omnibus):                  0.000   Jarque-Bera (JB):           314734.331\n",
       "Skew:                           0.639   Prob(JB):                         0.00\n",
       "Kurtosis:                       3.601   Cond. No.                     1.78e+03\n",
       "==============================================================================\n",
       "\n",
       "Notes:\n",
       "[1] Standard Errors assume that the covariance matrix of the errors is correctly specified.\n",
       "[2] The condition number is large, 1.78e+03. This might indicate that there are\n",
       "strong multicollinearity or other numerical problems.\n",
       "\"\"\""
      ]
     },
     "execution_count": 54,
     "metadata": {},
     "output_type": "execute_result"
    }
   ],
   "source": [
    "results2.fit().summary()"
   ]
  },
  {
   "cell_type": "code",
   "execution_count": 67,
   "metadata": {},
   "outputs": [
    {
     "name": "stdout",
     "output_type": "stream",
     "text": [
      "2651987 1136566\n",
      "MAE\n",
      "[2.0881163462126575, 2.066511614513516, 2.062207878256858, 2.060453600446211, 2.0595276909615206]\n"
     ]
    }
   ],
   "source": [
    "#랜덤 포레스트를 다양한 수준에서 돌려보고 \n",
    "#그 결과값을 각각의 MAE를 시각화 해볼 수 있도록\n",
    "\n",
    "X = data.iloc[:,1:-2].to_numpy()\n",
    "Y = data.iloc[:,-1].to_numpy()\n",
    "\n",
    "\n",
    "xTrain, xTest, yTrain, yTest = train_test_split(X, Y, test_size = 0.3, random_state = 531)\n",
    "\n",
    "print(len(xTrain), len(xTest))\n",
    "\n",
    "mseOos = []\n",
    "\n",
    "nTreeList = range(5, 50, 10)\n",
    "\n",
    "for iTrees in nTreeList:\n",
    "    depth = None\n",
    "    maxFeat = 4 #조정해볼 것\n",
    "    wineRFModel = ensemble.RandomForestRegressor(n_estimators=iTrees,\n",
    "                    max_depth=depth, max_features=maxFeat,\n",
    "                    oob_score=False, random_state=328)\n",
    "    wineRFModel.fit(xTrain, yTrain)\n",
    "    #데이터 세트에 대한 MSE 누적\n",
    "    prediction = wineRFModel.predict(xTest)\n",
    "    mseOos.append(mean_absolute_error(yTest, prediction))\n",
    "print(\"MAE\")\n",
    "print(mseOos)"
   ]
  },
  {
   "cell_type": "code",
   "execution_count": 68,
   "metadata": {},
   "outputs": [
    {
     "data": {
      "image/png": "[encoded data removed]",
      "text/plain": [
       "<Figure size 432x288 with 1 Axes>"
      ]
     },
     "metadata": {
      "needs_background": "light"
     },
     "output_type": "display_data"
    },
    {
     "ename": "NameError",
     "evalue": "name 'df_goni' is not defined",
     "output_type": "error",
     "traceback": [
      "\u001b[1;31m---------------------------------------------------------------------------\u001b[0m",
      "\u001b[1;31mNameError\u001b[0m                                 Traceback (most recent call last)",
      "\u001b[1;32m<ipython-input-68-79e0bfe6d89e>\u001b[0m in \u001b[0;36m<module>\u001b[1;34m\u001b[0m\n\u001b[0;32m     13\u001b[0m \u001b[0mbarPos\u001b[0m \u001b[1;33m=\u001b[0m \u001b[0mnp\u001b[0m\u001b[1;33m.\u001b[0m\u001b[0marange\u001b[0m\u001b[1;33m(\u001b[0m\u001b[0msorted_idx\u001b[0m\u001b[1;33m.\u001b[0m\u001b[0mshape\u001b[0m\u001b[1;33m[\u001b[0m\u001b[1;36m0\u001b[0m\u001b[1;33m]\u001b[0m\u001b[1;33m)\u001b[0m\u001b[1;33m+\u001b[0m\u001b[1;36m.5\u001b[0m\u001b[1;33m\u001b[0m\u001b[1;33m\u001b[0m\u001b[0m\n\u001b[0;32m     14\u001b[0m \u001b[0mplt\u001b[0m\u001b[1;33m.\u001b[0m\u001b[0mbarh\u001b[0m\u001b[1;33m(\u001b[0m\u001b[0mbarPos\u001b[0m\u001b[1;33m,\u001b[0m \u001b[0mfeatureImportance\u001b[0m\u001b[1;33m[\u001b[0m\u001b[0msorted_idx\u001b[0m\u001b[1;33m]\u001b[0m\u001b[1;33m,\u001b[0m \u001b[0malign\u001b[0m\u001b[1;33m=\u001b[0m\u001b[1;34m'center'\u001b[0m\u001b[1;33m)\u001b[0m\u001b[1;33m\u001b[0m\u001b[1;33m\u001b[0m\u001b[0m\n\u001b[1;32m---> 15\u001b[1;33m \u001b[0mplt\u001b[0m\u001b[1;33m.\u001b[0m\u001b[0myticks\u001b[0m\u001b[1;33m(\u001b[0m\u001b[0mbarPos\u001b[0m\u001b[1;33m,\u001b[0m \u001b[0mdf_goni\u001b[0m\u001b[1;33m.\u001b[0m\u001b[0mcolumns\u001b[0m\u001b[1;33m[\u001b[0m\u001b[0msorted_idx\u001b[0m\u001b[1;33m]\u001b[0m\u001b[1;33m)\u001b[0m\u001b[1;33m\u001b[0m\u001b[1;33m\u001b[0m\u001b[0m\n\u001b[0m\u001b[0;32m     16\u001b[0m \u001b[0mplt\u001b[0m\u001b[1;33m.\u001b[0m\u001b[0mxlabel\u001b[0m\u001b[1;33m(\u001b[0m\u001b[1;34m'Variable Importance'\u001b[0m\u001b[1;33m)\u001b[0m\u001b[1;33m\u001b[0m\u001b[1;33m\u001b[0m\u001b[0m\n\u001b[0;32m     17\u001b[0m \u001b[0mplt\u001b[0m\u001b[1;33m.\u001b[0m\u001b[0mshow\u001b[0m\u001b[1;33m(\u001b[0m\u001b[1;33m)\u001b[0m\u001b[1;33m\u001b[0m\u001b[1;33m\u001b[0m\u001b[0m\n",
      "\u001b[1;31mNameError\u001b[0m: name 'df_goni' is not defined"
     ]
    },
    {
     "data": {
      "image/png": "[encoded data removed]",
      "text/plain": [
       "<Figure size 432x288 with 1 Axes>"
      ]
     },
     "metadata": {
      "needs_background": "light"
     },
     "output_type": "display_data"
    }
   ],
   "source": [
    "plt.plot(nTreeList, mseOos)\n",
    "plt.xlabel('Number of Trees in Ensemble')\n",
    "plt.ylabel('Mean Absolute Error')\n",
    "#plot.ylim([0.0, 1.1*max(mseOob)])\n",
    "plt.show()\n",
    "\n",
    "#피처 중요도 도표 그리기\n",
    "featureImportance = wineRFModel.feature_importances_\n",
    "\n",
    "#가장 높은 중요도 기준으로 스케일링\n",
    "featureImportance = featureImportance/featureImportance.max()\n",
    "sorted_idx = np.argsort(featureImportance)\n",
    "barPos = np.arange(sorted_idx.shape[0])+.5\n",
    "plt.barh(barPos, featureImportance[sorted_idx], align='center')\n",
    "plt.yticks(barPos, df_goni.columns[sorted_idx])\n",
    "plt.xlabel('Variable Importance')\n",
    "plt.show()"
   ]
  },
  {
   "cell_type": "code",
   "execution_count": 9,
   "metadata": {},
   "outputs": [],
   "source": [
    "from sklearn.ensemble import AdaBoostRegressor\n",
    "\n",
    "ada_model = AdaBoostRegressor() "
   ]
  },
  {
   "cell_type": "code",
   "execution_count": 10,
   "metadata": {},
   "outputs": [
    {
     "name": "stdout",
     "output_type": "stream",
     "text": [
      "사용한 독립변수들 :\n",
      " Index(['ONSPOT_DSTN', 'GOUT_FIRESTTN_NM', 'GOUT_SAFE_CENTER_NM', 'STATMNT_TM',\n",
      "       'EMRLF_EMD_NM', 'JURISD_DIV_NM_CNT', 'JURISD_DIV_NM_OUT'],\n",
      "      dtype='object')\n",
      "종속변수 :  MOVE_TM\n",
      "데이터 분리중...\n",
      "모델 학습중...\n",
      "모델 예측중...\n",
      "---훈련데이터 셋을 이용한 평가---\n",
      "결정계수 r2 :  0.21895136641027058\n",
      "RMSE :  2.979565928009277\n",
      "MAE :  2.430428245300494\n",
      "수정된 결정계수(R-squared)를 위한 summary :\n",
      " 0.21894930480252972\n",
      "---테스트데이터 셋을 이용한 평가---\n",
      "종속변수 예측평균 :  8.983426263959771\n",
      "종속변수 실제평균 :  8.204791450738453\n",
      "결정계수 r2 :  0.21837901579611685\n",
      "RMSE :  2.979563363770438\n",
      "MAE :  2.429628181426612\n",
      "수정된 결정계수(R-squared)를 위한 summary :\n",
      " 0.21837420183423428\n",
      "띄워진 그래프는 잔차의 정규성을 확이하기 위한 그래프임.\n"
     ]
    },
    {
     "data": {
      "image/png": "[encoded data removed]",
      "text/plain": [
       "<Figure size 432x288 with 1 Axes>"
      ]
     },
     "metadata": {
      "needs_background": "light"
     },
     "output_type": "display_data"
    },
    {
     "data": {
      "text/plain": [
       "True"
      ]
     },
     "execution_count": 10,
     "metadata": {},
     "output_type": "execute_result"
    }
   ],
   "source": [
    "modelscore(ada_model,data)"
   ]
  }
 ],
 "metadata": {
  "kernelspec": {
   "display_name": "Python 3",
   "language": "python",
   "name": "python3"
  },
  "language_info": {
   "codemirror_mode": {
    "name": "ipython",
    "version": 3
   },
   "file_extension": ".py",
   "mimetype": "text/x-python",
   "name": "python",
   "nbconvert_exporter": "python",
   "pygments_lexer": "ipython3",
   "version": "3.8.5"
  },
  "toc": {
   "base_numbering": 1,
   "nav_menu": {},
   "number_sections": true,
   "sideBar": true,
   "skip_h1_title": false,
   "title_cell": "Table of Contents",
   "title_sidebar": "Contents",
   "toc_cell": false,
   "toc_position": {},
   "toc_section_display": true,
   "toc_window_display": false
  }
 },
 "nbformat": 4,
 "nbformat_minor": 4
}
