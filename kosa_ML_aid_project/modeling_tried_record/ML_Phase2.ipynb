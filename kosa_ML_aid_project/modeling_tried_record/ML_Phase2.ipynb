{
 "cells": [
  {
   "cell_type": "code",
   "execution_count": 1,
   "metadata": {},
   "outputs": [],
   "source": [
    "import pandas as pd\n",
    "from sklearn.preprocessing import LabelEncoder\n",
    "import missingno"
   ]
  },
  {
   "cell_type": "code",
   "execution_count": 2,
   "metadata": {},
   "outputs": [
    {
     "name": "stderr",
     "output_type": "stream",
     "text": [
      "C:\\Users\\Goni L\\anaconda3\\lib\\site-packages\\IPython\\core\\interactiveshell.py:3146: DtypeWarning: Columns (39) have mixed types.Specify dtype option on import or set low_memory=False.\n",
      "  has_raised = await self.run_ast_nodes(code_ast.body, cell_name,\n"
     ]
    }
   ],
   "source": [
    "aid1 = pd.read_csv('aidall1(u8s,eng,all,mt).csv')"
   ]
  },
  {
   "cell_type": "code",
   "execution_count": 3,
   "metadata": {},
   "outputs": [],
   "source": [
    "aid2 = pd.read_csv('aidall2(u8s,eng,all,mt).csv', low_memory=False)"
   ]
  },
  {
   "cell_type": "code",
   "execution_count": 4,
   "metadata": {},
   "outputs": [
    {
     "name": "stderr",
     "output_type": "stream",
     "text": [
      "C:\\Users\\Goni L\\anaconda3\\lib\\site-packages\\IPython\\core\\interactiveshell.py:3146: DtypeWarning: Columns (1,25,28) have mixed types.Specify dtype option on import or set low_memory=False.\n",
      "  has_raised = await self.run_ast_nodes(code_ast.body, cell_name,\n"
     ]
    }
   ],
   "source": [
    "aid3 = pd.read_csv('aidall3(u8s,eng,all,mt).csv')"
   ]
  },
  {
   "cell_type": "code",
   "execution_count": 5,
   "metadata": {},
   "outputs": [
    {
     "name": "stderr",
     "output_type": "stream",
     "text": [
      "C:\\Users\\Goni L\\anaconda3\\lib\\site-packages\\IPython\\core\\interactiveshell.py:3146: DtypeWarning: Columns (34) have mixed types.Specify dtype option on import or set low_memory=False.\n",
      "  has_raised = await self.run_ast_nodes(code_ast.body, cell_name,\n"
     ]
    }
   ],
   "source": [
    "aid4 = pd.read_csv('aidall4(u8s,eng,all,mt).csv')"
   ]
  },
  {
   "cell_type": "code",
   "execution_count": 6,
   "metadata": {},
   "outputs": [],
   "source": [
    "aid5 = pd.read_csv('aidall5(u8s,eng,all,mt).csv')"
   ]
  },
  {
   "cell_type": "code",
   "execution_count": 7,
   "metadata": {},
   "outputs": [
    {
     "data": {
      "text/html": [
       "<div>\n",
       "<style scoped>\n",
       "    .dataframe tbody tr th:only-of-type {\n",
       "        vertical-align: middle;\n",
       "    }\n",
       "\n",
       "    .dataframe tbody tr th {\n",
       "        vertical-align: top;\n",
       "    }\n",
       "\n",
       "    .dataframe thead th {\n",
       "        text-align: right;\n",
       "    }\n",
       "</style>\n",
       "<table border=\"1\" class=\"dataframe\">\n",
       "  <thead>\n",
       "    <tr style=\"text-align: right;\">\n",
       "      <th></th>\n",
       "      <th>SUM_YY</th>\n",
       "      <th>SIGUN_NM</th>\n",
       "      <th>GOUT_FIRESTTN_NM</th>\n",
       "      <th>GOUT_SAFE_CENTER_NM</th>\n",
       "      <th>STATMNT_YMD</th>\n",
       "      <th>STATMNT_TM</th>\n",
       "      <th>RECEPT_COURS</th>\n",
       "      <th>JURISD_DIV_NM</th>\n",
       "      <th>GOUT_YMD</th>\n",
       "      <th>GOUT_TM</th>\n",
       "      <th>...</th>\n",
       "      <th>ACC_CAT3</th>\n",
       "      <th>RELIF_ACDNT_ASORTMT_UP_NM</th>\n",
       "      <th>RELIF_ACDNT_ASORTMT_LOW_NM</th>\n",
       "      <th>PATNT_OCCUR_TYPE</th>\n",
       "      <th>CONSCS_STATE_TYPE</th>\n",
       "      <th>AMBLNCWKR_QUALFCTN_RATG</th>\n",
       "      <th>AMBLNCWKR_RATG</th>\n",
       "      <th>RELIF_SECTCHEF_QUALFCTN_RATG</th>\n",
       "      <th>TROUBLE</th>\n",
       "      <th>MOVE_TM</th>\n",
       "    </tr>\n",
       "  </thead>\n",
       "  <tbody>\n",
       "    <tr>\n",
       "      <th>1204075</th>\n",
       "      <td>2015</td>\n",
       "      <td>구리시</td>\n",
       "      <td>구리소방서</td>\n",
       "      <td>인창119안전센터</td>\n",
       "      <td>2015-12-31</td>\n",
       "      <td>22:09</td>\n",
       "      <td>일반전화</td>\n",
       "      <td>센터</td>\n",
       "      <td>NaN</td>\n",
       "      <td>NaN</td>\n",
       "      <td>...</td>\n",
       "      <td>NaN</td>\n",
       "      <td>NaN</td>\n",
       "      <td>NaN</td>\n",
       "      <td>NaN</td>\n",
       "      <td>A(Alert)</td>\n",
       "      <td>응급구조사(1급)</td>\n",
       "      <td>NaN</td>\n",
       "      <td>NaN</td>\n",
       "      <td>NaN</td>\n",
       "      <td>3.0</td>\n",
       "    </tr>\n",
       "    <tr>\n",
       "      <th>1204076</th>\n",
       "      <td>2015</td>\n",
       "      <td>구리시</td>\n",
       "      <td>구리소방서</td>\n",
       "      <td>인창119안전센터</td>\n",
       "      <td>2015-12-31</td>\n",
       "      <td>22:54</td>\n",
       "      <td>휴대전화</td>\n",
       "      <td>센터</td>\n",
       "      <td>NaN</td>\n",
       "      <td>NaN</td>\n",
       "      <td>...</td>\n",
       "      <td>낙상</td>\n",
       "      <td>NaN</td>\n",
       "      <td>NaN</td>\n",
       "      <td>NaN</td>\n",
       "      <td>A(Alert)</td>\n",
       "      <td>응급구조사(1급)</td>\n",
       "      <td>NaN</td>\n",
       "      <td>NaN</td>\n",
       "      <td>NaN</td>\n",
       "      <td>4.0</td>\n",
       "    </tr>\n",
       "    <tr>\n",
       "      <th>1204077</th>\n",
       "      <td>2015</td>\n",
       "      <td>포천시</td>\n",
       "      <td>포천소방서</td>\n",
       "      <td>영북119안전센터</td>\n",
       "      <td>2015-12-31</td>\n",
       "      <td>1:50</td>\n",
       "      <td>휴대전화</td>\n",
       "      <td>센터</td>\n",
       "      <td>NaN</td>\n",
       "      <td>NaN</td>\n",
       "      <td>...</td>\n",
       "      <td>NaN</td>\n",
       "      <td>NaN</td>\n",
       "      <td>NaN</td>\n",
       "      <td>NaN</td>\n",
       "      <td>A(Alert)</td>\n",
       "      <td>응급구조사(1급)</td>\n",
       "      <td>NaN</td>\n",
       "      <td>NaN</td>\n",
       "      <td>기타(구급),원거리 병원,장거리이송</td>\n",
       "      <td>10.0</td>\n",
       "    </tr>\n",
       "    <tr>\n",
       "      <th>1204078</th>\n",
       "      <td>2015</td>\n",
       "      <td>포천시</td>\n",
       "      <td>포천소방서</td>\n",
       "      <td>일동119안전센터</td>\n",
       "      <td>2015-12-31</td>\n",
       "      <td>9:18</td>\n",
       "      <td>휴대전화</td>\n",
       "      <td>센터</td>\n",
       "      <td>NaN</td>\n",
       "      <td>NaN</td>\n",
       "      <td>...</td>\n",
       "      <td>NaN</td>\n",
       "      <td>NaN</td>\n",
       "      <td>NaN</td>\n",
       "      <td>NaN</td>\n",
       "      <td>A(Alert)</td>\n",
       "      <td>응급구조사(1급)</td>\n",
       "      <td>NaN</td>\n",
       "      <td>NaN</td>\n",
       "      <td>NaN</td>\n",
       "      <td>8.0</td>\n",
       "    </tr>\n",
       "    <tr>\n",
       "      <th>1204079</th>\n",
       "      <td>2015</td>\n",
       "      <td>포천시</td>\n",
       "      <td>포천소방서</td>\n",
       "      <td>일동119안전센터</td>\n",
       "      <td>2015-12-31</td>\n",
       "      <td>19:49</td>\n",
       "      <td>휴대전화</td>\n",
       "      <td>센터</td>\n",
       "      <td>NaN</td>\n",
       "      <td>NaN</td>\n",
       "      <td>...</td>\n",
       "      <td>동승자</td>\n",
       "      <td>NaN</td>\n",
       "      <td>NaN</td>\n",
       "      <td>NaN</td>\n",
       "      <td>A(Alert)</td>\n",
       "      <td>응급구조사(1급)</td>\n",
       "      <td>NaN</td>\n",
       "      <td>NaN</td>\n",
       "      <td>NaN</td>\n",
       "      <td>14.0</td>\n",
       "    </tr>\n",
       "  </tbody>\n",
       "</table>\n",
       "<p>5 rows × 41 columns</p>\n",
       "</div>"
      ],
      "text/plain": [
       "         SUM_YY SIGUN_NM GOUT_FIRESTTN_NM GOUT_SAFE_CENTER_NM STATMNT_YMD  \\\n",
       "1204075    2015      구리시            구리소방서           인창119안전센터  2015-12-31   \n",
       "1204076    2015      구리시            구리소방서           인창119안전센터  2015-12-31   \n",
       "1204077    2015      포천시            포천소방서           영북119안전센터  2015-12-31   \n",
       "1204078    2015      포천시            포천소방서           일동119안전센터  2015-12-31   \n",
       "1204079    2015      포천시            포천소방서           일동119안전센터  2015-12-31   \n",
       "\n",
       "        STATMNT_TM RECEPT_COURS JURISD_DIV_NM  GOUT_YMD  GOUT_TM  ...  \\\n",
       "1204075      22:09         일반전화            센터       NaN      NaN  ...   \n",
       "1204076      22:54         휴대전화            센터       NaN      NaN  ...   \n",
       "1204077       1:50         휴대전화            센터       NaN      NaN  ...   \n",
       "1204078       9:18         휴대전화            센터       NaN      NaN  ...   \n",
       "1204079      19:49         휴대전화            센터       NaN      NaN  ...   \n",
       "\n",
       "         ACC_CAT3 RELIF_ACDNT_ASORTMT_UP_NM  RELIF_ACDNT_ASORTMT_LOW_NM  \\\n",
       "1204075       NaN                       NaN                         NaN   \n",
       "1204076        낙상                       NaN                         NaN   \n",
       "1204077       NaN                       NaN                         NaN   \n",
       "1204078       NaN                       NaN                         NaN   \n",
       "1204079       동승자                       NaN                         NaN   \n",
       "\n",
       "         PATNT_OCCUR_TYPE  CONSCS_STATE_TYPE AMBLNCWKR_QUALFCTN_RATG  \\\n",
       "1204075               NaN           A(Alert)               응급구조사(1급)   \n",
       "1204076               NaN           A(Alert)               응급구조사(1급)   \n",
       "1204077               NaN           A(Alert)               응급구조사(1급)   \n",
       "1204078               NaN           A(Alert)               응급구조사(1급)   \n",
       "1204079               NaN           A(Alert)               응급구조사(1급)   \n",
       "\n",
       "        AMBLNCWKR_RATG  RELIF_SECTCHEF_QUALFCTN_RATG              TROUBLE  \\\n",
       "1204075            NaN                           NaN                  NaN   \n",
       "1204076            NaN                           NaN                  NaN   \n",
       "1204077            NaN                           NaN  기타(구급),원거리 병원,장거리이송   \n",
       "1204078            NaN                           NaN                  NaN   \n",
       "1204079            NaN                           NaN                  NaN   \n",
       "\n",
       "        MOVE_TM  \n",
       "1204075     3.0  \n",
       "1204076     4.0  \n",
       "1204077    10.0  \n",
       "1204078     8.0  \n",
       "1204079    14.0  \n",
       "\n",
       "[5 rows x 41 columns]"
      ]
     },
     "execution_count": 7,
     "metadata": {},
     "output_type": "execute_result"
    }
   ],
   "source": [
    "aid2.tail()"
   ]
  },
  {
   "cell_type": "code",
   "execution_count": 8,
   "metadata": {},
   "outputs": [],
   "source": [
    "def setaidall():\n",
    "    aid_all_total = pd.DataFrame(columns=['SUM_YY', 'SIGUN_NM', 'GOUT_FIRESTTN_NM', 'GOUT_SAFE_CENTER_NM',\n",
    "       'STATMNT_YMD', 'STATMNT_TM', 'RECEPT_COURS', 'JURISD_DIV_NM',\n",
    "       'GOUT_YMD', 'GOUT_TM', 'ONSPOT_ARVL_YMD', 'ONSPOT_ARVL_TM',\n",
    "       'ONSPOT_DSTN', 'ONSPOT_DSTN_AOT1', 'ONSPOT_DSTN_AOT2', 'HOMING_YMD',\n",
    "       'HOMING_TM', 'PATNT_AGE', 'PATNT_SEX_DIV_NM', 'EMRLF_SIDO_NM',\n",
    "       'EMRLF_SIGNGU_NM', 'EMRLF_EMD_NM', 'EMRLF_LI_NM', 'FRGNR_YN',\n",
    "       'NATNLTY_NM', 'PATNT_JOB', 'RELIF_OCCURPLC_TYPE', 'PATNT_SYMPTMS_TYPE',\n",
    "       'PATNT_SYMPTMS_TYPE2', 'ACC_CAT1', 'ACC_CAT2', 'ACC_CAT3',\n",
    "       'RELIF_ACDNT_ASORTMT_UP_NM', 'RELIF_ACDNT_ASORTMT_LOW_NM',\n",
    "       'PATNT_OCCUR_TYPE', 'CONSCS_STATE_TYPE', 'AMBLNCWKR_QUALFCTN_RATG',\n",
    "       'AMBLNCWKR_RATG', 'RELIF_SECTCHEF_QUALFCTN_RATG', 'TROUBLE'])\n",
    "    for i in range(1,6):\n",
    "        title = \"aidall\"+str(i)+\"(u8s,eng,all,mt).csv\"\n",
    "        data = pd.read_csv(title,encoding='utf-8-sig')\n",
    "        aid_all_total = pd.concat([aid_all_total,data],axis=0)\n",
    "    aid_all_total.reset_index(drop=True,inplace=True)\n",
    "    aid_all_total.reset_index(drop=False,inplace=True)\n",
    "    aid_all_total.rename(columns ={'index':'PK'},inplace=True)\n",
    "    return aid_all_total"
   ]
  },
  {
   "cell_type": "code",
   "execution_count": 9,
   "metadata": {},
   "outputs": [
    {
     "name": "stderr",
     "output_type": "stream",
     "text": [
      "C:\\Users\\Goni L\\anaconda3\\lib\\site-packages\\IPython\\core\\interactiveshell.py:3338: DtypeWarning: Columns (39) have mixed types.Specify dtype option on import or set low_memory=False.\n",
      "  if (await self.run_code(code, result,  async_=asy)):\n",
      "C:\\Users\\Goni L\\anaconda3\\lib\\site-packages\\IPython\\core\\interactiveshell.py:3338: DtypeWarning: Columns (24) have mixed types.Specify dtype option on import or set low_memory=False.\n",
      "  if (await self.run_code(code, result,  async_=asy)):\n",
      "C:\\Users\\Goni L\\anaconda3\\lib\\site-packages\\IPython\\core\\interactiveshell.py:3338: DtypeWarning: Columns (1,25,28) have mixed types.Specify dtype option on import or set low_memory=False.\n",
      "  if (await self.run_code(code, result,  async_=asy)):\n",
      "C:\\Users\\Goni L\\anaconda3\\lib\\site-packages\\IPython\\core\\interactiveshell.py:3338: DtypeWarning: Columns (34) have mixed types.Specify dtype option on import or set low_memory=False.\n",
      "  if (await self.run_code(code, result,  async_=asy)):\n"
     ]
    }
   ],
   "source": [
    "aid_all_total = setaidall()"
   ]
  },
  {
   "cell_type": "code",
   "execution_count": 10,
   "metadata": {},
   "outputs": [],
   "source": [
    "#열 제거\n",
    "\n",
    "aid_deleted = aid_all_total.drop(['SUM_YY', 'SIGUN_NM','STATMNT_YMD', 'STATMNT_TM', 'RECEPT_COURS', 'JURISD_DIV_NM',\n",
    "       'GOUT_YMD', 'GOUT_TM', 'ONSPOT_ARVL_YMD', 'ONSPOT_ARVL_TM',\n",
    "       'ONSPOT_DSTN', 'ONSPOT_DSTN_AOT1', 'ONSPOT_DSTN_AOT2', 'HOMING_YMD',\n",
    "       'HOMING_TM', 'PATNT_AGE', 'PATNT_SEX_DIV_NM', 'EMRLF_SIDO_NM',\n",
    "       'EMRLF_SIGNGU_NM', 'EMRLF_EMD_NM', 'EMRLF_LI_NM', 'FRGNR_YN',\n",
    "       'NATNLTY_NM', 'PATNT_JOB', 'RELIF_OCCURPLC_TYPE', 'PATNT_SYMPTMS_TYPE',\n",
    "       'PATNT_SYMPTMS_TYPE2', 'ACC_CAT1', 'ACC_CAT2', 'ACC_CAT3',\n",
    "       'RELIF_ACDNT_ASORTMT_UP_NM', 'RELIF_ACDNT_ASORTMT_LOW_NM',\n",
    "       'PATNT_OCCUR_TYPE', 'CONSCS_STATE_TYPE', 'AMBLNCWKR_QUALFCTN_RATG',\n",
    "       'AMBLNCWKR_RATG', 'RELIF_SECTCHEF_QUALFCTN_RATG', 'TROUBLE', 'MOVE_TM'], axis=1)"
   ]
  },
  {
   "cell_type": "code",
   "execution_count": 11,
   "metadata": {},
   "outputs": [
    {
     "data": {
      "text/plain": [
       "PK                     4388118\n",
       "GOUT_FIRESTTN_NM       4388118\n",
       "GOUT_SAFE_CENTER_NM    4388118\n",
       "dtype: int64"
      ]
     },
     "execution_count": 11,
     "metadata": {},
     "output_type": "execute_result"
    }
   ],
   "source": [
    "# '안전센터'만 포함한 애들로 추리기\n",
    "mask = aid_deleted.GOUT_SAFE_CENTER_NM.str.contains(\"안전센터\")\n",
    "df_safeonly = aid_deleted[mask]\n",
    "df_safeonly.count()"
   ]
  },
  {
   "cell_type": "code",
   "execution_count": 13,
   "metadata": {},
   "outputs": [],
   "source": [
    "df1 = df_safeonly.copy()\n",
    "df2 = df_safeonly.copy()"
   ]
  },
  {
   "cell_type": "code",
   "execution_count": null,
   "metadata": {},
   "outputs": [],
   "source": [
    "# fire_list = [\"송탄\", \"하남\", \"부천\", \"과천\", \"의정부\", \"일산\", \"양주\"]\n",
    "# safe_list = [\"신장\", \"중앙\", \"백석\"]\n",
    "\n",
    "# df = pd.DataFrame()\n",
    "\n",
    "# for row in fire_list:    \n",
    "#     for dam in safe_list:\n",
    "#         cond1 = aid_deleted.GOUT_FIRESTTN_NM.str.contains(row)\n",
    "#         cond2 = aid_deleted.GOUT_SAFE_CENTER_NM.str.contains(dam)\n",
    "#         for i in range(len(fire_list)*len(safe_list)):\n",
    "#             df_i = aid_deleted[(cond1) & (cond2)]\n",
    "#             df = pd.concat([df,df_i], axis=1)\n",
    "    \n",
    "\n",
    "    \n",
    "#aid_deleted[(cond1) & (cond2)]['GOUT_SAFE_CENTER_NM'] = \"송탄신장119안전센터\"\n",
    "\n",
    "# df1 = aid_deleted[(cond1) & (cond2)]\n",
    "# df1[\"GOUT_SAFE_CENTER_NM\"] = \"송탄신장119안전센터\""
   ]
  },
  {
   "cell_type": "code",
   "execution_count": null,
   "metadata": {},
   "outputs": [],
   "source": [
    "fire_list = [\"송탄\", \"하남\", \"부천\", \"과천\", \"의정\", \"일산\", \"양주\"]\n",
    "safe_list = [\"신장\", \"중앙\", \"백석\"]\n",
    "\n",
    "\n",
    "\n",
    "def revise(GOUT_FIRESTTN_NM, GOUT_SAFE_CENTER_NM):\n",
    "    if (GOUT_FIRESTTN_NM[0:1] in fire_list) & (GOUT_SAFE_CENTER_NM[0:1] in safe_list) :\n",
    "        return GOUT_FIRESTTN_NM[0:1] + GOUT_SAFE_CENTER_NM[0:1]+\"119안전센터\"\n",
    "    \n",
    "    \n",
    "df['GOUT_SAFE_CENTER_NM'] = df['GOUT_SAFE_CENTER_NM'].apply(lambda x : revise(x['GOUT_FIRESTTN_NM'],x['GOUT_SAFE_CENTER_NM']))"
   ]
  },
  {
   "cell_type": "code",
   "execution_count": 69,
   "metadata": {},
   "outputs": [],
   "source": [
    "cond1 = df_safeonly.GOUT_FIRESTTN_NM.str.contains(\"송탄\")\n",
    "cond2 = df_safeonly.GOUT_SAFE_CENTER_NM.str.contains(\"신장\")\n",
    "\n",
    "dfname = df_safeonly.copy()[(cond1) & (cond2)]"
   ]
  },
  {
   "cell_type": "code",
   "execution_count": 70,
   "metadata": {},
   "outputs": [],
   "source": [
    "dfname['GOUT_SAFE_CENTER_NM'] = \"송탄신장119안전센터\""
   ]
  },
  {
   "cell_type": "code",
   "execution_count": 71,
   "metadata": {},
   "outputs": [],
   "source": [
    "cond1 = df_safeonly.GOUT_FIRESTTN_NM.str.contains(\"하남\")\n",
    "cond2 = df_safeonly.GOUT_SAFE_CENTER_NM.str.contains(\"신장\")\n",
    "\n",
    "dfname2 = df_safeonly.copy()[(cond1) & (cond2)]"
   ]
  },
  {
   "cell_type": "code",
   "execution_count": 72,
   "metadata": {},
   "outputs": [],
   "source": [
    "cond1 = df_safeonly.GOUT_FIRESTTN_NM.str.contains(\"부천\")\n",
    "cond2 = df_safeonly.GOUT_SAFE_CENTER_NM.str.contains(\"중앙\")\n",
    "\n",
    "dfname3 = df_safeonly.copy()[(cond1) & (cond2)]"
   ]
  },
  {
   "cell_type": "code",
   "execution_count": 73,
   "metadata": {},
   "outputs": [],
   "source": [
    "cond1 = df_safeonly.GOUT_FIRESTTN_NM.str.contains(\"과천\")\n",
    "cond2 = df_safeonly.GOUT_SAFE_CENTER_NM.str.contains(\"중앙\")\n",
    "\n",
    "dfname4 = df_safeonly.copy()[(cond1) & (cond2)]"
   ]
  },
  {
   "cell_type": "code",
   "execution_count": 74,
   "metadata": {},
   "outputs": [],
   "source": [
    "cond1 = df_safeonly.GOUT_FIRESTTN_NM.str.contains(\"의정부\")\n",
    "cond2 = df_safeonly.GOUT_SAFE_CENTER_NM.str.contains(\"중앙\")\n",
    "\n",
    "dfname5 = df_safeonly.copy()[(cond1) & (cond2)]"
   ]
  },
  {
   "cell_type": "code",
   "execution_count": 75,
   "metadata": {},
   "outputs": [],
   "source": [
    "cond1 = df_safeonly.GOUT_FIRESTTN_NM.str.contains(\"일산\")\n",
    "cond2 = df_safeonly.GOUT_SAFE_CENTER_NM.str.contains(\"백석\")\n",
    "\n",
    "dfname6 = df_safeonly.copy()[(cond1) & (cond2)]"
   ]
  },
  {
   "cell_type": "code",
   "execution_count": 76,
   "metadata": {},
   "outputs": [],
   "source": [
    "cond1 = df_safeonly.GOUT_FIRESTTN_NM.str.contains(\"양주\")\n",
    "cond2 = df_safeonly.GOUT_SAFE_CENTER_NM.str.contains(\"백석\")\n",
    "\n",
    "dfname7 = df_safeonly.copy()[(cond1) & (cond2)]"
   ]
  },
  {
   "cell_type": "code",
   "execution_count": 77,
   "metadata": {},
   "outputs": [],
   "source": [
    "dfname['GOUT_SAFE_CENTER_NM'] = \"송탄신장119안전센터\"`\n",
    "dfname2['GOUT_SAFE_CENTER_NM'] = \"하남신장119안전센터\"\n",
    "dfname3['GOUT_SAFE_CENTER_NM'] = \"부천중앙119안전센터\"\n",
    "dfname4['GOUT_SAFE_CENTER_NM'] = \"과천중앙119안전센터\"\n",
    "dfname5['GOUT_SAFE_CENTER_NM'] = \"의정부중앙119안전센터\"\n",
    "dfname6['GOUT_SAFE_CENTER_NM'] = \"일산백석119안전센터\"\n",
    "dfname7['GOUT_SAFE_CENTER_NM'] = \"양주백석119안전센터\""
   ]
  },
  {
   "cell_type": "markdown",
   "metadata": {},
   "source": [
    "\n"
   ]
  },
  {
   "cell_type": "code",
   "execution_count": 83,
   "metadata": {},
   "outputs": [],
   "source": [
    "df_done = pd.concat([dfname,dfname2,dfname3,dfname4,dfname5,dfname6,dfname7], axis=0, ignore_index=True)"
   ]
  },
  {
   "cell_type": "code",
   "execution_count": 85,
   "metadata": {},
   "outputs": [
    {
     "data": {
      "text/html": [
       "<div>\n",
       "<style scoped>\n",
       "    .dataframe tbody tr th:only-of-type {\n",
       "        vertical-align: middle;\n",
       "    }\n",
       "\n",
       "    .dataframe tbody tr th {\n",
       "        vertical-align: top;\n",
       "    }\n",
       "\n",
       "    .dataframe thead th {\n",
       "        text-align: right;\n",
       "    }\n",
       "</style>\n",
       "<table border=\"1\" class=\"dataframe\">\n",
       "  <thead>\n",
       "    <tr style=\"text-align: right;\">\n",
       "      <th></th>\n",
       "      <th>PK</th>\n",
       "      <th>GOUT_FIRESTTN_NM</th>\n",
       "      <th>GOUT_SAFE_CENTER_NM</th>\n",
       "    </tr>\n",
       "  </thead>\n",
       "  <tbody>\n",
       "    <tr>\n",
       "      <th>0</th>\n",
       "      <td>308</td>\n",
       "      <td>송탄소방서</td>\n",
       "      <td>송탄신장119안전센터</td>\n",
       "    </tr>\n",
       "    <tr>\n",
       "      <th>1</th>\n",
       "      <td>309</td>\n",
       "      <td>송탄소방서</td>\n",
       "      <td>송탄신장119안전센터</td>\n",
       "    </tr>\n",
       "    <tr>\n",
       "      <th>2</th>\n",
       "      <td>310</td>\n",
       "      <td>송탄소방서</td>\n",
       "      <td>송탄신장119안전센터</td>\n",
       "    </tr>\n",
       "    <tr>\n",
       "      <th>3</th>\n",
       "      <td>435</td>\n",
       "      <td>송탄소방서</td>\n",
       "      <td>송탄신장119안전센터</td>\n",
       "    </tr>\n",
       "    <tr>\n",
       "      <th>4</th>\n",
       "      <td>1173</td>\n",
       "      <td>송탄소방서</td>\n",
       "      <td>송탄신장119안전센터</td>\n",
       "    </tr>\n",
       "    <tr>\n",
       "      <th>...</th>\n",
       "      <td>...</td>\n",
       "      <td>...</td>\n",
       "      <td>...</td>\n",
       "    </tr>\n",
       "    <tr>\n",
       "      <th>219999</th>\n",
       "      <td>5009278</td>\n",
       "      <td>양주소방서</td>\n",
       "      <td>양주백석119안전센터</td>\n",
       "    </tr>\n",
       "    <tr>\n",
       "      <th>220000</th>\n",
       "      <td>5009279</td>\n",
       "      <td>양주소방서</td>\n",
       "      <td>양주백석119안전센터</td>\n",
       "    </tr>\n",
       "    <tr>\n",
       "      <th>220001</th>\n",
       "      <td>5009280</td>\n",
       "      <td>양주소방서</td>\n",
       "      <td>양주백석119안전센터</td>\n",
       "    </tr>\n",
       "    <tr>\n",
       "      <th>220002</th>\n",
       "      <td>5010084</td>\n",
       "      <td>양주소방서</td>\n",
       "      <td>양주백석119안전센터</td>\n",
       "    </tr>\n",
       "    <tr>\n",
       "      <th>220003</th>\n",
       "      <td>5010085</td>\n",
       "      <td>양주소방서</td>\n",
       "      <td>양주백석119안전센터</td>\n",
       "    </tr>\n",
       "  </tbody>\n",
       "</table>\n",
       "<p>220004 rows × 3 columns</p>\n",
       "</div>"
      ],
      "text/plain": [
       "             PK GOUT_FIRESTTN_NM GOUT_SAFE_CENTER_NM\n",
       "0           308            송탄소방서         송탄신장119안전센터\n",
       "1           309            송탄소방서         송탄신장119안전센터\n",
       "2           310            송탄소방서         송탄신장119안전센터\n",
       "3           435            송탄소방서         송탄신장119안전센터\n",
       "4          1173            송탄소방서         송탄신장119안전센터\n",
       "...         ...              ...                 ...\n",
       "219999  5009278            양주소방서         양주백석119안전센터\n",
       "220000  5009279            양주소방서         양주백석119안전센터\n",
       "220001  5009280            양주소방서         양주백석119안전센터\n",
       "220002  5010084            양주소방서         양주백석119안전센터\n",
       "220003  5010085            양주소방서         양주백석119안전센터\n",
       "\n",
       "[220004 rows x 3 columns]"
      ]
     },
     "execution_count": 85,
     "metadata": {},
     "output_type": "execute_result"
    }
   ],
   "source": [
    "df_done"
   ]
  },
  {
   "cell_type": "code",
   "execution_count": 90,
   "metadata": {},
   "outputs": [
    {
     "data": {
      "text/html": [
       "<div>\n",
       "<style scoped>\n",
       "    .dataframe tbody tr th:only-of-type {\n",
       "        vertical-align: middle;\n",
       "    }\n",
       "\n",
       "    .dataframe tbody tr th {\n",
       "        vertical-align: top;\n",
       "    }\n",
       "\n",
       "    .dataframe thead th {\n",
       "        text-align: right;\n",
       "    }\n",
       "</style>\n",
       "<table border=\"1\" class=\"dataframe\">\n",
       "  <thead>\n",
       "    <tr style=\"text-align: right;\">\n",
       "      <th></th>\n",
       "      <th>PK</th>\n",
       "      <th>GOUT_FIRESTTN_NM</th>\n",
       "      <th>GOUT_SAFE_CENTER_NM</th>\n",
       "    </tr>\n",
       "  </thead>\n",
       "  <tbody>\n",
       "    <tr>\n",
       "      <th>0</th>\n",
       "      <td>0</td>\n",
       "      <td>수원소방서</td>\n",
       "      <td>지만119안전센터</td>\n",
       "    </tr>\n",
       "    <tr>\n",
       "      <th>1</th>\n",
       "      <td>1</td>\n",
       "      <td>수원소방서</td>\n",
       "      <td>지만119안전센터</td>\n",
       "    </tr>\n",
       "    <tr>\n",
       "      <th>2</th>\n",
       "      <td>2</td>\n",
       "      <td>수원소방서</td>\n",
       "      <td>이의119안전센터</td>\n",
       "    </tr>\n",
       "    <tr>\n",
       "      <th>3</th>\n",
       "      <td>3</td>\n",
       "      <td>수원소방서</td>\n",
       "      <td>이의119안전센터</td>\n",
       "    </tr>\n",
       "    <tr>\n",
       "      <th>4</th>\n",
       "      <td>4</td>\n",
       "      <td>수원소방서</td>\n",
       "      <td>이의119안전센터</td>\n",
       "    </tr>\n",
       "    <tr>\n",
       "      <th>...</th>\n",
       "      <td>...</td>\n",
       "      <td>...</td>\n",
       "      <td>...</td>\n",
       "    </tr>\n",
       "    <tr>\n",
       "      <th>5011585</th>\n",
       "      <td>5011585</td>\n",
       "      <td>김포소방서</td>\n",
       "      <td>마산119안전센터</td>\n",
       "    </tr>\n",
       "    <tr>\n",
       "      <th>5011586</th>\n",
       "      <td>5011586</td>\n",
       "      <td>김포소방서</td>\n",
       "      <td>마산119안전센터</td>\n",
       "    </tr>\n",
       "    <tr>\n",
       "      <th>5011587</th>\n",
       "      <td>5011587</td>\n",
       "      <td>김포소방서</td>\n",
       "      <td>마산119안전센터</td>\n",
       "    </tr>\n",
       "    <tr>\n",
       "      <th>5011588</th>\n",
       "      <td>5011588</td>\n",
       "      <td>김포소방서</td>\n",
       "      <td>마산119안전센터</td>\n",
       "    </tr>\n",
       "    <tr>\n",
       "      <th>5011589</th>\n",
       "      <td>5011589</td>\n",
       "      <td>김포소방서</td>\n",
       "      <td>마산119안전센터</td>\n",
       "    </tr>\n",
       "  </tbody>\n",
       "</table>\n",
       "<p>4140985 rows × 3 columns</p>\n",
       "</div>"
      ],
      "text/plain": [
       "              PK GOUT_FIRESTTN_NM GOUT_SAFE_CENTER_NM\n",
       "0              0            수원소방서           지만119안전센터\n",
       "1              1            수원소방서           지만119안전센터\n",
       "2              2            수원소방서           이의119안전센터\n",
       "3              3            수원소방서           이의119안전센터\n",
       "4              4            수원소방서           이의119안전센터\n",
       "...          ...              ...                 ...\n",
       "5011585  5011585            김포소방서           마산119안전센터\n",
       "5011586  5011586            김포소방서           마산119안전센터\n",
       "5011587  5011587            김포소방서           마산119안전센터\n",
       "5011588  5011588            김포소방서           마산119안전센터\n",
       "5011589  5011589            김포소방서           마산119안전센터\n",
       "\n",
       "[4140985 rows x 3 columns]"
      ]
     },
     "execution_count": 90,
     "metadata": {},
     "output_type": "execute_result"
    }
   ],
   "source": [
    "# country 컬럼을 선택합니다.\n",
    "# 컬럼의 값에 Korea 또는(|) Japan이라는 문자열이 포함되어있는지 판단합니다.\n",
    "# 그 결과를 새로운 변수에 할당합니다.\n",
    "contains_ = df_safeonly['GOUT_SAFE_CENTER_NM'].str.contains(\"백석|신장|중앙\")\n",
    "\n",
    "# 조건를 충족하는 데이터를 필터링하여 새로운 변수에 저장합니다.\n",
    "subset_df = df_safeonly[~contains_]\n",
    "\n",
    "\n",
    "subset_df"
   ]
  },
  {
   "cell_type": "code",
   "execution_count": 104,
   "metadata": {},
   "outputs": [],
   "source": [
    "df_concatdone = pd.concat([df_done,subset_df],axis=0)"
   ]
  },
  {
   "cell_type": "code",
   "execution_count": 93,
   "metadata": {},
   "outputs": [],
   "source": [
    "df_concatdone.to_csv(\"aid(center_udt).csv\", encoding=\"utf-8-sig\", index=False)"
   ]
  },
  {
   "cell_type": "code",
   "execution_count": null,
   "metadata": {},
   "outputs": [],
   "source": []
  },
  {
   "cell_type": "code",
   "execution_count": 106,
   "metadata": {},
   "outputs": [
    {
     "data": {
      "text/plain": [
       "LabelEncoder()"
      ]
     },
     "execution_count": 106,
     "metadata": {},
     "output_type": "execute_result"
    }
   ],
   "source": [
    "safe = LabelEncoder() #안전센터\n",
    "safe.fit(df_concatdone.GOUT_SAFE_CENTER_NM)\n",
    "\n",
    "fire = LabelEncoder() # 소방서\n",
    "fire.fit(df_concatdone.GOUT_FIRESTTN_NM) "
   ]
  },
  {
   "cell_type": "code",
   "execution_count": null,
   "metadata": {},
   "outputs": [],
   "source": []
  },
  {
   "cell_type": "code",
   "execution_count": 107,
   "metadata": {},
   "outputs": [],
   "source": [
    "# 안전센터, 소방서 레이블 인코딩\n",
    "safe_encoded = safe.transform(df_concatdone.GOUT_SAFE_CENTER_NM)\n",
    "fire_encoded = fire.transform(df_concatdone.GOUT_FIRESTTN_NM)\n",
    "\n",
    "# # 기존 데이터 셋 인코딩 완료값으로 변경\n",
    "# df_safeonly.GOUT_SAFE_CENTER_NM = safe_encoded\n",
    "# df_safeonly.GOUT_FIRESTTN_NM = fire_encoded"
   ]
  },
  {
   "cell_type": "code",
   "execution_count": 108,
   "metadata": {},
   "outputs": [],
   "source": [
    "# 기존 데이터 셋 인코딩 완료값으로 변경\n",
    "df_concatdone[\"SAFE_ENCODED\"] = safe_encoded\n",
    "df_concatdone[\"FIRE_ENCODED\"] = fire_encoded"
   ]
  },
  {
   "cell_type": "code",
   "execution_count": 114,
   "metadata": {},
   "outputs": [
    {
     "data": {
      "text/html": [
       "<div>\n",
       "<style scoped>\n",
       "    .dataframe tbody tr th:only-of-type {\n",
       "        vertical-align: middle;\n",
       "    }\n",
       "\n",
       "    .dataframe tbody tr th {\n",
       "        vertical-align: top;\n",
       "    }\n",
       "\n",
       "    .dataframe thead th {\n",
       "        text-align: right;\n",
       "    }\n",
       "</style>\n",
       "<table border=\"1\" class=\"dataframe\">\n",
       "  <thead>\n",
       "    <tr style=\"text-align: right;\">\n",
       "      <th></th>\n",
       "      <th>PK</th>\n",
       "      <th>GOUT_FIRESTTN_NM</th>\n",
       "      <th>GOUT_SAFE_CENTER_NM</th>\n",
       "      <th>SAFE_ENCODED</th>\n",
       "      <th>FIRE_ENCODED</th>\n",
       "    </tr>\n",
       "  </thead>\n",
       "  <tbody>\n",
       "    <tr>\n",
       "      <th>0</th>\n",
       "      <td>308</td>\n",
       "      <td>송탄소방서</td>\n",
       "      <td>송탄신장119안전센터</td>\n",
       "      <td>105</td>\n",
       "      <td>13</td>\n",
       "    </tr>\n",
       "    <tr>\n",
       "      <th>45894</th>\n",
       "      <td>627</td>\n",
       "      <td>하남소방서</td>\n",
       "      <td>하남신장119안전센터</td>\n",
       "      <td>198</td>\n",
       "      <td>33</td>\n",
       "    </tr>\n",
       "    <tr>\n",
       "      <th>81302</th>\n",
       "      <td>208</td>\n",
       "      <td>부천소방서</td>\n",
       "      <td>부천중앙119안전센터</td>\n",
       "      <td>77</td>\n",
       "      <td>10</td>\n",
       "    </tr>\n",
       "    <tr>\n",
       "      <th>126652</th>\n",
       "      <td>26</td>\n",
       "      <td>과천소방서</td>\n",
       "      <td>과천중앙119안전센터</td>\n",
       "      <td>19</td>\n",
       "      <td>2</td>\n",
       "    </tr>\n",
       "    <tr>\n",
       "      <th>131598</th>\n",
       "      <td>730941</td>\n",
       "      <td>의정부소방서</td>\n",
       "      <td>의정부중앙119안전센터</td>\n",
       "      <td>154</td>\n",
       "      <td>27</td>\n",
       "    </tr>\n",
       "  </tbody>\n",
       "</table>\n",
       "</div>"
      ],
      "text/plain": [
       "            PK GOUT_FIRESTTN_NM GOUT_SAFE_CENTER_NM  SAFE_ENCODED  \\\n",
       "0          308            송탄소방서         송탄신장119안전센터           105   \n",
       "45894      627            하남소방서         하남신장119안전센터           198   \n",
       "81302      208            부천소방서         부천중앙119안전센터            77   \n",
       "126652      26            과천소방서         과천중앙119안전센터            19   \n",
       "131598  730941           의정부소방서        의정부중앙119안전센터           154   \n",
       "\n",
       "        FIRE_ENCODED  \n",
       "0                 13  \n",
       "45894             33  \n",
       "81302             10  \n",
       "126652             2  \n",
       "131598            27  "
      ]
     },
     "execution_count": 114,
     "metadata": {},
     "output_type": "execute_result"
    }
   ],
   "source": [
    "df_distinct.head()"
   ]
  },
  {
   "cell_type": "code",
   "execution_count": 112,
   "metadata": {},
   "outputs": [],
   "source": [
    "df_distinct = df_concatdone.drop_duplicates(subset=[\"GOUT_SAFE_CENTER_NM\",\"GOUT_FIRESTTN_NM\"], keep='first', inplace=False, ignore_index=False)"
   ]
  },
  {
   "cell_type": "code",
   "execution_count": 113,
   "metadata": {},
   "outputs": [],
   "source": [
    "df_distinct.to_csv(\"aid(safe,fire)_dbcheck.csv\", index = False, encoding=\"utf-8-sig\")"
   ]
  },
  {
   "cell_type": "code",
   "execution_count": null,
   "metadata": {},
   "outputs": [],
   "source": [
    "df_safeonly.count()"
   ]
  },
  {
   "cell_type": "code",
   "execution_count": 100,
   "metadata": {},
   "outputs": [],
   "source": [
    "# 기존 데이터 셋 인코딩 완료값으로 변경\n",
    "df_concatdone.GOUT_SAFE_CENTER_NM = safe_encoded\n",
    "df_concatdone.GOUT_FIRESTTN_NM = fire_encoded"
   ]
  },
  {
   "cell_type": "code",
   "execution_count": 101,
   "metadata": {},
   "outputs": [],
   "source": [
    "df_concatdone = df_concatdone.iloc[:,0:3]"
   ]
  },
  {
   "cell_type": "code",
   "execution_count": null,
   "metadata": {},
   "outputs": [],
   "source": []
  },
  {
   "cell_type": "code",
   "execution_count": 103,
   "metadata": {},
   "outputs": [],
   "source": [
    "# 파일로 저장\n",
    "df_concatdone.to_csv(\"aid(cent,fire_label).csv\", encoding=\"utf-8-sig\", index=False)"
   ]
  },
  {
   "cell_type": "code",
   "execution_count": null,
   "metadata": {},
   "outputs": [],
   "source": [
    "df_safeonly.info()"
   ]
  },
  {
   "cell_type": "code",
   "execution_count": null,
   "metadata": {},
   "outputs": [],
   "source": [
    "#최종파일 합치기\n",
    "\n",
    "df_sso = pd.read_csv(\"aid(pk,conscs).csv\", encoding=\"utf-8-sig\")\n",
    "df_PSB1 = pd.read_csv(\"aid(pk,mt)03291241.csv\", encoding=\"utf-8-sig\")\n",
    "df_ddoong = pd.read_csv(\"dong.csv\", encoding=\"utf-8-sig\")\n",
    "df_goni = pd.read_csv(\"aid(pk,fire,safe)_1228.csv\", encoding=\"utf-8-sig\")\n",
    "df_lee = pd.read_csv(\"aidall(statmnt_tm).csv\", encoding=\"utf-8-sig\")"
   ]
  },
  {
   "cell_type": "code",
   "execution_count": null,
   "metadata": {},
   "outputs": [],
   "source": [
    "df_final = pd.merge(df_goni, df_PSB1, how='left', on='PK')"
   ]
  },
  {
   "cell_type": "code",
   "execution_count": null,
   "metadata": {},
   "outputs": [],
   "source": [
    "df_final = pd.merge(df_final, df_ddoong, how='left', on='PK')"
   ]
  },
  {
   "cell_type": "code",
   "execution_count": null,
   "metadata": {},
   "outputs": [],
   "source": [
    "df_final = pd.merge(df_final, df_sso, how='left', on='PK')"
   ]
  },
  {
   "cell_type": "code",
   "execution_count": null,
   "metadata": {},
   "outputs": [],
   "source": [
    "df_final = pd.merge(df_final, df_lee, how='left', on='PK')"
   ]
  },
  {
   "cell_type": "code",
   "execution_count": null,
   "metadata": {},
   "outputs": [],
   "source": [
    "df_lee2 = pd.read_csv(\"aidall(RELIF_OCCURPLC_TYPE).csv\", encoding=\"utf-8-sig\")\n",
    "df_final = pd.merge(df_final, df_lee2, how='left', on='PK')"
   ]
  },
  {
   "cell_type": "code",
   "execution_count": null,
   "metadata": {},
   "outputs": [],
   "source": [
    "df_PSB2 = pd.read_csv(\"aid(pk,od)03291533.csv\", encoding=\"utf-8-sig\")\n",
    "df_final = pd.merge(df_final, df_PSB2, how='left', on='PK')"
   ]
  },
  {
   "cell_type": "code",
   "execution_count": null,
   "metadata": {},
   "outputs": [],
   "source": [
    "df_final.drop(\"MOVE_TM\", axis=1, inplace=True)"
   ]
  },
  {
   "cell_type": "code",
   "execution_count": null,
   "metadata": {},
   "outputs": [],
   "source": [
    "df_PSB3 = pd.read_csv(\"aid(pk,mt)03291921.csv\", encoding=\"utf-8-sig\")\n",
    "df_final = pd.merge(df_final, df_PSB3, how='left', on='PK')"
   ]
  },
  {
   "cell_type": "code",
   "execution_count": null,
   "metadata": {},
   "outputs": [],
   "source": [
    "df_final"
   ]
  },
  {
   "cell_type": "code",
   "execution_count": null,
   "metadata": {},
   "outputs": [],
   "source": [
    "aid4 = pd.read_csv('aidall4(u8s,eng,all,mt).csv')\n",
    "df_final.to_csv(\"aid_prep_real.csv\", encoding=\"utf-8-sig\", index = False)"
   ]
  },
  {
   "cell_type": "code",
   "execution_count": null,
   "metadata": {},
   "outputs": [],
   "source": [
    "df_goni = pd.read_csv(\"aid_prep_real.csv\", encoding='utf-8-sig')"
   ]
  },
  {
   "cell_type": "code",
   "execution_count": null,
   "metadata": {},
   "outputs": [],
   "source": [
    "# 결측치 제거 실시\n",
    "\n",
    "df_goni.dropna(subset=['MOVE_TM','RELIF_OCCURPLC_TYPE','EMRLF_EMD_NM','ONSPOT_DSTN'], inplace=True)"
   ]
  },
  {
   "cell_type": "markdown",
   "metadata": {},
   "source": [
    "## 데이터 전처리"
   ]
  },
  {
   "cell_type": "markdown",
   "metadata": {},
   "source": [
    "## 표준화 실시"
   ]
  },
  {
   "cell_type": "code",
   "execution_count": null,
   "metadata": {},
   "outputs": [],
   "source": [
    "# 전처리 위한 독립변수 모음\n",
    "\n",
    "df_X = df_goni.loc[:,\"ONSPOT_DSTN\"]"
   ]
  },
  {
   "cell_type": "code",
   "execution_count": null,
   "metadata": {},
   "outputs": [],
   "source": [
    "from sklearn.preprocessing import minmax_scale\n",
    "df_goni_scaled = minmax_scale(df_X)"
   ]
  },
  {
   "cell_type": "code",
   "execution_count": null,
   "metadata": {},
   "outputs": [],
   "source": [
    "df_goni_scaled"
   ]
  },
  {
   "cell_type": "code",
   "execution_count": null,
   "metadata": {},
   "outputs": [],
   "source": [
    "df_goni_scaled.shape"
   ]
  },
  {
   "cell_type": "code",
   "execution_count": null,
   "metadata": {},
   "outputs": [],
   "source": [
    "df_goni2 = df_goni.copy()"
   ]
  },
  {
   "cell_type": "code",
   "execution_count": null,
   "metadata": {},
   "outputs": [],
   "source": [
    "df_goni2[\"ONSPOT_DSTN\"] = df_goni_scaled"
   ]
  },
  {
   "cell_type": "code",
   "execution_count": null,
   "metadata": {},
   "outputs": [],
   "source": [
    "df_goni2"
   ]
  },
  {
   "cell_type": "code",
   "execution_count": null,
   "metadata": {},
   "outputs": [],
   "source": []
  },
  {
   "cell_type": "code",
   "execution_count": null,
   "metadata": {},
   "outputs": [],
   "source": [
    "#5분 이내 데이터 확인\n",
    "\n",
    "df_goni5 = df_goni2[df_goni2.loc[:,\"MOVE_TM\"] <= 5]"
   ]
  },
  {
   "cell_type": "code",
   "execution_count": null,
   "metadata": {},
   "outputs": [],
   "source": [
    "df_goni5"
   ]
  },
  {
   "cell_type": "markdown",
   "metadata": {},
   "source": [
    "## 다중회귀분석 도전"
   ]
  },
  {
   "cell_type": "code",
   "execution_count": null,
   "metadata": {},
   "outputs": [],
   "source": [
    "# df_goni데이터 프레임의 다변화 시도"
   ]
  },
  {
   "cell_type": "code",
   "execution_count": null,
   "metadata": {},
   "outputs": [],
   "source": [
    "# df_goni데이터 프레임의 다변화 시도"
   ]
  },
  {
   "cell_type": "code",
   "execution_count": null,
   "metadata": {},
   "outputs": [],
   "source": [
    "# 훈련용 데이터셋 분할\n",
    "\n",
    "from sklearn.model_selection import train_test_split\n",
    "\n",
    "x = df_goni5[['GOUT_FIRESTTN_NM','GOUT_SAFE_CENTER_NM',\n",
    "             'ONSPOT_DSTN','EMRLF_EMD_NM','CONSCS_STATE_TYPE',\n",
    "             'STATMNT_TM','RELIF_OCCURPLC_TYPE']]\n",
    "y = df_goni5['MOVE_TM']"
   ]
  },
  {
   "cell_type": "code",
   "execution_count": null,
   "metadata": {},
   "outputs": [],
   "source": [
    "# Train set 분할\n",
    "train_x, test_x, train_y, test_y = train_test_split(x, y, test_size=0.3)"
   ]
  },
  {
   "cell_type": "code",
   "execution_count": null,
   "metadata": {},
   "outputs": [],
   "source": [
    "# 선형회귀분석\n",
    "\n",
    "from sklearn.linear_model import LinearRegression\n",
    "model_goni = LinearRegression()\n",
    "model_goni.fit(train_x, train_y)"
   ]
  },
  {
   "cell_type": "code",
   "execution_count": null,
   "metadata": {},
   "outputs": [],
   "source": [
    "# y값 평균\n",
    "\n",
    "df_goni5[\"MOVE_TM\"].mean()"
   ]
  },
  {
   "cell_type": "code",
   "execution_count": null,
   "metadata": {},
   "outputs": [],
   "source": [
    "# mean_squared_error\n",
    "# MSE 출력하기\n",
    "import math \n",
    "from sklearn.metrics import mean_squared_error\n",
    "\n",
    "math.sqrt(mean_squared_error(train_y, model_goni.predict(train_x)))"
   ]
  },
  {
   "cell_type": "code",
   "execution_count": null,
   "metadata": {},
   "outputs": [],
   "source": [
    "# MAE Error\n",
    "\n",
    "from sklearn.metrics import mean_absolute_error\n",
    "mean_absolute_error(test_y,y_pred)"
   ]
  },
  {
   "cell_type": "code",
   "execution_count": null,
   "metadata": {},
   "outputs": [],
   "source": [
    "# 예측모델\n",
    "\n",
    "y_pred = model_goni.predict(test_x)\n",
    "y_pred"
   ]
  },
  {
   "cell_type": "code",
   "execution_count": null,
   "metadata": {},
   "outputs": [],
   "source": [
    "# RMSE 모델 \n",
    "\n",
    "rmse_test = math.sqrt(mean_squared_error(test_y, y_pred))\n",
    "rmse_test"
   ]
  },
  {
   "cell_type": "code",
   "execution_count": null,
   "metadata": {},
   "outputs": [],
   "source": [
    "# R2_score\n",
    "\n",
    "from sklearn.metrics import r2_score\n",
    "r2_score(test_y,y_pred)"
   ]
  },
  {
   "cell_type": "code",
   "execution_count": null,
   "metadata": {},
   "outputs": [],
   "source": [
    "# OLS 클래스 (포뮬러 활용)\n",
    "# 일단 참고용\n",
    "# 단순회귀식\n",
    "\n",
    "from statsmodels.formula.api import ols\n",
    "model = ols(\"MOVE_TM ~ ONSPOT_DSTN\", data=df_goni5)\n",
    "result = model.fit()\n",
    "result.params"
   ]
  },
  {
   "cell_type": "markdown",
   "metadata": {},
   "source": [
    "## 다중회귀식 추정방법"
   ]
  },
  {
   "cell_type": "code",
   "execution_count": null,
   "metadata": {},
   "outputs": [],
   "source": [
    "import statsmodels.api as sm\n",
    "import statsmodels.formula.api as smf\n",
    "\n",
    "formula = \"MOVE_TM~\" + \"+\".join(df_goni5.iloc[:,1:-1].columns)\n",
    "model_ols_goni = smf.ols(formula = formula, data=df_goni5).fit()"
   ]
  },
  {
   "cell_type": "code",
   "execution_count": null,
   "metadata": {},
   "outputs": [],
   "source": [
    "model_ols_goni.summary()"
   ]
  },
  {
   "cell_type": "code",
   "execution_count": null,
   "metadata": {},
   "outputs": [],
   "source": [
    "# 종속변수가 소요시간인 다른 모델\n",
    "# 독립변수 2개\n",
    "\n",
    "formula = \"MOVE_TM~ + ONSPOT_DSTN + STATMNT_TM\"\n",
    "model_goni2 = smf.ols(formula = formula, data=df_goni).fit()"
   ]
  },
  {
   "cell_type": "markdown",
   "metadata": {},
   "source": [
    "## 회귀분석의 검증요소들"
   ]
  },
  {
   "cell_type": "markdown",
   "metadata": {},
   "source": [
    "### 잔차의 독립성 240p"
   ]
  },
  {
   "cell_type": "code",
   "execution_count": null,
   "metadata": {},
   "outputs": [],
   "source": [
    "y_pred = model_goni2.predict(df_goni5)"
   ]
  },
  {
   "cell_type": "code",
   "execution_count": null,
   "metadata": {},
   "outputs": [],
   "source": [
    "# 잔차의 정규성을 보기 위한 그래프 그리기 241p\n",
    "\n",
    "import matplotlib.pyplot as plt\n",
    "\n",
    "fig = plt.figure()\n",
    "plt.scatter(df_goni5.iloc[:,-1], y_pred)\n",
    "plt.xlabel(\"Target y\")\n",
    "plt.ylabel(\"Predicted y\")\n",
    "plt.title(\"Prediction vs. Actual\")\n",
    "plt.show()"
   ]
  },
  {
   "cell_type": "code",
   "execution_count": null,
   "metadata": {},
   "outputs": [],
   "source": [
    "#예측값을 활용해서 그린 그래프 \n",
    "# 정규 p-p도표 대각선을 중심으로 균일하게 분포되어있어야..함... 242P\n",
    "\n",
    "from scipy import stats\n",
    "fig = plt.figure()\n",
    "res = stats.probplot(y_pred, plot=plt)\n",
    "plt.title(\"Probability plot\")\n",
    "plt.show()"
   ]
  },
  {
   "cell_type": "markdown",
   "metadata": {},
   "source": [
    "### 이상치 탐색 "
   ]
  },
  {
   "cell_type": "code",
   "execution_count": null,
   "metadata": {},
   "outputs": [],
   "source": [
    "influence = model_goni2.get_influence()"
   ]
  },
  {
   "cell_type": "code",
   "execution_count": null,
   "metadata": {},
   "outputs": [],
   "source": [
    "leverage = influence.hat_matrix_diag\n",
    "leverage"
   ]
  },
  {
   "cell_type": "code",
   "execution_count": null,
   "metadata": {},
   "outputs": [],
   "source": [
    "inf_df = influence.summary_frame()\n",
    "inf_df.head()"
   ]
  },
  {
   "cell_type": "code",
   "execution_count": null,
   "metadata": {},
   "outputs": [],
   "source": [
    "inf_df.standard_resid"
   ]
  },
  {
   "cell_type": "markdown",
   "metadata": {},
   "source": [
    "### 다중공선성 분석"
   ]
  },
  {
   "cell_type": "code",
   "execution_count": null,
   "metadata": {},
   "outputs": [],
   "source": [
    "formula = \"MOVE_TM~\" + \"+\".join(df_goni.iloc[:,1:-1].columns)"
   ]
  },
  {
   "cell_type": "code",
   "execution_count": null,
   "metadata": {},
   "outputs": [],
   "source": [
    "from patsy import dmatrices\n",
    "y, X = dmatrices(formula, df_goni5, return_type=\"dataframe\")"
   ]
  },
  {
   "cell_type": "code",
   "execution_count": null,
   "metadata": {},
   "outputs": [],
   "source": [
    "vif = pd.DataFrame()"
   ]
  },
  {
   "cell_type": "code",
   "execution_count": null,
   "metadata": {},
   "outputs": [],
   "source": [
    "from statsmodels.stats.outliers_influence import variance_inflation_factor\n",
    "vif[\"VIF Factor\"] = [variance_inflation_factor(X.values, i)\n",
    "                    for i in range(X.shape[1])]\n",
    "vif[\"features\"] = X.columns\n",
    "vif.sort_values(by=\"VIF Factor\", ascending=False)"
   ]
  },
  {
   "cell_type": "code",
   "execution_count": null,
   "metadata": {},
   "outputs": [],
   "source": [
    "# 다중 공선성 분석 위한 함수 만들기\n",
    "\n",
    "def get_vif(formula, df):\n",
    "    from patsy import dmatrices\n",
    "    y, X = dmatrices(formula, df, return_type=\"dataframe\")\n",
    "    import pandas as pd\n",
    "    vif = pd.DataFrame()\n",
    "    from statsmodels.stats.outliers_influence import variance_inflation_factor\n",
    "    vif[\"VIF Factor\"] = [variance_inflation_factor(X.values, i)\n",
    "                        for i in range(X.shape[1])]\n",
    "    vif[\"features\"] = X.columns\n",
    "    vif.sort_values(by=\"VIF Factor\", ascending=False, inplace=True)\n",
    "    return vif"
   ]
  },
  {
   "cell_type": "code",
   "execution_count": null,
   "metadata": {},
   "outputs": [],
   "source": [
    "get_vif(formula, df_goni)"
   ]
  },
  {
   "cell_type": "markdown",
   "metadata": {},
   "source": [
    "## 회귀분석 결과 평가함수"
   ]
  },
  {
   "cell_type": "code",
   "execution_count": null,
   "metadata": {},
   "outputs": [],
   "source": [
    "#회귀분석 평가 함수\n",
    "\n",
    "from sklearn import datasets, linear_model\n",
    "\n",
    "lasso = linear_model.Lasso()\n",
    "model_lasso = lasso.fit(train_x, train_y)\n",
    "model_lasso"
   ]
  },
  {
   "cell_type": "code",
   "execution_count": null,
   "metadata": {},
   "outputs": [],
   "source": [
    "pred_lasso = model_lasso.predict(test_x)\n",
    "pred_lasso[:10]"
   ]
  },
  {
   "cell_type": "code",
   "execution_count": null,
   "metadata": {},
   "outputs": [],
   "source": [
    "# mean_squared_error\n",
    "# MSE 출력하기\n",
    "\n",
    "from sklearn.metrics import mean_squared_error\n",
    "mean_squared_error(test_y,pred_lasso)"
   ]
  },
  {
   "cell_type": "code",
   "execution_count": null,
   "metadata": {},
   "outputs": [],
   "source": [
    "# RMSE 모델 \n",
    "import math\n",
    "\n",
    "rmse_test = math.sqrt(mean_squared_error(test_y, pred_lasso))\n",
    "rmse_test"
   ]
  },
  {
   "cell_type": "code",
   "execution_count": null,
   "metadata": {},
   "outputs": [],
   "source": [
    "# R2_score\n",
    "\n",
    "from sklearn.metrics import r2_score\n",
    "r2_score(test_y,pred_lasso)"
   ]
  },
  {
   "cell_type": "code",
   "execution_count": null,
   "metadata": {},
   "outputs": [],
   "source": [
    "# MAE Error\n",
    "\n",
    "from sklearn.metrics import mean_absolute_error\n",
    "mean_absolute_error(test_y,pred_lasso)"
   ]
  },
  {
   "cell_type": "code",
   "execution_count": null,
   "metadata": {},
   "outputs": [],
   "source": [
    "df_goni"
   ]
  },
  {
   "cell_type": "code",
   "execution_count": null,
   "metadata": {},
   "outputs": [],
   "source": [
    "df_one_goni = df_safeonly.iloc[:,0:3]"
   ]
  },
  {
   "cell_type": "code",
   "execution_count": null,
   "metadata": {},
   "outputs": [],
   "source": [
    "df_one_goni[\"GOUT_SAFE_CENTER_NM\"].unique()"
   ]
  },
  {
   "cell_type": "code",
   "execution_count": null,
   "metadata": {},
   "outputs": [],
   "source": [
    "df_one1 = pd.get_dummies(df_one_goni.GOUT_SAFE_CENTER_NM)"
   ]
  },
  {
   "cell_type": "code",
   "execution_count": null,
   "metadata": {},
   "outputs": [],
   "source": [
    "df_one2 = pd.get_dummies(df_one_goni.GOUT_FIRESTTN_NM)"
   ]
  },
  {
   "cell_type": "code",
   "execution_count": null,
   "metadata": {},
   "outputs": [],
   "source": [
    "df_one_safe = pd.concat([df_one_goni, df_one1], axis=1)"
   ]
  },
  {
   "cell_type": "code",
   "execution_count": null,
   "metadata": {},
   "outputs": [],
   "source": [
    "df_safe_done.count()"
   ]
  },
  {
   "cell_type": "code",
   "execution_count": null,
   "metadata": {},
   "outputs": [],
   "source": [
    "df_one_fire = pd.concat([df_one_goni, df_one2], axis=1)"
   ]
  },
  {
   "cell_type": "code",
   "execution_count": null,
   "metadata": {},
   "outputs": [],
   "source": [
    "df_fire_done = df_one_fire.drop(['GOUT_FIRESTTN_NM','GOUT_SAFE_CENTER_NM'], axis=1)"
   ]
  },
  {
   "cell_type": "code",
   "execution_count": null,
   "metadata": {},
   "outputs": [],
   "source": [
    "df_safe_done = df_one_safe.drop(['GOUT_FIRESTTN_NM','GOUT_SAFE_CENTER_NM'], axis=1)"
   ]
  },
  {
   "cell_type": "code",
   "execution_count": null,
   "metadata": {},
   "outputs": [],
   "source": [
    "df_safe_done.to_csv(\"aid_onehot_center.csv\", encoding=\"utf-8-sig\", index = False)\n",
    "df_fire_done.to_csv(\"aid_onehot_fire.csv\", encoding=\"utf-8-sig\", index = False)"
   ]
  },
  {
   "cell_type": "markdown",
   "metadata": {},
   "source": [
    " ### 분석기법 다변화\n"
   ]
  },
  {
   "cell_type": "code",
   "execution_count": null,
   "metadata": {},
   "outputs": [],
   "source": []
  },
  {
   "cell_type": "code",
   "execution_count": null,
   "metadata": {},
   "outputs": [],
   "source": []
  },
  {
   "cell_type": "code",
   "execution_count": null,
   "metadata": {},
   "outputs": [],
   "source": []
  },
  {
   "cell_type": "code",
   "execution_count": null,
   "metadata": {},
   "outputs": [],
   "source": [
    "aid4 = pd.read_csv('location_center.csv')\n",
    "aid4.to_csv(\"location_real.csv\", encoding=\"utf-8-sig\", index = False)"
   ]
  },
  {
   "cell_type": "code",
   "execution_count": null,
   "metadata": {},
   "outputs": [],
   "source": []
  },
  {
   "cell_type": "code",
   "execution_count": 3,
   "metadata": {
    "ExecuteTime": {
     "end_time": "2021-04-06T08:25:43.601626Z",
     "start_time": "2021-04-06T08:25:43.598629Z"
    }
   },
   "outputs": [],
   "source": [
    "a = \"ONSPOT_DSTN, GOUT_FIRESTTN_NM, GOUT_SAFE_CENTER_NM, STATMNT_TM,EMRLF_EMD_NM, JURISD_DIV_NM_CNT, JURISD_DIV_NM_OUT\"\n",
    "b= a.lower()"
   ]
  },
  {
   "cell_type": "code",
   "execution_count": 4,
   "metadata": {
    "ExecuteTime": {
     "end_time": "2021-04-06T08:25:44.129472Z",
     "start_time": "2021-04-06T08:25:44.124474Z"
    }
   },
   "outputs": [
    {
     "data": {
      "text/plain": [
       "'onspot_dstn, gout_firesttn_nm, gout_safe_center_nm, statmnt_tm,emrlf_emd_nm, jurisd_div_nm_cnt, jurisd_div_nm_out'"
      ]
     },
     "execution_count": 4,
     "metadata": {},
     "output_type": "execute_result"
    }
   ],
   "source": [
    "b"
   ]
  },
  {
   "cell_type": "code",
   "execution_count": null,
   "metadata": {},
   "outputs": [],
   "source": []
  },
  {
   "cell_type": "code",
   "execution_count": null,
   "metadata": {},
   "outputs": [],
   "source": []
  }
 ],
 "metadata": {
  "kernelspec": {
   "display_name": "Python 3",
   "language": "python",
   "name": "python3"
  },
  "language_info": {
   "codemirror_mode": {
    "name": "ipython",
    "version": 3
   },
   "file_extension": ".py",
   "mimetype": "text/x-python",
   "name": "python",
   "nbconvert_exporter": "python",
   "pygments_lexer": "ipython3",
   "version": "3.8.5"
  },
  "toc": {
   "base_numbering": 1,
   "nav_menu": {},
   "number_sections": true,
   "sideBar": true,
   "skip_h1_title": false,
   "title_cell": "Table of Contents",
   "title_sidebar": "Contents",
   "toc_cell": false,
   "toc_position": {},
   "toc_section_display": true,
   "toc_window_display": false
  }
 },
 "nbformat": 4,
 "nbformat_minor": 4
}
