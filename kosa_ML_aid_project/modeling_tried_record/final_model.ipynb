{
 "cells": [
  {
   "cell_type": "code",
   "execution_count": 28,
   "metadata": {
    "ExecuteTime": {
     "end_time": "2021-04-12T05:54:10.467609Z",
     "start_time": "2021-04-12T05:54:10.452603Z"
    }
   },
   "outputs": [],
   "source": [
    "import matplotlib.pyplot as plt\n",
    "import pandas as pd\n",
    "import numpy as np\n",
    "from sklearn.model_selection import train_test_split\n",
    "from sklearn.model_selection import cross_val_score\n",
    "import math\n",
    "from sklearn.metrics import mean_squared_error\n",
    "from sklearn.metrics import mean_absolute_error\n",
    "from sklearn.metrics import r2_score\n",
    "from sklearn.decomposition import PCA\n",
    "import pickle"
   ]
  },
  {
   "cell_type": "code",
   "execution_count": 29,
   "metadata": {
    "ExecuteTime": {
     "end_time": "2021-04-12T05:54:21.884624Z",
     "start_time": "2021-04-12T05:54:19.484998Z"
    }
   },
   "outputs": [],
   "source": [
    "data = pd.read_csv(\"C:/Users/COM/KOSA_python/Project/MachineLearning_Project/soyoung_0407.csv\", encoding='UTF-8')\n",
    "data.drop(\"PK\", axis=1, inplace=True)"
   ]
  },
  {
   "cell_type": "code",
   "execution_count": 31,
   "metadata": {
    "ExecuteTime": {
     "end_time": "2021-04-12T05:56:34.827403Z",
     "start_time": "2021-04-12T05:56:34.802426Z"
    }
   },
   "outputs": [
    {
     "data": {
      "text/html": [
       "<div>\n",
       "<style scoped>\n",
       "    .dataframe tbody tr th:only-of-type {\n",
       "        vertical-align: middle;\n",
       "    }\n",
       "\n",
       "    .dataframe tbody tr th {\n",
       "        vertical-align: top;\n",
       "    }\n",
       "\n",
       "    .dataframe thead th {\n",
       "        text-align: right;\n",
       "    }\n",
       "</style>\n",
       "<table border=\"1\" class=\"dataframe\">\n",
       "  <thead>\n",
       "    <tr style=\"text-align: right;\">\n",
       "      <th></th>\n",
       "      <th>GOUT_SAFE_CENTER_NM</th>\n",
       "      <th>ONSPOT_DSTN</th>\n",
       "      <th>EMRLF_EMD_NM</th>\n",
       "      <th>RELIF_OCCURPLC_TYPE</th>\n",
       "      <th>STATMNT_TM</th>\n",
       "      <th>JURISD_DIV_NM_CNT</th>\n",
       "      <th>CONSCS_STATE_TYPE</th>\n",
       "      <th>MOVE_TM</th>\n",
       "    </tr>\n",
       "  </thead>\n",
       "  <tbody>\n",
       "    <tr>\n",
       "      <th>3765053</th>\n",
       "      <td>57</td>\n",
       "      <td>1.4</td>\n",
       "      <td>109</td>\n",
       "      <td>0</td>\n",
       "      <td>20</td>\n",
       "      <td>1</td>\n",
       "      <td>0</td>\n",
       "      <td>8.0</td>\n",
       "    </tr>\n",
       "    <tr>\n",
       "      <th>3765054</th>\n",
       "      <td>57</td>\n",
       "      <td>4.3</td>\n",
       "      <td>198</td>\n",
       "      <td>6</td>\n",
       "      <td>16</td>\n",
       "      <td>1</td>\n",
       "      <td>0</td>\n",
       "      <td>16.0</td>\n",
       "    </tr>\n",
       "    <tr>\n",
       "      <th>3765055</th>\n",
       "      <td>57</td>\n",
       "      <td>2.3</td>\n",
       "      <td>737</td>\n",
       "      <td>8</td>\n",
       "      <td>18</td>\n",
       "      <td>1</td>\n",
       "      <td>0</td>\n",
       "      <td>14.0</td>\n",
       "    </tr>\n",
       "    <tr>\n",
       "      <th>3765056</th>\n",
       "      <td>57</td>\n",
       "      <td>2.3</td>\n",
       "      <td>737</td>\n",
       "      <td>5</td>\n",
       "      <td>23</td>\n",
       "      <td>1</td>\n",
       "      <td>0</td>\n",
       "      <td>9.0</td>\n",
       "    </tr>\n",
       "    <tr>\n",
       "      <th>3765057</th>\n",
       "      <td>57</td>\n",
       "      <td>0.1</td>\n",
       "      <td>264</td>\n",
       "      <td>0</td>\n",
       "      <td>4</td>\n",
       "      <td>1</td>\n",
       "      <td>0</td>\n",
       "      <td>8.0</td>\n",
       "    </tr>\n",
       "  </tbody>\n",
       "</table>\n",
       "</div>"
      ],
      "text/plain": [
       "         GOUT_SAFE_CENTER_NM  ONSPOT_DSTN  EMRLF_EMD_NM  RELIF_OCCURPLC_TYPE  \\\n",
       "3765053                   57          1.4           109                    0   \n",
       "3765054                   57          4.3           198                    6   \n",
       "3765055                   57          2.3           737                    8   \n",
       "3765056                   57          2.3           737                    5   \n",
       "3765057                   57          0.1           264                    0   \n",
       "\n",
       "         STATMNT_TM  JURISD_DIV_NM_CNT  CONSCS_STATE_TYPE  MOVE_TM  \n",
       "3765053          20                  1                  0      8.0  \n",
       "3765054          16                  1                  0     16.0  \n",
       "3765055          18                  1                  0     14.0  \n",
       "3765056          23                  1                  0      9.0  \n",
       "3765057           4                  1                  0      8.0  "
      ]
     },
     "execution_count": 31,
     "metadata": {},
     "output_type": "execute_result"
    }
   ],
   "source": [
    "data.tail()"
   ]
  },
  {
   "cell_type": "code",
   "execution_count": null,
   "metadata": {},
   "outputs": [],
   "source": []
  },
  {
   "cell_type": "code",
   "execution_count": 14,
   "metadata": {
    "ExecuteTime": {
     "end_time": "2021-04-07T07:11:56.477342Z",
     "start_time": "2021-04-07T07:11:56.102563Z"
    }
   },
   "outputs": [],
   "source": [
    "X = np.array(data.iloc[:, :-1])\n",
    "y = np.array(data.iloc[:,-1])\n",
    "# print(\"사용한 독립변수\", X.columns)\n",
    "# print(\"사용한 종속변수\", y.name)"
   ]
  },
  {
   "cell_type": "code",
   "execution_count": 32,
   "metadata": {
    "ExecuteTime": {
     "end_time": "2021-04-12T05:56:44.946238Z",
     "start_time": "2021-04-12T05:56:44.778323Z"
    }
   },
   "outputs": [],
   "source": [
    "X1 = data.iloc[:, :-1]\n",
    "y1 = data.iloc[:,-1]\n",
    "# print(\"사용한 독립변수\", X.columns)\n",
    "# print(\"사용한 종속변수\", y.name)"
   ]
  },
  {
   "cell_type": "code",
   "execution_count": 19,
   "metadata": {
    "ExecuteTime": {
     "end_time": "2021-04-07T07:17:48.502863Z",
     "start_time": "2021-04-07T07:17:48.464895Z"
    }
   },
   "outputs": [
    {
     "data": {
      "text/plain": [
       "array([[1.50e+01, 1.76e+02, 4.00e+00, ..., 0.00e+00, 4.00e+00, 1.00e+00],\n",
       "       [1.50e+01, 1.57e+02, 2.00e+00, ..., 4.00e+00, 2.20e+01, 1.00e+00],\n",
       "       [1.50e+01, 1.57e+02, 2.00e+00, ..., 0.00e+00, 9.00e+00, 1.00e+00],\n",
       "       ...,\n",
       "       [7.00e+00, 5.70e+01, 2.30e+00, ..., 8.00e+00, 1.80e+01, 1.00e+00],\n",
       "       [7.00e+00, 5.70e+01, 2.30e+00, ..., 5.00e+00, 2.30e+01, 1.00e+00],\n",
       "       [7.00e+00, 5.70e+01, 1.00e-01, ..., 0.00e+00, 4.00e+00, 1.00e+00]])"
      ]
     },
     "execution_count": 19,
     "metadata": {},
     "output_type": "execute_result"
    }
   ],
   "source": [
    "X"
   ]
  },
  {
   "cell_type": "code",
   "execution_count": 16,
   "metadata": {
    "ExecuteTime": {
     "end_time": "2021-04-07T07:12:02.120652Z",
     "start_time": "2021-04-07T07:12:01.410064Z"
    }
   },
   "outputs": [],
   "source": [
    "train_X, test_X, train_y, test_y = train_test_split(X,y,test_size=0.3)"
   ]
  },
  {
   "cell_type": "code",
   "execution_count": 33,
   "metadata": {
    "ExecuteTime": {
     "end_time": "2021-04-12T05:56:49.214084Z",
     "start_time": "2021-04-12T05:56:48.326591Z"
    }
   },
   "outputs": [],
   "source": [
    "train_X1, test_X1, train_y1, test_y1 = train_test_split(X1,y1,test_size=0.3)"
   ]
  },
  {
   "cell_type": "code",
   "execution_count": 17,
   "metadata": {
    "ExecuteTime": {
     "end_time": "2021-04-07T07:13:36.278391Z",
     "start_time": "2021-04-07T07:12:04.541298Z"
    }
   },
   "outputs": [],
   "source": [
    "from xgboost import XGBRegressor\n",
    "df_model = XGBRegressor().fit(train_X, train_y)"
   ]
  },
  {
   "cell_type": "code",
   "execution_count": 18,
   "metadata": {
    "ExecuteTime": {
     "end_time": "2021-04-07T07:13:39.853393Z",
     "start_time": "2021-04-07T07:13:39.789427Z"
    }
   },
   "outputs": [],
   "source": [
    "pickle.dump(df_model,open('data2.pkl', 'wb'))"
   ]
  },
  {
   "cell_type": "code",
   "execution_count": 20,
   "metadata": {
    "ExecuteTime": {
     "end_time": "2021-04-07T07:19:41.440299Z",
     "start_time": "2021-04-07T07:19:39.677310Z"
    }
   },
   "outputs": [
    {
     "name": "stdout",
     "output_type": "stream",
     "text": [
      "nupy MAE :  2.0150241206305313\n"
     ]
    }
   ],
   "source": [
    "print('nupy MAE : ', mean_absolute_error(train_y, df_model.predict(train_X)))"
   ]
  },
  {
   "cell_type": "code",
   "execution_count": 23,
   "metadata": {
    "ExecuteTime": {
     "end_time": "2021-04-07T07:22:03.550831Z",
     "start_time": "2021-04-07T07:22:03.450860Z"
    }
   },
   "outputs": [],
   "source": [
    "aaa_model = pickle.load(open('data2.pkl', 'rb'))\n",
    "bbb_model = pickle.load(open('data.pkl', 'rb'))"
   ]
  },
  {
   "cell_type": "code",
   "execution_count": 27,
   "metadata": {
    "ExecuteTime": {
     "end_time": "2021-04-07T07:23:18.446516Z",
     "start_time": "2021-04-07T07:23:15.125421Z"
    }
   },
   "outputs": [
    {
     "name": "stdout",
     "output_type": "stream",
     "text": [
      "nupy MAE :  2.0150241206305313\n",
      "nupy MAE :  2.0169198199641794\n"
     ]
    }
   ],
   "source": [
    "print('nupy MAE : ', mean_absolute_error(train_y, aaa_model.predict(train_X)))\n",
    "print('nupy MAE : ', mean_absolute_error(train_y1, bbb_model.predict(train_X1)))"
   ]
  },
  {
   "cell_type": "code",
   "execution_count": null,
   "metadata": {},
   "outputs": [],
   "source": []
  }
 ],
 "metadata": {
  "kernelspec": {
   "display_name": "Python 3",
   "language": "python",
   "name": "python3"
  },
  "language_info": {
   "codemirror_mode": {
    "name": "ipython",
    "version": 3
   },
   "file_extension": ".py",
   "mimetype": "text/x-python",
   "name": "python",
   "nbconvert_exporter": "python",
   "pygments_lexer": "ipython3",
   "version": "3.8.5"
  },
  "toc": {
   "base_numbering": 1,
   "nav_menu": {},
   "number_sections": true,
   "sideBar": true,
   "skip_h1_title": false,
   "title_cell": "Table of Contents",
   "title_sidebar": "Contents",
   "toc_cell": false,
   "toc_position": {},
   "toc_section_display": true,
   "toc_window_display": false
  }
 },
 "nbformat": 4,
 "nbformat_minor": 4
}
